{
 "cells": [
  {
   "cell_type": "markdown",
   "id": "85b1b7c8",
   "metadata": {
    "papermill": {
     "duration": 0.031247,
     "end_time": "2022-02-23T22:38:13.983198",
     "exception": false,
     "start_time": "2022-02-23T22:38:13.951951",
     "status": "completed"
    },
    "tags": []
   },
   "source": [
    "**This notebook is an exercise in the [Intermediate Machine Learning](https://www.kaggle.com/learn/intermediate-machine-learning) course.  You can reference the tutorial at [this link](https://www.kaggle.com/alexisbcook/missing-values).**\n",
    "\n",
    "---\n"
   ]
  },
  {
   "cell_type": "markdown",
   "id": "381abc98",
   "metadata": {
    "papermill": {
     "duration": 0.029226,
     "end_time": "2022-02-23T22:38:14.042973",
     "exception": false,
     "start_time": "2022-02-23T22:38:14.013747",
     "status": "completed"
    },
    "tags": []
   },
   "source": [
    "Now it's your turn to test your new knowledge of **missing values** handling. You'll probably find it makes a big difference.\n",
    "\n",
    "# Setup\n",
    "\n",
    "The questions will give you feedback on your work. Run the following cell to set up the feedback system."
   ]
  },
  {
   "cell_type": "code",
   "execution_count": 1,
   "id": "40898a84",
   "metadata": {
    "execution": {
     "iopub.execute_input": "2022-02-23T22:38:14.116825Z",
     "iopub.status.busy": "2022-02-23T22:38:14.116095Z",
     "iopub.status.idle": "2022-02-23T22:38:14.140209Z",
     "shell.execute_reply": "2022-02-23T22:38:14.140778Z",
     "shell.execute_reply.started": "2022-02-23T22:27:29.570126Z"
    },
    "papermill": {
     "duration": 0.066999,
     "end_time": "2022-02-23T22:38:14.141074",
     "exception": false,
     "start_time": "2022-02-23T22:38:14.074075",
     "status": "completed"
    },
    "tags": []
   },
   "outputs": [
    {
     "name": "stdout",
     "output_type": "stream",
     "text": [
      "Setup Complete\n"
     ]
    }
   ],
   "source": [
    "# Set up code checking\n",
    "import os\n",
    "if not os.path.exists(\"../input/train.csv\"):\n",
    "    os.symlink(\"../input/home-data-for-ml-course/train.csv\", \"../input/train.csv\")  \n",
    "    os.symlink(\"../input/home-data-for-ml-course/test.csv\", \"../input/test.csv\") \n",
    "from learntools.core import binder\n",
    "binder.bind(globals())\n",
    "from learntools.ml_intermediate.ex2 import *\n",
    "print(\"Setup Complete\")"
   ]
  },
  {
   "cell_type": "markdown",
   "id": "a564bb8b",
   "metadata": {
    "papermill": {
     "duration": 0.029455,
     "end_time": "2022-02-23T22:38:14.202750",
     "exception": false,
     "start_time": "2022-02-23T22:38:14.173295",
     "status": "completed"
    },
    "tags": []
   },
   "source": [
    "In this exercise, you will work with data from the [Housing Prices Competition for Kaggle Learn Users](https://www.kaggle.com/c/home-data-for-ml-course). \n",
    "\n",
    "![Ames Housing dataset image](https://i.imgur.com/lTJVG4e.png)\n",
    "\n",
    "Run the next code cell without changes to load the training and validation sets in `X_train`, `X_valid`, `y_train`, and `y_valid`.  The test set is loaded in `X_test`."
   ]
  },
  {
   "cell_type": "code",
   "execution_count": 2,
   "id": "11b6e6b7",
   "metadata": {
    "execution": {
     "iopub.execute_input": "2022-02-23T22:38:14.269440Z",
     "iopub.status.busy": "2022-02-23T22:38:14.268699Z",
     "iopub.status.idle": "2022-02-23T22:38:15.297881Z",
     "shell.execute_reply": "2022-02-23T22:38:15.298616Z",
     "shell.execute_reply.started": "2022-02-23T22:27:29.619761Z"
    },
    "papermill": {
     "duration": 1.067138,
     "end_time": "2022-02-23T22:38:15.298853",
     "exception": false,
     "start_time": "2022-02-23T22:38:14.231715",
     "status": "completed"
    },
    "tags": []
   },
   "outputs": [
    {
     "name": "stdout",
     "output_type": "stream",
     "text": [
      "        MSSubClass  LotFrontage        LotArea  OverallQual  OverallCond  \\\n",
      "count  1460.000000  1201.000000    1460.000000  1460.000000  1460.000000   \n",
      "mean     56.897260    70.049958   10516.828082     6.099315     5.575342   \n",
      "std      42.300571    24.284752    9981.264932     1.382997     1.112799   \n",
      "min      20.000000    21.000000    1300.000000     1.000000     1.000000   \n",
      "25%      20.000000    59.000000    7553.500000     5.000000     5.000000   \n",
      "50%      50.000000    69.000000    9478.500000     6.000000     5.000000   \n",
      "75%      70.000000    80.000000   11601.500000     7.000000     6.000000   \n",
      "max     190.000000   313.000000  215245.000000    10.000000     9.000000   \n",
      "\n",
      "         YearBuilt  YearRemodAdd   MasVnrArea   BsmtFinSF1   BsmtFinSF2  ...  \\\n",
      "count  1460.000000   1460.000000  1452.000000  1460.000000  1460.000000  ...   \n",
      "mean   1971.267808   1984.865753   103.685262   443.639726    46.549315  ...   \n",
      "std      30.202904     20.645407   181.066207   456.098091   161.319273  ...   \n",
      "min    1872.000000   1950.000000     0.000000     0.000000     0.000000  ...   \n",
      "25%    1954.000000   1967.000000     0.000000     0.000000     0.000000  ...   \n",
      "50%    1973.000000   1994.000000     0.000000   383.500000     0.000000  ...   \n",
      "75%    2000.000000   2004.000000   166.000000   712.250000     0.000000  ...   \n",
      "max    2010.000000   2010.000000  1600.000000  5644.000000  1474.000000  ...   \n",
      "\n",
      "        WoodDeckSF  OpenPorchSF  EnclosedPorch    3SsnPorch  ScreenPorch  \\\n",
      "count  1460.000000  1460.000000    1460.000000  1460.000000  1460.000000   \n",
      "mean     94.244521    46.660274      21.954110     3.409589    15.060959   \n",
      "std     125.338794    66.256028      61.119149    29.317331    55.757415   \n",
      "min       0.000000     0.000000       0.000000     0.000000     0.000000   \n",
      "25%       0.000000     0.000000       0.000000     0.000000     0.000000   \n",
      "50%       0.000000    25.000000       0.000000     0.000000     0.000000   \n",
      "75%     168.000000    68.000000       0.000000     0.000000     0.000000   \n",
      "max     857.000000   547.000000     552.000000   508.000000   480.000000   \n",
      "\n",
      "          PoolArea       MiscVal       MoSold       YrSold      SalePrice  \n",
      "count  1460.000000   1460.000000  1460.000000  1460.000000    1460.000000  \n",
      "mean      2.758904     43.489041     6.321918  2007.815753  180921.195890  \n",
      "std      40.177307    496.123024     2.703626     1.328095   79442.502883  \n",
      "min       0.000000      0.000000     1.000000  2006.000000   34900.000000  \n",
      "25%       0.000000      0.000000     5.000000  2007.000000  129975.000000  \n",
      "50%       0.000000      0.000000     6.000000  2008.000000  163000.000000  \n",
      "75%       0.000000      0.000000     8.000000  2009.000000  214000.000000  \n",
      "max     738.000000  15500.000000    12.000000  2010.000000  755000.000000  \n",
      "\n",
      "[8 rows x 37 columns]\n",
      "        MSSubClass  LotFrontage       LotArea  OverallQual  OverallCond  \\\n",
      "count  1459.000000  1232.000000   1459.000000  1459.000000  1459.000000   \n",
      "mean     57.378341    68.580357   9819.161069     6.078821     5.553804   \n",
      "std      42.746880    22.376841   4955.517327     1.436812     1.113740   \n",
      "min      20.000000    21.000000   1470.000000     1.000000     1.000000   \n",
      "25%      20.000000    58.000000   7391.000000     5.000000     5.000000   \n",
      "50%      50.000000    67.000000   9399.000000     6.000000     5.000000   \n",
      "75%      70.000000    80.000000  11517.500000     7.000000     6.000000   \n",
      "max     190.000000   200.000000  56600.000000    10.000000     9.000000   \n",
      "\n",
      "         YearBuilt  YearRemodAdd   MasVnrArea   BsmtFinSF1   BsmtFinSF2  ...  \\\n",
      "count  1459.000000   1459.000000  1444.000000  1458.000000  1458.000000  ...   \n",
      "mean   1971.357779   1983.662783   100.709141   439.203704    52.619342  ...   \n",
      "std      30.390071     21.130467   177.625900   455.268042   176.753926  ...   \n",
      "min    1879.000000   1950.000000     0.000000     0.000000     0.000000  ...   \n",
      "25%    1953.000000   1963.000000     0.000000     0.000000     0.000000  ...   \n",
      "50%    1973.000000   1992.000000     0.000000   350.500000     0.000000  ...   \n",
      "75%    2001.000000   2004.000000   164.000000   753.500000     0.000000  ...   \n",
      "max    2010.000000   2010.000000  1290.000000  4010.000000  1526.000000  ...   \n",
      "\n",
      "        GarageArea   WoodDeckSF  OpenPorchSF  EnclosedPorch    3SsnPorch  \\\n",
      "count  1458.000000  1459.000000  1459.000000    1459.000000  1459.000000   \n",
      "mean    472.768861    93.174777    48.313914      24.243317     1.794380   \n",
      "std     217.048611   127.744882    68.883364      67.227765    20.207842   \n",
      "min       0.000000     0.000000     0.000000       0.000000     0.000000   \n",
      "25%     318.000000     0.000000     0.000000       0.000000     0.000000   \n",
      "50%     480.000000     0.000000    28.000000       0.000000     0.000000   \n",
      "75%     576.000000   168.000000    72.000000       0.000000     0.000000   \n",
      "max    1488.000000  1424.000000   742.000000    1012.000000   360.000000   \n",
      "\n",
      "       ScreenPorch     PoolArea       MiscVal       MoSold       YrSold  \n",
      "count  1459.000000  1459.000000   1459.000000  1459.000000  1459.000000  \n",
      "mean     17.064428     1.744345     58.167923     6.104181  2007.769705  \n",
      "std      56.609763    30.491646    630.806978     2.722432     1.301740  \n",
      "min       0.000000     0.000000      0.000000     1.000000  2006.000000  \n",
      "25%       0.000000     0.000000      0.000000     4.000000  2007.000000  \n",
      "50%       0.000000     0.000000      0.000000     6.000000  2008.000000  \n",
      "75%       0.000000     0.000000      0.000000     8.000000  2009.000000  \n",
      "max     576.000000   800.000000  17000.000000    12.000000  2010.000000  \n",
      "\n",
      "[8 rows x 36 columns]\n",
      "Checking line\n",
      "\n",
      "None\n",
      "Index(['MSSubClass', 'MSZoning', 'LotFrontage', 'LotArea', 'Street', 'Alley',\n",
      "       'LotShape', 'LandContour', 'Utilities', 'LotConfig', 'LandSlope',\n",
      "       'Neighborhood', 'Condition1', 'Condition2', 'BldgType', 'HouseStyle',\n",
      "       'OverallQual', 'OverallCond', 'YearBuilt', 'YearRemodAdd', 'RoofStyle',\n",
      "       'RoofMatl', 'Exterior1st', 'Exterior2nd', 'MasVnrType', 'MasVnrArea',\n",
      "       'ExterQual', 'ExterCond', 'Foundation', 'BsmtQual', 'BsmtCond',\n",
      "       'BsmtExposure', 'BsmtFinType1', 'BsmtFinSF1', 'BsmtFinType2',\n",
      "       'BsmtFinSF2', 'BsmtUnfSF', 'TotalBsmtSF', 'Heating', 'HeatingQC',\n",
      "       'CentralAir', 'Electrical', '1stFlrSF', '2ndFlrSF', 'LowQualFinSF',\n",
      "       'GrLivArea', 'BsmtFullBath', 'BsmtHalfBath', 'FullBath', 'HalfBath',\n",
      "       'BedroomAbvGr', 'KitchenAbvGr', 'KitchenQual', 'TotRmsAbvGrd',\n",
      "       'Functional', 'Fireplaces', 'FireplaceQu', 'GarageType', 'GarageYrBlt',\n",
      "       'GarageFinish', 'GarageCars', 'GarageArea', 'GarageQual', 'GarageCond',\n",
      "       'PavedDrive', 'WoodDeckSF', 'OpenPorchSF', 'EnclosedPorch', '3SsnPorch',\n",
      "       'ScreenPorch', 'PoolArea', 'PoolQC', 'Fence', 'MiscFeature', 'MiscVal',\n",
      "       'MoSold', 'YrSold', 'SaleType', 'SaleCondition'],\n",
      "      dtype='object')\n",
      "X.columns:\n",
      " Index(['MSSubClass', 'LotFrontage', 'LotArea', 'OverallQual', 'OverallCond',\n",
      "       'YearBuilt', 'YearRemodAdd', 'MasVnrArea', 'BsmtFinSF1', 'BsmtFinSF2',\n",
      "       'BsmtUnfSF', 'TotalBsmtSF', '1stFlrSF', '2ndFlrSF', 'LowQualFinSF',\n",
      "       'GrLivArea', 'BsmtFullBath', 'BsmtHalfBath', 'FullBath', 'HalfBath',\n",
      "       'BedroomAbvGr', 'KitchenAbvGr', 'TotRmsAbvGrd', 'Fireplaces',\n",
      "       'GarageYrBlt', 'GarageCars', 'GarageArea', 'WoodDeckSF', 'OpenPorchSF',\n",
      "       'EnclosedPorch', '3SsnPorch', 'ScreenPorch', 'PoolArea', 'MiscVal',\n",
      "       'MoSold', 'YrSold'],\n",
      "      dtype='object')\n",
      "X_test.columns:\n",
      " Index(['MSSubClass', 'LotFrontage', 'LotArea', 'OverallQual', 'OverallCond',\n",
      "       'YearBuilt', 'YearRemodAdd', 'MasVnrArea', 'BsmtFinSF1', 'BsmtFinSF2',\n",
      "       'BsmtUnfSF', 'TotalBsmtSF', '1stFlrSF', '2ndFlrSF', 'LowQualFinSF',\n",
      "       'GrLivArea', 'BsmtFullBath', 'BsmtHalfBath', 'FullBath', 'HalfBath',\n",
      "       'BedroomAbvGr', 'KitchenAbvGr', 'TotRmsAbvGrd', 'Fireplaces',\n",
      "       'GarageYrBlt', 'GarageCars', 'GarageArea', 'WoodDeckSF', 'OpenPorchSF',\n",
      "       'EnclosedPorch', '3SsnPorch', 'ScreenPorch', 'PoolArea', 'MiscVal',\n",
      "       'MoSold', 'YrSold'],\n",
      "      dtype='object')\n"
     ]
    }
   ],
   "source": [
    "import pandas as pd\n",
    "from sklearn.model_selection import train_test_split\n",
    "\n",
    "# Read the data\n",
    "X_full = pd.read_csv('../input/train.csv', index_col='Id')\n",
    "X_test_full = pd.read_csv('../input/test.csv', index_col='Id')\n",
    "# Train set is used to build model, including train and validation\n",
    "print(X_full.describe())\n",
    "# Test set has not SalePrice\n",
    "print(X_test_full.describe())\n",
    "\n",
    "# Remove rows with missing target\n",
    "X_full.dropna(axis=0, subset=['SalePrice'], inplace=True)\n",
    "print('Checking line\\n')\n",
    "print(X_full.dropna(axis=0, subset=['SalePrice'], inplace=True))\n",
    "\n",
    "# Separate target from predictors\n",
    "# Target is SalePrice\n",
    "y = X_full.SalePrice\n",
    "# SalePrice is no more in X_full\n",
    "X_full.drop(['SalePrice'], axis=1, inplace=True)\n",
    "print(X_full.columns)\n",
    "\n",
    "# To keep things simple, we'll use only numerical predictors\n",
    "# We only care of those data going with \"numbers\"\n",
    "X      =      X_full.select_dtypes(exclude=['object'])\n",
    "X_test = X_test_full.select_dtypes(exclude=['object'])\n",
    "print('X.columns:\\n ' + str(X.columns))\n",
    "print('X_test.columns:\\n ' + str(X_test.columns))\n",
    "\n",
    "# Break off validation set from training data\n",
    "X_train, X_valid, y_train, y_valid = train_test_split(X, y, \n",
    "                                                      train_size=0.8, \n",
    "                                                      test_size=0.2,\n",
    "                                                      random_state=0)"
   ]
  },
  {
   "cell_type": "markdown",
   "id": "34e6acd3",
   "metadata": {
    "papermill": {
     "duration": 0.044471,
     "end_time": "2022-02-23T22:38:15.377369",
     "exception": false,
     "start_time": "2022-02-23T22:38:15.332898",
     "status": "completed"
    },
    "tags": []
   },
   "source": [
    "Use the next code cell to print the first five rows of the data."
   ]
  },
  {
   "cell_type": "code",
   "execution_count": 3,
   "id": "82ac229f",
   "metadata": {
    "execution": {
     "iopub.execute_input": "2022-02-23T22:38:15.497707Z",
     "iopub.status.busy": "2022-02-23T22:38:15.496847Z",
     "iopub.status.idle": "2022-02-23T22:38:15.523345Z",
     "shell.execute_reply": "2022-02-23T22:38:15.528048Z",
     "shell.execute_reply.started": "2022-02-23T22:27:30.643024Z"
    },
    "papermill": {
     "duration": 0.092078,
     "end_time": "2022-02-23T22:38:15.528240",
     "exception": false,
     "start_time": "2022-02-23T22:38:15.436162",
     "status": "completed"
    },
    "tags": []
   },
   "outputs": [
    {
     "data": {
      "text/html": [
       "<div>\n",
       "<style scoped>\n",
       "    .dataframe tbody tr th:only-of-type {\n",
       "        vertical-align: middle;\n",
       "    }\n",
       "\n",
       "    .dataframe tbody tr th {\n",
       "        vertical-align: top;\n",
       "    }\n",
       "\n",
       "    .dataframe thead th {\n",
       "        text-align: right;\n",
       "    }\n",
       "</style>\n",
       "<table border=\"1\" class=\"dataframe\">\n",
       "  <thead>\n",
       "    <tr style=\"text-align: right;\">\n",
       "      <th></th>\n",
       "      <th>MSSubClass</th>\n",
       "      <th>LotFrontage</th>\n",
       "      <th>LotArea</th>\n",
       "      <th>OverallQual</th>\n",
       "      <th>OverallCond</th>\n",
       "      <th>YearBuilt</th>\n",
       "      <th>YearRemodAdd</th>\n",
       "      <th>MasVnrArea</th>\n",
       "      <th>BsmtFinSF1</th>\n",
       "      <th>BsmtFinSF2</th>\n",
       "      <th>...</th>\n",
       "      <th>GarageArea</th>\n",
       "      <th>WoodDeckSF</th>\n",
       "      <th>OpenPorchSF</th>\n",
       "      <th>EnclosedPorch</th>\n",
       "      <th>3SsnPorch</th>\n",
       "      <th>ScreenPorch</th>\n",
       "      <th>PoolArea</th>\n",
       "      <th>MiscVal</th>\n",
       "      <th>MoSold</th>\n",
       "      <th>YrSold</th>\n",
       "    </tr>\n",
       "    <tr>\n",
       "      <th>Id</th>\n",
       "      <th></th>\n",
       "      <th></th>\n",
       "      <th></th>\n",
       "      <th></th>\n",
       "      <th></th>\n",
       "      <th></th>\n",
       "      <th></th>\n",
       "      <th></th>\n",
       "      <th></th>\n",
       "      <th></th>\n",
       "      <th></th>\n",
       "      <th></th>\n",
       "      <th></th>\n",
       "      <th></th>\n",
       "      <th></th>\n",
       "      <th></th>\n",
       "      <th></th>\n",
       "      <th></th>\n",
       "      <th></th>\n",
       "      <th></th>\n",
       "      <th></th>\n",
       "    </tr>\n",
       "  </thead>\n",
       "  <tbody>\n",
       "    <tr>\n",
       "      <th>619</th>\n",
       "      <td>20</td>\n",
       "      <td>90.0</td>\n",
       "      <td>11694</td>\n",
       "      <td>9</td>\n",
       "      <td>5</td>\n",
       "      <td>2007</td>\n",
       "      <td>2007</td>\n",
       "      <td>452.0</td>\n",
       "      <td>48</td>\n",
       "      <td>0</td>\n",
       "      <td>...</td>\n",
       "      <td>774</td>\n",
       "      <td>0</td>\n",
       "      <td>108</td>\n",
       "      <td>0</td>\n",
       "      <td>0</td>\n",
       "      <td>260</td>\n",
       "      <td>0</td>\n",
       "      <td>0</td>\n",
       "      <td>7</td>\n",
       "      <td>2007</td>\n",
       "    </tr>\n",
       "    <tr>\n",
       "      <th>871</th>\n",
       "      <td>20</td>\n",
       "      <td>60.0</td>\n",
       "      <td>6600</td>\n",
       "      <td>5</td>\n",
       "      <td>5</td>\n",
       "      <td>1962</td>\n",
       "      <td>1962</td>\n",
       "      <td>0.0</td>\n",
       "      <td>0</td>\n",
       "      <td>0</td>\n",
       "      <td>...</td>\n",
       "      <td>308</td>\n",
       "      <td>0</td>\n",
       "      <td>0</td>\n",
       "      <td>0</td>\n",
       "      <td>0</td>\n",
       "      <td>0</td>\n",
       "      <td>0</td>\n",
       "      <td>0</td>\n",
       "      <td>8</td>\n",
       "      <td>2009</td>\n",
       "    </tr>\n",
       "    <tr>\n",
       "      <th>93</th>\n",
       "      <td>30</td>\n",
       "      <td>80.0</td>\n",
       "      <td>13360</td>\n",
       "      <td>5</td>\n",
       "      <td>7</td>\n",
       "      <td>1921</td>\n",
       "      <td>2006</td>\n",
       "      <td>0.0</td>\n",
       "      <td>713</td>\n",
       "      <td>0</td>\n",
       "      <td>...</td>\n",
       "      <td>432</td>\n",
       "      <td>0</td>\n",
       "      <td>0</td>\n",
       "      <td>44</td>\n",
       "      <td>0</td>\n",
       "      <td>0</td>\n",
       "      <td>0</td>\n",
       "      <td>0</td>\n",
       "      <td>8</td>\n",
       "      <td>2009</td>\n",
       "    </tr>\n",
       "    <tr>\n",
       "      <th>818</th>\n",
       "      <td>20</td>\n",
       "      <td>NaN</td>\n",
       "      <td>13265</td>\n",
       "      <td>8</td>\n",
       "      <td>5</td>\n",
       "      <td>2002</td>\n",
       "      <td>2002</td>\n",
       "      <td>148.0</td>\n",
       "      <td>1218</td>\n",
       "      <td>0</td>\n",
       "      <td>...</td>\n",
       "      <td>857</td>\n",
       "      <td>150</td>\n",
       "      <td>59</td>\n",
       "      <td>0</td>\n",
       "      <td>0</td>\n",
       "      <td>0</td>\n",
       "      <td>0</td>\n",
       "      <td>0</td>\n",
       "      <td>7</td>\n",
       "      <td>2008</td>\n",
       "    </tr>\n",
       "    <tr>\n",
       "      <th>303</th>\n",
       "      <td>20</td>\n",
       "      <td>118.0</td>\n",
       "      <td>13704</td>\n",
       "      <td>7</td>\n",
       "      <td>5</td>\n",
       "      <td>2001</td>\n",
       "      <td>2002</td>\n",
       "      <td>150.0</td>\n",
       "      <td>0</td>\n",
       "      <td>0</td>\n",
       "      <td>...</td>\n",
       "      <td>843</td>\n",
       "      <td>468</td>\n",
       "      <td>81</td>\n",
       "      <td>0</td>\n",
       "      <td>0</td>\n",
       "      <td>0</td>\n",
       "      <td>0</td>\n",
       "      <td>0</td>\n",
       "      <td>1</td>\n",
       "      <td>2006</td>\n",
       "    </tr>\n",
       "  </tbody>\n",
       "</table>\n",
       "<p>5 rows × 36 columns</p>\n",
       "</div>"
      ],
      "text/plain": [
       "     MSSubClass  LotFrontage  LotArea  OverallQual  OverallCond  YearBuilt  \\\n",
       "Id                                                                           \n",
       "619          20         90.0    11694            9            5       2007   \n",
       "871          20         60.0     6600            5            5       1962   \n",
       "93           30         80.0    13360            5            7       1921   \n",
       "818          20          NaN    13265            8            5       2002   \n",
       "303          20        118.0    13704            7            5       2001   \n",
       "\n",
       "     YearRemodAdd  MasVnrArea  BsmtFinSF1  BsmtFinSF2  ...  GarageArea  \\\n",
       "Id                                                     ...               \n",
       "619          2007       452.0          48           0  ...         774   \n",
       "871          1962         0.0           0           0  ...         308   \n",
       "93           2006         0.0         713           0  ...         432   \n",
       "818          2002       148.0        1218           0  ...         857   \n",
       "303          2002       150.0           0           0  ...         843   \n",
       "\n",
       "     WoodDeckSF  OpenPorchSF  EnclosedPorch  3SsnPorch  ScreenPorch  PoolArea  \\\n",
       "Id                                                                              \n",
       "619           0          108              0          0          260         0   \n",
       "871           0            0              0          0            0         0   \n",
       "93            0            0             44          0            0         0   \n",
       "818         150           59              0          0            0         0   \n",
       "303         468           81              0          0            0         0   \n",
       "\n",
       "     MiscVal  MoSold  YrSold  \n",
       "Id                            \n",
       "619        0       7    2007  \n",
       "871        0       8    2009  \n",
       "93         0       8    2009  \n",
       "818        0       7    2008  \n",
       "303        0       1    2006  \n",
       "\n",
       "[5 rows x 36 columns]"
      ]
     },
     "execution_count": 3,
     "metadata": {},
     "output_type": "execute_result"
    }
   ],
   "source": [
    "X_train.head()"
   ]
  },
  {
   "cell_type": "markdown",
   "id": "0e538e74",
   "metadata": {
    "papermill": {
     "duration": 0.050069,
     "end_time": "2022-02-23T22:38:15.627343",
     "exception": false,
     "start_time": "2022-02-23T22:38:15.577274",
     "status": "completed"
    },
    "tags": []
   },
   "source": [
    "You can already see a few missing values in the first several rows.  In the next step, you'll obtain a more comprehensive understanding of the missing values in the dataset.\n",
    "\n",
    "# Step 1: Preliminary investigation\n",
    "\n",
    "Run the code cell below without changes."
   ]
  },
  {
   "cell_type": "code",
   "execution_count": 4,
   "id": "2c011c8d",
   "metadata": {
    "execution": {
     "iopub.execute_input": "2022-02-23T22:38:15.730005Z",
     "iopub.status.busy": "2022-02-23T22:38:15.729214Z",
     "iopub.status.idle": "2022-02-23T22:38:15.736286Z",
     "shell.execute_reply": "2022-02-23T22:38:15.737297Z",
     "shell.execute_reply.started": "2022-02-23T22:27:30.670258Z"
    },
    "papermill": {
     "duration": 0.061414,
     "end_time": "2022-02-23T22:38:15.737608",
     "exception": false,
     "start_time": "2022-02-23T22:38:15.676194",
     "status": "completed"
    },
    "tags": []
   },
   "outputs": [
    {
     "name": "stdout",
     "output_type": "stream",
     "text": [
      "(1168, 36)\n",
      "LotFrontage    212\n",
      "MasVnrArea       6\n",
      "GarageYrBlt     58\n",
      "dtype: int64\n"
     ]
    }
   ],
   "source": [
    "# Shape of training data (num_rows, num_columns)\n",
    "print(X_train.shape)\n",
    "\n",
    "# Number of missing values in each column of training data\n",
    "missing_val_count_by_column = (X_train.isnull().sum())\n",
    "print(missing_val_count_by_column[missing_val_count_by_column > 0])"
   ]
  },
  {
   "cell_type": "markdown",
   "id": "8a9b1101",
   "metadata": {
    "papermill": {
     "duration": 0.048647,
     "end_time": "2022-02-23T22:38:15.836559",
     "exception": false,
     "start_time": "2022-02-23T22:38:15.787912",
     "status": "completed"
    },
    "tags": []
   },
   "source": [
    "### Part A\n",
    "\n",
    "Use the above output to answer the questions below."
   ]
  },
  {
   "cell_type": "code",
   "execution_count": 5,
   "id": "2a1008fb",
   "metadata": {
    "execution": {
     "iopub.execute_input": "2022-02-23T22:38:15.944125Z",
     "iopub.status.busy": "2022-02-23T22:38:15.943278Z",
     "iopub.status.idle": "2022-02-23T22:38:15.947806Z",
     "shell.execute_reply": "2022-02-23T22:38:15.948249Z",
     "shell.execute_reply.started": "2022-02-23T22:27:30.682193Z"
    },
    "papermill": {
     "duration": 0.061681,
     "end_time": "2022-02-23T22:38:15.948377",
     "exception": false,
     "start_time": "2022-02-23T22:38:15.886696",
     "status": "completed"
    },
    "tags": []
   },
   "outputs": [
    {
     "data": {
      "application/javascript": [
       "parent.postMessage({\"jupyterEvent\": \"custom.exercise_interaction\", \"data\": {\"outcomeType\": 1, \"valueTowardsCompletion\": 1.0, \"interactionType\": 1, \"questionType\": 1, \"questionId\": \"1.1_InvestigateEquality\", \"learnToolsVersion\": \"0.3.4\", \"failureMessage\": \"\", \"exceptionClass\": \"\", \"trace\": \"\"}}, \"*\")"
      ],
      "text/plain": [
       "<IPython.core.display.Javascript object>"
      ]
     },
     "metadata": {},
     "output_type": "display_data"
    },
    {
     "data": {
      "text/markdown": [
       "<span style=\"color:#33cc33\">Correct</span>"
      ],
      "text/plain": [
       "Correct"
      ]
     },
     "metadata": {},
     "output_type": "display_data"
    }
   ],
   "source": [
    "# Fill in the line below: How many rows are in the training data?\n",
    "num_rows = 1168\n",
    "\n",
    "# Fill in the line below: How many columns in the training data\n",
    "# have missing values?\n",
    "num_cols_with_missing = 3\n",
    "\n",
    "# Fill in the line below: How many missing entries are contained in \n",
    "# all of the training data?\n",
    "tot_missing = 212 + 6 + 58\n",
    "\n",
    "# Check your answers\n",
    "step_1.a.check()"
   ]
  },
  {
   "cell_type": "code",
   "execution_count": 6,
   "id": "4b69fb30",
   "metadata": {
    "execution": {
     "iopub.execute_input": "2022-02-23T22:38:16.017012Z",
     "iopub.status.busy": "2022-02-23T22:38:16.016190Z",
     "iopub.status.idle": "2022-02-23T22:38:16.024026Z",
     "shell.execute_reply": "2022-02-23T22:38:16.024449Z",
     "shell.execute_reply.started": "2022-02-23T22:27:30.695164Z"
    },
    "papermill": {
     "duration": 0.044272,
     "end_time": "2022-02-23T22:38:16.024569",
     "exception": false,
     "start_time": "2022-02-23T22:38:15.980297",
     "status": "completed"
    },
    "tags": []
   },
   "outputs": [
    {
     "data": {
      "application/javascript": [
       "parent.postMessage({\"jupyterEvent\": \"custom.exercise_interaction\", \"data\": {\"interactionType\": 2, \"questionType\": 1, \"questionId\": \"1.1_InvestigateEquality\", \"learnToolsVersion\": \"0.3.4\", \"valueTowardsCompletion\": 0.0, \"failureMessage\": \"\", \"exceptionClass\": \"\", \"trace\": \"\", \"outcomeType\": 4}}, \"*\")"
      ],
      "text/plain": [
       "<IPython.core.display.Javascript object>"
      ]
     },
     "metadata": {},
     "output_type": "display_data"
    },
    {
     "data": {
      "text/markdown": [
       "<span style=\"color:#3366cc\">Hint:</span> Use the output of `X_train.shape` to get the number of rows and columns in the training data.  The `missing_val_count_by_column` Series has an entry for each column in the data, and the output above prints the number of missing entries for each column with at least one missing entry."
      ],
      "text/plain": [
       "Hint: Use the output of `X_train.shape` to get the number of rows and columns in the training data.  The `missing_val_count_by_column` Series has an entry for each column in the data, and the output above prints the number of missing entries for each column with at least one missing entry."
      ]
     },
     "metadata": {},
     "output_type": "display_data"
    },
    {
     "data": {
      "application/javascript": [
       "parent.postMessage({\"jupyterEvent\": \"custom.exercise_interaction\", \"data\": {\"interactionType\": 3, \"questionType\": 1, \"questionId\": \"1.1_InvestigateEquality\", \"learnToolsVersion\": \"0.3.4\", \"valueTowardsCompletion\": 0.0, \"failureMessage\": \"\", \"exceptionClass\": \"\", \"trace\": \"\", \"outcomeType\": 4}}, \"*\")"
      ],
      "text/plain": [
       "<IPython.core.display.Javascript object>"
      ]
     },
     "metadata": {},
     "output_type": "display_data"
    },
    {
     "data": {
      "text/markdown": [
       "<span style=\"color:#33cc99\">Solution:</span> \n",
       "```python\n",
       "# How many rows are in the training data?\n",
       "num_rows = 1168\n",
       "\n",
       "# How many columns in the training data have missing values?\n",
       "num_cols_with_missing = 3\n",
       "\n",
       "# How many missing entries are contained in all of the training data?\n",
       "tot_missing = 212 + 6 + 58\n",
       "\n",
       "```"
      ],
      "text/plain": [
       "Solution: \n",
       "```python\n",
       "# How many rows are in the training data?\n",
       "num_rows = 1168\n",
       "\n",
       "# How many columns in the training data have missing values?\n",
       "num_cols_with_missing = 3\n",
       "\n",
       "# How many missing entries are contained in all of the training data?\n",
       "tot_missing = 212 + 6 + 58\n",
       "\n",
       "```"
      ]
     },
     "metadata": {},
     "output_type": "display_data"
    }
   ],
   "source": [
    "# Lines below will give you a hint or solution code\n",
    "step_1.a.hint()\n",
    "step_1.a.solution()"
   ]
  },
  {
   "cell_type": "markdown",
   "id": "93b42d2e",
   "metadata": {
    "papermill": {
     "duration": 0.033399,
     "end_time": "2022-02-23T22:38:16.091325",
     "exception": false,
     "start_time": "2022-02-23T22:38:16.057926",
     "status": "completed"
    },
    "tags": []
   },
   "source": [
    "### Part B\n",
    "Considering your answers above, what do you think is likely the best approach to dealing with the missing values?"
   ]
  },
  {
   "cell_type": "code",
   "execution_count": 7,
   "id": "62e56649",
   "metadata": {
    "execution": {
     "iopub.execute_input": "2022-02-23T22:38:16.162937Z",
     "iopub.status.busy": "2022-02-23T22:38:16.162114Z",
     "iopub.status.idle": "2022-02-23T22:38:16.167198Z",
     "shell.execute_reply": "2022-02-23T22:38:16.166686Z",
     "shell.execute_reply.started": "2022-02-23T22:27:30.710721Z"
    },
    "papermill": {
     "duration": 0.042302,
     "end_time": "2022-02-23T22:38:16.167317",
     "exception": false,
     "start_time": "2022-02-23T22:38:16.125015",
     "status": "completed"
    },
    "tags": []
   },
   "outputs": [
    {
     "data": {
      "application/javascript": [
       "parent.postMessage({\"jupyterEvent\": \"custom.exercise_interaction\", \"data\": {\"outcomeType\": 1, \"valueTowardsCompletion\": 1.0, \"interactionType\": 1, \"questionType\": 4, \"questionId\": \"1.2_InvestigateThought\", \"learnToolsVersion\": \"0.3.4\", \"failureMessage\": \"\", \"exceptionClass\": \"\", \"trace\": \"\"}}, \"*\")"
      ],
      "text/plain": [
       "<IPython.core.display.Javascript object>"
      ]
     },
     "metadata": {},
     "output_type": "display_data"
    },
    {
     "data": {
      "text/markdown": [
       "<span style=\"color:#33cc33\">Correct:</span> \n",
       "\n",
       "Since there are relatively few missing entries in the data (the column with the greatest percentage of missing values is missing less than 20% of its entries), we can expect that dropping columns is unlikely to yield good results.  This is because we'd be throwing away a lot of valuable data, and so imputation will likely perform better."
      ],
      "text/plain": [
       "Correct: \n",
       "\n",
       "Since there are relatively few missing entries in the data (the column with the greatest percentage of missing values is missing less than 20% of its entries), we can expect that dropping columns is unlikely to yield good results.  This is because we'd be throwing away a lot of valuable data, and so imputation will likely perform better."
      ]
     },
     "metadata": {},
     "output_type": "display_data"
    }
   ],
   "source": [
    "# Check your answer (Run this code cell to receive credit!)\n",
    "step_1.b.check()"
   ]
  },
  {
   "cell_type": "code",
   "execution_count": 8,
   "id": "460e2671",
   "metadata": {
    "execution": {
     "iopub.execute_input": "2022-02-23T22:38:16.241134Z",
     "iopub.status.busy": "2022-02-23T22:38:16.240246Z",
     "iopub.status.idle": "2022-02-23T22:38:16.244411Z",
     "shell.execute_reply": "2022-02-23T22:38:16.244860Z",
     "shell.execute_reply.started": "2022-02-23T22:27:30.720946Z"
    },
    "papermill": {
     "duration": 0.043336,
     "end_time": "2022-02-23T22:38:16.244977",
     "exception": false,
     "start_time": "2022-02-23T22:38:16.201641",
     "status": "completed"
    },
    "tags": []
   },
   "outputs": [
    {
     "data": {
      "application/javascript": [
       "parent.postMessage({\"jupyterEvent\": \"custom.exercise_interaction\", \"data\": {\"interactionType\": 2, \"questionType\": 4, \"questionId\": \"1.2_InvestigateThought\", \"learnToolsVersion\": \"0.3.4\", \"valueTowardsCompletion\": 0.0, \"failureMessage\": \"\", \"exceptionClass\": \"\", \"trace\": \"\", \"outcomeType\": 4}}, \"*\")"
      ],
      "text/plain": [
       "<IPython.core.display.Javascript object>"
      ]
     },
     "metadata": {},
     "output_type": "display_data"
    },
    {
     "data": {
      "text/markdown": [
       "<span style=\"color:#3366cc\">Hint:</span> Does the dataset have a lot of missing values, or just a few?  Would we lose much information if we completely ignored the columns with missing entries?"
      ],
      "text/plain": [
       "Hint: Does the dataset have a lot of missing values, or just a few?  Would we lose much information if we completely ignored the columns with missing entries?"
      ]
     },
     "metadata": {},
     "output_type": "display_data"
    }
   ],
   "source": [
    "step_1.b.hint()"
   ]
  },
  {
   "cell_type": "markdown",
   "id": "be205d01",
   "metadata": {
    "papermill": {
     "duration": 0.035219,
     "end_time": "2022-02-23T22:38:16.315448",
     "exception": false,
     "start_time": "2022-02-23T22:38:16.280229",
     "status": "completed"
    },
    "tags": []
   },
   "source": [
    "To compare different approaches to dealing with missing values, you'll use the same `score_dataset()` function from the tutorial.  This function reports the [mean absolute error](https://en.wikipedia.org/wiki/Mean_absolute_error) (MAE) from a random forest model."
   ]
  },
  {
   "cell_type": "code",
   "execution_count": 9,
   "id": "3521f195",
   "metadata": {
    "execution": {
     "iopub.execute_input": "2022-02-23T22:38:16.392075Z",
     "iopub.status.busy": "2022-02-23T22:38:16.391474Z",
     "iopub.status.idle": "2022-02-23T22:38:16.517218Z",
     "shell.execute_reply": "2022-02-23T22:38:16.516749Z",
     "shell.execute_reply.started": "2022-02-23T22:27:30.732136Z"
    },
    "papermill": {
     "duration": 0.16649,
     "end_time": "2022-02-23T22:38:16.517348",
     "exception": false,
     "start_time": "2022-02-23T22:38:16.350858",
     "status": "completed"
    },
    "tags": []
   },
   "outputs": [],
   "source": [
    "from sklearn.ensemble import RandomForestRegressor\n",
    "from sklearn.metrics import mean_absolute_error\n",
    "\n",
    "# Function for comparing different approaches\n",
    "def score_dataset(X_train, X_valid, y_train, y_valid):\n",
    "    model = RandomForestRegressor(n_estimators=100, random_state=0)\n",
    "    model.fit(X_train, y_train)\n",
    "    preds = model.predict(X_valid)\n",
    "    return mean_absolute_error(y_valid, preds)"
   ]
  },
  {
   "cell_type": "markdown",
   "id": "b44263d9",
   "metadata": {
    "papermill": {
     "duration": 0.035425,
     "end_time": "2022-02-23T22:38:16.588881",
     "exception": false,
     "start_time": "2022-02-23T22:38:16.553456",
     "status": "completed"
    },
    "tags": []
   },
   "source": [
    "# Step 2: Drop columns with missing values\n",
    "\n",
    "In this step, you'll preprocess the data in `X_train` and `X_valid` to remove columns with missing values.  Set the preprocessed DataFrames to `reduced_X_train` and `reduced_X_valid`, respectively.  "
   ]
  },
  {
   "cell_type": "code",
   "execution_count": 10,
   "id": "5d09bde1",
   "metadata": {
    "execution": {
     "iopub.execute_input": "2022-02-23T22:38:16.689770Z",
     "iopub.status.busy": "2022-02-23T22:38:16.688897Z",
     "iopub.status.idle": "2022-02-23T22:38:16.695329Z",
     "shell.execute_reply": "2022-02-23T22:38:16.695892Z",
     "shell.execute_reply.started": "2022-02-23T22:27:30.874975Z"
    },
    "papermill": {
     "duration": 0.071667,
     "end_time": "2022-02-23T22:38:16.696036",
     "exception": false,
     "start_time": "2022-02-23T22:38:16.624369",
     "status": "completed"
    },
    "tags": []
   },
   "outputs": [
    {
     "name": "stdout",
     "output_type": "stream",
     "text": [
      "['LotFrontage', 'MasVnrArea', 'GarageYrBlt']\n"
     ]
    },
    {
     "data": {
      "application/javascript": [
       "parent.postMessage({\"jupyterEvent\": \"custom.exercise_interaction\", \"data\": {\"outcomeType\": 1, \"valueTowardsCompletion\": 1.0, \"interactionType\": 1, \"questionType\": 2, \"questionId\": \"2_DropMissing\", \"learnToolsVersion\": \"0.3.4\", \"failureMessage\": \"\", \"exceptionClass\": \"\", \"trace\": \"\"}}, \"*\")"
      ],
      "text/plain": [
       "<IPython.core.display.Javascript object>"
      ]
     },
     "metadata": {},
     "output_type": "display_data"
    },
    {
     "data": {
      "text/markdown": [
       "<span style=\"color:#33cc33\">Correct</span>"
      ],
      "text/plain": [
       "Correct"
      ]
     },
     "metadata": {},
     "output_type": "display_data"
    }
   ],
   "source": [
    "# Fill in the line below: get names of columns with missing values\n",
    "# Your code here\n",
    "cols_with_missing = [col for col in X_train.columns if X_train[col].isnull().any()]\n",
    "print(cols_with_missing)\n",
    "\n",
    "# Fill in the lines below: drop columns in training and validation data\n",
    "reduced_X_train = X_train.drop(cols_with_missing, axis=1)\n",
    "reduced_X_valid = X_valid.drop(cols_with_missing, axis=1)\n",
    "\n",
    "# Check your answers\n",
    "step_2.check()"
   ]
  },
  {
   "cell_type": "code",
   "execution_count": 11,
   "id": "17e7d19b",
   "metadata": {
    "execution": {
     "iopub.execute_input": "2022-02-23T22:38:16.773947Z",
     "iopub.status.busy": "2022-02-23T22:38:16.773049Z",
     "iopub.status.idle": "2022-02-23T22:38:16.781121Z",
     "shell.execute_reply": "2022-02-23T22:38:16.781521Z",
     "shell.execute_reply.started": "2022-02-23T22:27:30.908273Z"
    },
    "papermill": {
     "duration": 0.048977,
     "end_time": "2022-02-23T22:38:16.781638",
     "exception": false,
     "start_time": "2022-02-23T22:38:16.732661",
     "status": "completed"
    },
    "tags": []
   },
   "outputs": [
    {
     "data": {
      "application/javascript": [
       "parent.postMessage({\"jupyterEvent\": \"custom.exercise_interaction\", \"data\": {\"interactionType\": 2, \"questionType\": 2, \"questionId\": \"2_DropMissing\", \"learnToolsVersion\": \"0.3.4\", \"valueTowardsCompletion\": 0.0, \"failureMessage\": \"\", \"exceptionClass\": \"\", \"trace\": \"\", \"outcomeType\": 4}}, \"*\")"
      ],
      "text/plain": [
       "<IPython.core.display.Javascript object>"
      ]
     },
     "metadata": {},
     "output_type": "display_data"
    },
    {
     "data": {
      "text/markdown": [
       "<span style=\"color:#3366cc\">Hint:</span> Begin by finding the list of columns in the data with missing values.  Then, drop these columns in both the training and validation data with the `drop()` method."
      ],
      "text/plain": [
       "Hint: Begin by finding the list of columns in the data with missing values.  Then, drop these columns in both the training and validation data with the `drop()` method."
      ]
     },
     "metadata": {},
     "output_type": "display_data"
    },
    {
     "data": {
      "application/javascript": [
       "parent.postMessage({\"jupyterEvent\": \"custom.exercise_interaction\", \"data\": {\"interactionType\": 3, \"questionType\": 2, \"questionId\": \"2_DropMissing\", \"learnToolsVersion\": \"0.3.4\", \"valueTowardsCompletion\": 0.0, \"failureMessage\": \"\", \"exceptionClass\": \"\", \"trace\": \"\", \"outcomeType\": 4}}, \"*\")"
      ],
      "text/plain": [
       "<IPython.core.display.Javascript object>"
      ]
     },
     "metadata": {},
     "output_type": "display_data"
    },
    {
     "data": {
      "text/markdown": [
       "<span style=\"color:#33cc99\">Solution:</span> \n",
       "```python\n",
       "# Get names of columns with missing values\n",
       "cols_with_missing = [col for col in X_train.columns\n",
       "                     if X_train[col].isnull().any()]\n",
       "\n",
       "# Drop columns in training and validation data\n",
       "reduced_X_train = X_train.drop(cols_with_missing, axis=1)\n",
       "reduced_X_valid = X_valid.drop(cols_with_missing, axis=1)\n",
       "\n",
       "```"
      ],
      "text/plain": [
       "Solution: \n",
       "```python\n",
       "# Get names of columns with missing values\n",
       "cols_with_missing = [col for col in X_train.columns\n",
       "                     if X_train[col].isnull().any()]\n",
       "\n",
       "# Drop columns in training and validation data\n",
       "reduced_X_train = X_train.drop(cols_with_missing, axis=1)\n",
       "reduced_X_valid = X_valid.drop(cols_with_missing, axis=1)\n",
       "\n",
       "```"
      ]
     },
     "metadata": {},
     "output_type": "display_data"
    }
   ],
   "source": [
    "# Lines below will give you a hint or solution code\n",
    "step_2.hint()\n",
    "step_2.solution()"
   ]
  },
  {
   "cell_type": "markdown",
   "id": "3d920481",
   "metadata": {
    "papermill": {
     "duration": 0.039023,
     "end_time": "2022-02-23T22:38:16.859483",
     "exception": false,
     "start_time": "2022-02-23T22:38:16.820460",
     "status": "completed"
    },
    "tags": []
   },
   "source": [
    "Run the next code cell without changes to obtain the MAE for this approach."
   ]
  },
  {
   "cell_type": "code",
   "execution_count": 12,
   "id": "7acf1631",
   "metadata": {
    "execution": {
     "iopub.execute_input": "2022-02-23T22:38:16.944027Z",
     "iopub.status.busy": "2022-02-23T22:38:16.943210Z",
     "iopub.status.idle": "2022-02-23T22:38:17.942687Z",
     "shell.execute_reply": "2022-02-23T22:38:17.943571Z",
     "shell.execute_reply.started": "2022-02-23T22:27:30.921643Z"
    },
    "papermill": {
     "duration": 1.04458,
     "end_time": "2022-02-23T22:38:17.943733",
     "exception": false,
     "start_time": "2022-02-23T22:38:16.899153",
     "status": "completed"
    },
    "tags": []
   },
   "outputs": [
    {
     "name": "stdout",
     "output_type": "stream",
     "text": [
      "MAE (Drop columns with missing values):\n",
      "17837.82570776256\n"
     ]
    }
   ],
   "source": [
    "print(\"MAE (Drop columns with missing values):\")\n",
    "print(score_dataset(reduced_X_train, reduced_X_valid, y_train, y_valid))"
   ]
  },
  {
   "cell_type": "markdown",
   "id": "a6aa7085",
   "metadata": {
    "papermill": {
     "duration": 0.039698,
     "end_time": "2022-02-23T22:38:18.024896",
     "exception": false,
     "start_time": "2022-02-23T22:38:17.985198",
     "status": "completed"
    },
    "tags": []
   },
   "source": [
    "# Step 3: Imputation\n",
    "\n",
    "### Part A\n",
    "\n",
    "Use the next code cell to impute missing values with the mean value along each column.  Set the preprocessed DataFrames to `imputed_X_train` and `imputed_X_valid`.  Make sure that the column names match those in `X_train` and `X_valid`."
   ]
  },
  {
   "cell_type": "code",
   "execution_count": 13,
   "id": "bdf7c61e",
   "metadata": {
    "execution": {
     "iopub.execute_input": "2022-02-23T22:38:18.110849Z",
     "iopub.status.busy": "2022-02-23T22:38:18.110120Z",
     "iopub.status.idle": "2022-02-23T22:38:18.204652Z",
     "shell.execute_reply": "2022-02-23T22:38:18.205200Z",
     "shell.execute_reply.started": "2022-02-23T22:27:31.947644Z"
    },
    "papermill": {
     "duration": 0.140135,
     "end_time": "2022-02-23T22:38:18.205340",
     "exception": false,
     "start_time": "2022-02-23T22:38:18.065205",
     "status": "completed"
    },
    "tags": []
   },
   "outputs": [
    {
     "name": "stdout",
     "output_type": "stream",
     "text": [
      "         0           1        2    3    4       5       6      7       8   \\\n",
      "0      20.0   90.000000  11694.0  9.0  5.0  2007.0  2007.0  452.0    48.0   \n",
      "1      20.0   60.000000   6600.0  5.0  5.0  1962.0  1962.0    0.0     0.0   \n",
      "2      30.0   80.000000  13360.0  5.0  7.0  1921.0  2006.0    0.0   713.0   \n",
      "3      20.0   69.614017  13265.0  8.0  5.0  2002.0  2002.0  148.0  1218.0   \n",
      "4      20.0  118.000000  13704.0  7.0  5.0  2001.0  2002.0  150.0     0.0   \n",
      "...     ...         ...      ...  ...  ...     ...     ...    ...     ...   \n",
      "1163   60.0   82.000000   9430.0  8.0  5.0  1999.0  1999.0  673.0  1163.0   \n",
      "1164   20.0   60.000000   9600.0  4.0  7.0  1950.0  1995.0    0.0   442.0   \n",
      "1165   90.0   68.000000   8930.0  6.0  5.0  1978.0  1978.0    0.0     0.0   \n",
      "1166  120.0   69.614017   3196.0  7.0  5.0  2003.0  2004.0   18.0     0.0   \n",
      "1167   60.0   58.000000  16770.0  7.0  5.0  1998.0  1998.0   30.0     0.0   \n",
      "\n",
      "       9   ...     26     27     28    29   30     31   32   33    34      35  \n",
      "0     0.0  ...  774.0    0.0  108.0   0.0  0.0  260.0  0.0  0.0   7.0  2007.0  \n",
      "1     0.0  ...  308.0    0.0    0.0   0.0  0.0    0.0  0.0  0.0   8.0  2009.0  \n",
      "2     0.0  ...  432.0    0.0    0.0  44.0  0.0    0.0  0.0  0.0   8.0  2009.0  \n",
      "3     0.0  ...  857.0  150.0   59.0   0.0  0.0    0.0  0.0  0.0   7.0  2008.0  \n",
      "4     0.0  ...  843.0  468.0   81.0   0.0  0.0    0.0  0.0  0.0   1.0  2006.0  \n",
      "...   ...  ...    ...    ...    ...   ...  ...    ...  ...  ...   ...     ...  \n",
      "1163  0.0  ...  856.0    0.0  128.0   0.0  0.0  180.0  0.0  0.0   7.0  2009.0  \n",
      "1164  0.0  ...  436.0  290.0    0.0   0.0  0.0    0.0  0.0  0.0   2.0  2010.0  \n",
      "1165  0.0  ...  539.0    0.0    0.0   0.0  0.0    0.0  0.0  0.0   4.0  2010.0  \n",
      "1166  0.0  ...  420.0  143.0   20.0   0.0  0.0    0.0  0.0  0.0  10.0  2006.0  \n",
      "1167  0.0  ...  486.0    0.0   81.0   0.0  0.0    0.0  0.0  0.0   6.0  2010.0  \n",
      "\n",
      "[1168 rows x 36 columns]\n",
      "        0           1        2     3    4       5       6           7   \\\n",
      "0     20.0   69.614017  32668.0   6.0  3.0  1957.0  1975.0  103.481067   \n",
      "1     50.0   79.000000   9490.0   6.0  7.0  1941.0  1950.0    0.000000   \n",
      "2     50.0   69.614017   7015.0   5.0  4.0  1950.0  1950.0  161.000000   \n",
      "3     60.0   83.000000  10005.0   7.0  5.0  1977.0  1977.0  299.000000   \n",
      "4    160.0   21.000000   1680.0   6.0  5.0  1971.0  1971.0  381.000000   \n",
      "..     ...         ...      ...   ...  ...     ...     ...         ...   \n",
      "287  120.0   32.000000  10846.0   8.0  5.0  1993.0  1993.0    0.000000   \n",
      "288   20.0  105.000000  15431.0  10.0  5.0  2008.0  2008.0  200.000000   \n",
      "289   50.0   60.000000   8520.0   6.0  7.0  1916.0  1950.0    0.000000   \n",
      "290   30.0   50.000000   5330.0   4.0  7.0  1940.0  1950.0    0.000000   \n",
      "291   75.0   60.000000   7200.0   5.0  7.0  1920.0  1996.0    0.000000   \n",
      "\n",
      "         8      9   ...     26     27     28     29   30     31   32   33  \\\n",
      "0    1219.0    0.0  ...  484.0    0.0    0.0  200.0  0.0    0.0  0.0  0.0   \n",
      "1     403.0  165.0  ...  240.0    0.0    0.0   32.0  0.0    0.0  0.0  0.0   \n",
      "2     185.0    0.0  ...  352.0    0.0    0.0  248.0  0.0    0.0  0.0  0.0   \n",
      "3     392.0    0.0  ...  505.0  288.0  117.0    0.0  0.0    0.0  0.0  0.0   \n",
      "4       0.0    0.0  ...  264.0    0.0    0.0    0.0  0.0    0.0  0.0  0.0   \n",
      "..      ...    ...  ...    ...    ...    ...    ...  ...    ...  ...  ...   \n",
      "287  1619.0    0.0  ...  473.0  122.0   30.0    0.0  0.0    0.0  0.0  0.0   \n",
      "288  1767.0  539.0  ...  672.0    0.0   72.0    0.0  0.0  170.0  0.0  0.0   \n",
      "289   168.0  546.0  ...  216.0   88.0   15.0    0.0  0.0    0.0  0.0  0.0   \n",
      "290   280.0    0.0  ...    0.0  164.0    0.0    0.0  0.0    0.0  0.0  0.0   \n",
      "291     0.0    0.0  ...  288.0    0.0    0.0  144.0  0.0    0.0  0.0  0.0   \n",
      "\n",
      "       34      35  \n",
      "0     3.0  2007.0  \n",
      "1     8.0  2006.0  \n",
      "2     7.0  2009.0  \n",
      "3     3.0  2008.0  \n",
      "4     3.0  2010.0  \n",
      "..    ...     ...  \n",
      "287   5.0  2008.0  \n",
      "288   4.0  2009.0  \n",
      "289   8.0  2007.0  \n",
      "290  12.0  2009.0  \n",
      "291   3.0  2007.0  \n",
      "\n",
      "[292 rows x 36 columns]\n",
      "      MSSubClass  LotFrontage  LotArea  OverallQual  OverallCond  YearBuilt  \\\n",
      "0           20.0    90.000000  11694.0          9.0          5.0     2007.0   \n",
      "1           20.0    60.000000   6600.0          5.0          5.0     1962.0   \n",
      "2           30.0    80.000000  13360.0          5.0          7.0     1921.0   \n",
      "3           20.0    69.614017  13265.0          8.0          5.0     2002.0   \n",
      "4           20.0   118.000000  13704.0          7.0          5.0     2001.0   \n",
      "...          ...          ...      ...          ...          ...        ...   \n",
      "1163        60.0    82.000000   9430.0          8.0          5.0     1999.0   \n",
      "1164        20.0    60.000000   9600.0          4.0          7.0     1950.0   \n",
      "1165        90.0    68.000000   8930.0          6.0          5.0     1978.0   \n",
      "1166       120.0    69.614017   3196.0          7.0          5.0     2003.0   \n",
      "1167        60.0    58.000000  16770.0          7.0          5.0     1998.0   \n",
      "\n",
      "      YearRemodAdd  MasVnrArea  BsmtFinSF1  BsmtFinSF2  ...  GarageArea  \\\n",
      "0           2007.0       452.0        48.0         0.0  ...       774.0   \n",
      "1           1962.0         0.0         0.0         0.0  ...       308.0   \n",
      "2           2006.0         0.0       713.0         0.0  ...       432.0   \n",
      "3           2002.0       148.0      1218.0         0.0  ...       857.0   \n",
      "4           2002.0       150.0         0.0         0.0  ...       843.0   \n",
      "...            ...         ...         ...         ...  ...         ...   \n",
      "1163        1999.0       673.0      1163.0         0.0  ...       856.0   \n",
      "1164        1995.0         0.0       442.0         0.0  ...       436.0   \n",
      "1165        1978.0         0.0         0.0         0.0  ...       539.0   \n",
      "1166        2004.0        18.0         0.0         0.0  ...       420.0   \n",
      "1167        1998.0        30.0         0.0         0.0  ...       486.0   \n",
      "\n",
      "      WoodDeckSF  OpenPorchSF  EnclosedPorch  3SsnPorch  ScreenPorch  \\\n",
      "0            0.0        108.0            0.0        0.0        260.0   \n",
      "1            0.0          0.0            0.0        0.0          0.0   \n",
      "2            0.0          0.0           44.0        0.0          0.0   \n",
      "3          150.0         59.0            0.0        0.0          0.0   \n",
      "4          468.0         81.0            0.0        0.0          0.0   \n",
      "...          ...          ...            ...        ...          ...   \n",
      "1163         0.0        128.0            0.0        0.0        180.0   \n",
      "1164       290.0          0.0            0.0        0.0          0.0   \n",
      "1165         0.0          0.0            0.0        0.0          0.0   \n",
      "1166       143.0         20.0            0.0        0.0          0.0   \n",
      "1167         0.0         81.0            0.0        0.0          0.0   \n",
      "\n",
      "      PoolArea  MiscVal  MoSold  YrSold  \n",
      "0          0.0      0.0     7.0  2007.0  \n",
      "1          0.0      0.0     8.0  2009.0  \n",
      "2          0.0      0.0     8.0  2009.0  \n",
      "3          0.0      0.0     7.0  2008.0  \n",
      "4          0.0      0.0     1.0  2006.0  \n",
      "...        ...      ...     ...     ...  \n",
      "1163       0.0      0.0     7.0  2009.0  \n",
      "1164       0.0      0.0     2.0  2010.0  \n",
      "1165       0.0      0.0     4.0  2010.0  \n",
      "1166       0.0      0.0    10.0  2006.0  \n",
      "1167       0.0      0.0     6.0  2010.0  \n",
      "\n",
      "[1168 rows x 36 columns]\n",
      "     MSSubClass  LotFrontage  LotArea  OverallQual  OverallCond  YearBuilt  \\\n",
      "0          20.0    69.614017  32668.0          6.0          3.0     1957.0   \n",
      "1          50.0    79.000000   9490.0          6.0          7.0     1941.0   \n",
      "2          50.0    69.614017   7015.0          5.0          4.0     1950.0   \n",
      "3          60.0    83.000000  10005.0          7.0          5.0     1977.0   \n",
      "4         160.0    21.000000   1680.0          6.0          5.0     1971.0   \n",
      "..          ...          ...      ...          ...          ...        ...   \n",
      "287       120.0    32.000000  10846.0          8.0          5.0     1993.0   \n",
      "288        20.0   105.000000  15431.0         10.0          5.0     2008.0   \n",
      "289        50.0    60.000000   8520.0          6.0          7.0     1916.0   \n",
      "290        30.0    50.000000   5330.0          4.0          7.0     1940.0   \n",
      "291        75.0    60.000000   7200.0          5.0          7.0     1920.0   \n",
      "\n",
      "     YearRemodAdd  MasVnrArea  BsmtFinSF1  BsmtFinSF2  ...  GarageArea  \\\n",
      "0          1975.0  103.481067      1219.0         0.0  ...       484.0   \n",
      "1          1950.0    0.000000       403.0       165.0  ...       240.0   \n",
      "2          1950.0  161.000000       185.0         0.0  ...       352.0   \n",
      "3          1977.0  299.000000       392.0         0.0  ...       505.0   \n",
      "4          1971.0  381.000000         0.0         0.0  ...       264.0   \n",
      "..            ...         ...         ...         ...  ...         ...   \n",
      "287        1993.0    0.000000      1619.0         0.0  ...       473.0   \n",
      "288        2008.0  200.000000      1767.0       539.0  ...       672.0   \n",
      "289        1950.0    0.000000       168.0       546.0  ...       216.0   \n",
      "290        1950.0    0.000000       280.0         0.0  ...         0.0   \n",
      "291        1996.0    0.000000         0.0         0.0  ...       288.0   \n",
      "\n",
      "     WoodDeckSF  OpenPorchSF  EnclosedPorch  3SsnPorch  ScreenPorch  PoolArea  \\\n",
      "0           0.0          0.0          200.0        0.0          0.0       0.0   \n",
      "1           0.0          0.0           32.0        0.0          0.0       0.0   \n",
      "2           0.0          0.0          248.0        0.0          0.0       0.0   \n",
      "3         288.0        117.0            0.0        0.0          0.0       0.0   \n",
      "4           0.0          0.0            0.0        0.0          0.0       0.0   \n",
      "..          ...          ...            ...        ...          ...       ...   \n",
      "287       122.0         30.0            0.0        0.0          0.0       0.0   \n",
      "288         0.0         72.0            0.0        0.0        170.0       0.0   \n",
      "289        88.0         15.0            0.0        0.0          0.0       0.0   \n",
      "290       164.0          0.0            0.0        0.0          0.0       0.0   \n",
      "291         0.0          0.0          144.0        0.0          0.0       0.0   \n",
      "\n",
      "     MiscVal  MoSold  YrSold  \n",
      "0        0.0     3.0  2007.0  \n",
      "1        0.0     8.0  2006.0  \n",
      "2        0.0     7.0  2009.0  \n",
      "3        0.0     3.0  2008.0  \n",
      "4        0.0     3.0  2010.0  \n",
      "..       ...     ...     ...  \n",
      "287      0.0     5.0  2008.0  \n",
      "288      0.0     4.0  2009.0  \n",
      "289      0.0     8.0  2007.0  \n",
      "290      0.0    12.0  2009.0  \n",
      "291      0.0     3.0  2007.0  \n",
      "\n",
      "[292 rows x 36 columns]\n"
     ]
    },
    {
     "data": {
      "application/javascript": [
       "parent.postMessage({\"jupyterEvent\": \"custom.exercise_interaction\", \"data\": {\"outcomeType\": 1, \"valueTowardsCompletion\": 1.0, \"interactionType\": 1, \"questionType\": 2, \"questionId\": \"3.1_ImputeCode\", \"learnToolsVersion\": \"0.3.4\", \"failureMessage\": \"\", \"exceptionClass\": \"\", \"trace\": \"\"}}, \"*\")"
      ],
      "text/plain": [
       "<IPython.core.display.Javascript object>"
      ]
     },
     "metadata": {},
     "output_type": "display_data"
    },
    {
     "data": {
      "text/markdown": [
       "<span style=\"color:#33cc33\">Correct</span>"
      ],
      "text/plain": [
       "Correct"
      ]
     },
     "metadata": {},
     "output_type": "display_data"
    }
   ],
   "source": [
    "from sklearn.impute import SimpleImputer\n",
    "\n",
    "# Fill in the lines below: imputation\n",
    "# Your code here\n",
    "my_imputer = SimpleImputer()\n",
    "\n",
    "imputed_X_train = pd.DataFrame(my_imputer.fit_transform(X_train))\n",
    "imputed_X_valid = pd.DataFrame(my_imputer.transform(X_valid))\n",
    "# Name of columns are all removed due to imputation\n",
    "print(imputed_X_train)\n",
    "print(imputed_X_valid)\n",
    "\n",
    "# Fill in the lines below: imputation removed column names; put them back\n",
    "imputed_X_train.columns = X_train.columns\n",
    "imputed_X_valid.columns = X_valid.columns\n",
    "# Name of columns are all now recovered\n",
    "print(imputed_X_train)\n",
    "print(imputed_X_valid)\n",
    "\n",
    "# Check your answers\n",
    "step_3.a.check()"
   ]
  },
  {
   "cell_type": "code",
   "execution_count": 14,
   "id": "74c15fa3",
   "metadata": {
    "execution": {
     "iopub.execute_input": "2022-02-23T22:38:18.294619Z",
     "iopub.status.busy": "2022-02-23T22:38:18.293654Z",
     "iopub.status.idle": "2022-02-23T22:38:18.304118Z",
     "shell.execute_reply": "2022-02-23T22:38:18.303647Z",
     "shell.execute_reply.started": "2022-02-23T22:27:32.049030Z"
    },
    "papermill": {
     "duration": 0.056598,
     "end_time": "2022-02-23T22:38:18.304232",
     "exception": false,
     "start_time": "2022-02-23T22:38:18.247634",
     "status": "completed"
    },
    "tags": []
   },
   "outputs": [
    {
     "data": {
      "application/javascript": [
       "parent.postMessage({\"jupyterEvent\": \"custom.exercise_interaction\", \"data\": {\"interactionType\": 2, \"questionType\": 2, \"questionId\": \"3.1_ImputeCode\", \"learnToolsVersion\": \"0.3.4\", \"valueTowardsCompletion\": 0.0, \"failureMessage\": \"\", \"exceptionClass\": \"\", \"trace\": \"\", \"outcomeType\": 4}}, \"*\")"
      ],
      "text/plain": [
       "<IPython.core.display.Javascript object>"
      ]
     },
     "metadata": {},
     "output_type": "display_data"
    },
    {
     "data": {
      "text/markdown": [
       "<span style=\"color:#3366cc\">Hint:</span> Begin by defining an instance of the `SimpleImputer()` class.  Then, use the imputer to fit and transform the training data, before transforming the validation data. Get the original column names from the original DataFrames `X_train` and `X_valid`."
      ],
      "text/plain": [
       "Hint: Begin by defining an instance of the `SimpleImputer()` class.  Then, use the imputer to fit and transform the training data, before transforming the validation data. Get the original column names from the original DataFrames `X_train` and `X_valid`."
      ]
     },
     "metadata": {},
     "output_type": "display_data"
    },
    {
     "data": {
      "application/javascript": [
       "parent.postMessage({\"jupyterEvent\": \"custom.exercise_interaction\", \"data\": {\"interactionType\": 3, \"questionType\": 2, \"questionId\": \"3.1_ImputeCode\", \"learnToolsVersion\": \"0.3.4\", \"valueTowardsCompletion\": 0.0, \"failureMessage\": \"\", \"exceptionClass\": \"\", \"trace\": \"\", \"outcomeType\": 4}}, \"*\")"
      ],
      "text/plain": [
       "<IPython.core.display.Javascript object>"
      ]
     },
     "metadata": {},
     "output_type": "display_data"
    },
    {
     "data": {
      "text/markdown": [
       "<span style=\"color:#33cc99\">Solution:</span> \n",
       "```python\n",
       "# Imputation\n",
       "my_imputer = SimpleImputer()\n",
       "imputed_X_train = pd.DataFrame(my_imputer.fit_transform(X_train))\n",
       "imputed_X_valid = pd.DataFrame(my_imputer.transform(X_valid))\n",
       "\n",
       "# Imputation removed column names; put them back\n",
       "imputed_X_train.columns = X_train.columns\n",
       "imputed_X_valid.columns = X_valid.columns\n",
       "\n",
       "```"
      ],
      "text/plain": [
       "Solution: \n",
       "```python\n",
       "# Imputation\n",
       "my_imputer = SimpleImputer()\n",
       "imputed_X_train = pd.DataFrame(my_imputer.fit_transform(X_train))\n",
       "imputed_X_valid = pd.DataFrame(my_imputer.transform(X_valid))\n",
       "\n",
       "# Imputation removed column names; put them back\n",
       "imputed_X_train.columns = X_train.columns\n",
       "imputed_X_valid.columns = X_valid.columns\n",
       "\n",
       "```"
      ]
     },
     "metadata": {},
     "output_type": "display_data"
    }
   ],
   "source": [
    "# Lines below will give you a hint or solution code\n",
    "step_3.a.hint()\n",
    "step_3.a.solution()"
   ]
  },
  {
   "cell_type": "markdown",
   "id": "7a101204",
   "metadata": {
    "papermill": {
     "duration": 0.043765,
     "end_time": "2022-02-23T22:38:18.391595",
     "exception": false,
     "start_time": "2022-02-23T22:38:18.347830",
     "status": "completed"
    },
    "tags": []
   },
   "source": [
    "Run the next code cell without changes to obtain the MAE for this approach."
   ]
  },
  {
   "cell_type": "code",
   "execution_count": 15,
   "id": "c869eadb",
   "metadata": {
    "execution": {
     "iopub.execute_input": "2022-02-23T22:38:18.483962Z",
     "iopub.status.busy": "2022-02-23T22:38:18.483191Z",
     "iopub.status.idle": "2022-02-23T22:38:19.587377Z",
     "shell.execute_reply": "2022-02-23T22:38:19.586547Z",
     "shell.execute_reply.started": "2022-02-23T22:27:32.066161Z"
    },
    "papermill": {
     "duration": 1.152642,
     "end_time": "2022-02-23T22:38:19.587654",
     "exception": false,
     "start_time": "2022-02-23T22:38:18.435012",
     "status": "completed"
    },
    "tags": []
   },
   "outputs": [
    {
     "name": "stdout",
     "output_type": "stream",
     "text": [
      "MAE (Imputation):\n",
      "18062.894611872147\n"
     ]
    }
   ],
   "source": [
    "print(\"MAE (Imputation):\")\n",
    "print(score_dataset(imputed_X_train, imputed_X_valid, y_train, y_valid))"
   ]
  },
  {
   "cell_type": "markdown",
   "id": "201454f8",
   "metadata": {
    "papermill": {
     "duration": 0.046059,
     "end_time": "2022-02-23T22:38:19.680352",
     "exception": false,
     "start_time": "2022-02-23T22:38:19.634293",
     "status": "completed"
    },
    "tags": []
   },
   "source": [
    "### Part B\n",
    "\n",
    "Compare the MAE from each approach.  Does anything surprise you about the results?  Why do you think one approach performed better than the other?"
   ]
  },
  {
   "cell_type": "code",
   "execution_count": 16,
   "id": "1ef8439b",
   "metadata": {
    "execution": {
     "iopub.execute_input": "2022-02-23T22:38:19.775281Z",
     "iopub.status.busy": "2022-02-23T22:38:19.774441Z",
     "iopub.status.idle": "2022-02-23T22:38:19.779350Z",
     "shell.execute_reply": "2022-02-23T22:38:19.779784Z",
     "shell.execute_reply.started": "2022-02-23T22:27:33.278073Z"
    },
    "papermill": {
     "duration": 0.054204,
     "end_time": "2022-02-23T22:38:19.779937",
     "exception": false,
     "start_time": "2022-02-23T22:38:19.725733",
     "status": "completed"
    },
    "tags": []
   },
   "outputs": [
    {
     "data": {
      "application/javascript": [
       "parent.postMessage({\"jupyterEvent\": \"custom.exercise_interaction\", \"data\": {\"outcomeType\": 1, \"valueTowardsCompletion\": 1.0, \"interactionType\": 1, \"questionType\": 4, \"questionId\": \"3.2_ImputeThought\", \"learnToolsVersion\": \"0.3.4\", \"failureMessage\": \"\", \"exceptionClass\": \"\", \"trace\": \"\"}}, \"*\")"
      ],
      "text/plain": [
       "<IPython.core.display.Javascript object>"
      ]
     },
     "metadata": {},
     "output_type": "display_data"
    },
    {
     "data": {
      "text/markdown": [
       "<span style=\"color:#33cc33\">Correct:</span> \n",
       "\n",
       "Given that thre are so few missing values in the dataset, we'd expect imputation to perform better than dropping columns entirely.  However, we see that dropping columns performs slightly better!  While this can probably partially be attributed to noise in the dataset, another potential explanation is that the imputation method is not a great match to this dataset.  That is, maybe instead of filling in the mean value, it makes more sense to set every missing value to a value of 0, to fill in the most frequently encountered value, or to use some other method.  For instance, consider the `GarageYrBlt` column (which indicates the year that the garage was built).  It's likely that in some cases, a missing value could indicate a house that does not have a garage.  Does it make more sense to fill in the median value along each column in this case?  Or could we get better results by filling in the minimum value along each column?  It's not quite clear what's best in this case, but perhaps we can rule out some options immediately - for instance, setting missing values in this column to 0 is likely to yield horrible results!"
      ],
      "text/plain": [
       "Correct: \n",
       "\n",
       "Given that thre are so few missing values in the dataset, we'd expect imputation to perform better than dropping columns entirely.  However, we see that dropping columns performs slightly better!  While this can probably partially be attributed to noise in the dataset, another potential explanation is that the imputation method is not a great match to this dataset.  That is, maybe instead of filling in the mean value, it makes more sense to set every missing value to a value of 0, to fill in the most frequently encountered value, or to use some other method.  For instance, consider the `GarageYrBlt` column (which indicates the year that the garage was built).  It's likely that in some cases, a missing value could indicate a house that does not have a garage.  Does it make more sense to fill in the median value along each column in this case?  Or could we get better results by filling in the minimum value along each column?  It's not quite clear what's best in this case, but perhaps we can rule out some options immediately - for instance, setting missing values in this column to 0 is likely to yield horrible results!"
      ]
     },
     "metadata": {},
     "output_type": "display_data"
    }
   ],
   "source": [
    "# Check your answer (Run this code cell to receive credit!)\n",
    "step_3.b.check()"
   ]
  },
  {
   "cell_type": "code",
   "execution_count": 17,
   "id": "56e18c07",
   "metadata": {
    "execution": {
     "iopub.execute_input": "2022-02-23T22:38:19.876242Z",
     "iopub.status.busy": "2022-02-23T22:38:19.875384Z",
     "iopub.status.idle": "2022-02-23T22:38:19.880100Z",
     "shell.execute_reply": "2022-02-23T22:38:19.880569Z",
     "shell.execute_reply.started": "2022-02-23T22:27:33.287787Z"
    },
    "papermill": {
     "duration": 0.055554,
     "end_time": "2022-02-23T22:38:19.880697",
     "exception": false,
     "start_time": "2022-02-23T22:38:19.825143",
     "status": "completed"
    },
    "tags": []
   },
   "outputs": [
    {
     "data": {
      "application/javascript": [
       "parent.postMessage({\"jupyterEvent\": \"custom.exercise_interaction\", \"data\": {\"interactionType\": 2, \"questionType\": 4, \"questionId\": \"3.2_ImputeThought\", \"learnToolsVersion\": \"0.3.4\", \"valueTowardsCompletion\": 0.0, \"failureMessage\": \"\", \"exceptionClass\": \"\", \"trace\": \"\", \"outcomeType\": 4}}, \"*\")"
      ],
      "text/plain": [
       "<IPython.core.display.Javascript object>"
      ]
     },
     "metadata": {},
     "output_type": "display_data"
    },
    {
     "data": {
      "text/markdown": [
       "<span style=\"color:#3366cc\">Hint:</span> Did removing missing values yield a larger or smaller MAE than imputation? Does this agree with the coding example from the tutorial?"
      ],
      "text/plain": [
       "Hint: Did removing missing values yield a larger or smaller MAE than imputation? Does this agree with the coding example from the tutorial?"
      ]
     },
     "metadata": {},
     "output_type": "display_data"
    }
   ],
   "source": [
    "step_3.b.hint()"
   ]
  },
  {
   "cell_type": "markdown",
   "id": "52add4dd",
   "metadata": {
    "papermill": {
     "duration": 0.046982,
     "end_time": "2022-02-23T22:38:19.975116",
     "exception": false,
     "start_time": "2022-02-23T22:38:19.928134",
     "status": "completed"
    },
    "tags": []
   },
   "source": [
    "# Step 4: Generate test predictions\n",
    "\n",
    "In this final step, you'll use any approach of your choosing to deal with missing values.  Once you've preprocessed the training and validation features, you'll train and evaluate a random forest model.  Then, you'll preprocess the test data before generating predictions that can be submitted to the competition!\n",
    "\n",
    "### Part A\n",
    "\n",
    "Use the next code cell to preprocess the training and validation data.  Set the preprocessed DataFrames to `final_X_train` and `final_X_valid`.  **You can use any approach of your choosing here!**  in order for this step to be marked as correct, you need only ensure:\n",
    "- the preprocessed DataFrames have the same number of columns,\n",
    "- the preprocessed DataFrames have no missing values, \n",
    "- `final_X_train` and `y_train` have the same number of rows, and\n",
    "- `final_X_valid` and `y_valid` have the same number of rows."
   ]
  },
  {
   "cell_type": "code",
   "execution_count": 18,
   "id": "00db64fc",
   "metadata": {
    "execution": {
     "iopub.execute_input": "2022-02-23T22:38:20.075923Z",
     "iopub.status.busy": "2022-02-23T22:38:20.074996Z",
     "iopub.status.idle": "2022-02-23T22:38:20.096967Z",
     "shell.execute_reply": "2022-02-23T22:38:20.097453Z",
     "shell.execute_reply.started": "2022-02-23T22:27:33.302113Z"
    },
    "papermill": {
     "duration": 0.075463,
     "end_time": "2022-02-23T22:38:20.097576",
     "exception": false,
     "start_time": "2022-02-23T22:38:20.022113",
     "status": "completed"
    },
    "tags": []
   },
   "outputs": [
    {
     "data": {
      "application/javascript": [
       "parent.postMessage({\"jupyterEvent\": \"custom.exercise_interaction\", \"data\": {\"outcomeType\": 1, \"valueTowardsCompletion\": 1.0, \"interactionType\": 1, \"questionType\": 2, \"questionId\": \"4.1_PredsCodeA\", \"learnToolsVersion\": \"0.3.4\", \"failureMessage\": \"\", \"exceptionClass\": \"\", \"trace\": \"\"}}, \"*\")"
      ],
      "text/plain": [
       "<IPython.core.display.Javascript object>"
      ]
     },
     "metadata": {},
     "output_type": "display_data"
    },
    {
     "data": {
      "text/markdown": [
       "<span style=\"color:#33cc33\">Correct</span>"
      ],
      "text/plain": [
       "Correct"
      ]
     },
     "metadata": {},
     "output_type": "display_data"
    }
   ],
   "source": [
    "# Preprocessed training and validation features\n",
    "final_imputer = SimpleImputer(strategy='median')\n",
    "\n",
    "# Imputation\n",
    "final_X_train = pd.DataFrame(final_imputer.fit_transform(X_train))\n",
    "final_X_valid = pd.DataFrame(final_imputer.transform(X_valid))\n",
    "\n",
    "# Put back the columns name\n",
    "final_X_train.columns = X_train.columns\n",
    "final_X_valid.columns = X_valid.columns\n",
    "\n",
    "# Check your answers\n",
    "step_4.a.check()"
   ]
  },
  {
   "cell_type": "code",
   "execution_count": 19,
   "id": "2cdd2f83",
   "metadata": {
    "execution": {
     "iopub.execute_input": "2022-02-23T22:38:20.195625Z",
     "iopub.status.busy": "2022-02-23T22:38:20.194861Z",
     "iopub.status.idle": "2022-02-23T22:38:20.205614Z",
     "shell.execute_reply": "2022-02-23T22:38:20.205192Z",
     "shell.execute_reply.started": "2022-02-23T22:27:33.351083Z"
    },
    "papermill": {
     "duration": 0.060641,
     "end_time": "2022-02-23T22:38:20.205714",
     "exception": false,
     "start_time": "2022-02-23T22:38:20.145073",
     "status": "completed"
    },
    "tags": []
   },
   "outputs": [
    {
     "data": {
      "application/javascript": [
       "parent.postMessage({\"jupyterEvent\": \"custom.exercise_interaction\", \"data\": {\"interactionType\": 2, \"questionType\": 2, \"questionId\": \"4.1_PredsCodeA\", \"learnToolsVersion\": \"0.3.4\", \"valueTowardsCompletion\": 0.0, \"failureMessage\": \"\", \"exceptionClass\": \"\", \"trace\": \"\", \"outcomeType\": 4}}, \"*\")"
      ],
      "text/plain": [
       "<IPython.core.display.Javascript object>"
      ]
     },
     "metadata": {},
     "output_type": "display_data"
    },
    {
     "data": {
      "text/markdown": [
       "<span style=\"color:#3366cc\">Hint:</span> Use any approach of your choosing to deal with missing values in the data.  For inspiration, check out the code from the tutorial!"
      ],
      "text/plain": [
       "Hint: Use any approach of your choosing to deal with missing values in the data.  For inspiration, check out the code from the tutorial!"
      ]
     },
     "metadata": {},
     "output_type": "display_data"
    },
    {
     "data": {
      "application/javascript": [
       "parent.postMessage({\"jupyterEvent\": \"custom.exercise_interaction\", \"data\": {\"interactionType\": 3, \"questionType\": 2, \"questionId\": \"4.1_PredsCodeA\", \"learnToolsVersion\": \"0.3.4\", \"valueTowardsCompletion\": 0.0, \"failureMessage\": \"\", \"exceptionClass\": \"\", \"trace\": \"\", \"outcomeType\": 4}}, \"*\")"
      ],
      "text/plain": [
       "<IPython.core.display.Javascript object>"
      ]
     },
     "metadata": {},
     "output_type": "display_data"
    },
    {
     "data": {
      "text/markdown": [
       "<span style=\"color:#33cc99\">Solution:</span> \n",
       "```python\n",
       "# Imputation\n",
       "final_imputer = SimpleImputer(strategy='median')\n",
       "final_X_train = pd.DataFrame(final_imputer.fit_transform(X_train))\n",
       "final_X_valid = pd.DataFrame(final_imputer.transform(X_valid))\n",
       "\n",
       "# Imputation removed column names; put them back\n",
       "final_X_train.columns = X_train.columns\n",
       "final_X_valid.columns = X_valid.columns\n",
       "\n",
       "```"
      ],
      "text/plain": [
       "Solution: \n",
       "```python\n",
       "# Imputation\n",
       "final_imputer = SimpleImputer(strategy='median')\n",
       "final_X_train = pd.DataFrame(final_imputer.fit_transform(X_train))\n",
       "final_X_valid = pd.DataFrame(final_imputer.transform(X_valid))\n",
       "\n",
       "# Imputation removed column names; put them back\n",
       "final_X_train.columns = X_train.columns\n",
       "final_X_valid.columns = X_valid.columns\n",
       "\n",
       "```"
      ]
     },
     "metadata": {},
     "output_type": "display_data"
    }
   ],
   "source": [
    "# Lines below will give you a hint or solution code\n",
    "step_4.a.hint()\n",
    "step_4.a.solution()"
   ]
  },
  {
   "cell_type": "markdown",
   "id": "f32b175e",
   "metadata": {
    "papermill": {
     "duration": 0.049612,
     "end_time": "2022-02-23T22:38:20.305880",
     "exception": false,
     "start_time": "2022-02-23T22:38:20.256268",
     "status": "completed"
    },
    "tags": []
   },
   "source": [
    "Run the next code cell to train and evaluate a random forest model.  (*Note that we don't use the `score_dataset()` function above, because we will soon use the trained model to generate test predictions!*)"
   ]
  },
  {
   "cell_type": "code",
   "execution_count": 20,
   "id": "213b236e",
   "metadata": {
    "execution": {
     "iopub.execute_input": "2022-02-23T22:38:20.408328Z",
     "iopub.status.busy": "2022-02-23T22:38:20.407507Z",
     "iopub.status.idle": "2022-02-23T22:40:14.197241Z",
     "shell.execute_reply": "2022-02-23T22:40:14.197871Z",
     "shell.execute_reply.started": "2022-02-23T22:27:33.365000Z"
    },
    "papermill": {
     "duration": 113.842191,
     "end_time": "2022-02-23T22:40:14.198077",
     "exception": false,
     "start_time": "2022-02-23T22:38:20.355886",
     "status": "completed"
    },
    "tags": []
   },
   "outputs": [
    {
     "name": "stdout",
     "output_type": "stream",
     "text": [
      "MAE (Your approach):\n",
      "17731.481708308875\n"
     ]
    }
   ],
   "source": [
    "# Define and fit model\n",
    "model = RandomForestRegressor(n_estimators=10000, random_state=0)\n",
    "model.fit(final_X_train, y_train)\n",
    "\n",
    "# Get validation predictions and MAE\n",
    "preds_valid = model.predict(final_X_valid)\n",
    "print(\"MAE (Your approach):\")\n",
    "print(mean_absolute_error(y_valid, preds_valid))"
   ]
  },
  {
   "cell_type": "markdown",
   "id": "f2e12692",
   "metadata": {
    "papermill": {
     "duration": 0.049335,
     "end_time": "2022-02-23T22:40:14.298826",
     "exception": false,
     "start_time": "2022-02-23T22:40:14.249491",
     "status": "completed"
    },
    "tags": []
   },
   "source": [
    "### Part B\n",
    "\n",
    "Use the next code cell to preprocess your test data.  Make sure that you use a method that agrees with how you preprocessed the training and validation data, and set the preprocessed test features to `final_X_test`.\n",
    "\n",
    "Then, use the preprocessed test features and the trained model to generate test predictions in `preds_test`.\n",
    "\n",
    "In order for this step to be marked correct, you need only ensure:\n",
    "- the preprocessed test DataFrame has no missing values, and\n",
    "- `final_X_test` has the same number of rows as `X_test`."
   ]
  },
  {
   "cell_type": "code",
   "execution_count": 21,
   "id": "48586c0f",
   "metadata": {
    "execution": {
     "iopub.execute_input": "2022-02-23T22:40:14.404474Z",
     "iopub.status.busy": "2022-02-23T22:40:14.403663Z",
     "iopub.status.idle": "2022-02-23T22:40:17.014571Z",
     "shell.execute_reply": "2022-02-23T22:40:17.015012Z",
     "shell.execute_reply.started": "2022-02-23T22:29:27.366187Z"
    },
    "papermill": {
     "duration": 2.667015,
     "end_time": "2022-02-23T22:40:17.015167",
     "exception": false,
     "start_time": "2022-02-23T22:40:14.348152",
     "status": "completed"
    },
    "tags": []
   },
   "outputs": [
    {
     "data": {
      "application/javascript": [
       "parent.postMessage({\"jupyterEvent\": \"custom.exercise_interaction\", \"data\": {\"outcomeType\": 1, \"valueTowardsCompletion\": 1.0, \"interactionType\": 1, \"questionType\": 2, \"questionId\": \"4.2_PredsCodeB\", \"learnToolsVersion\": \"0.3.4\", \"failureMessage\": \"\", \"exceptionClass\": \"\", \"trace\": \"\"}}, \"*\")"
      ],
      "text/plain": [
       "<IPython.core.display.Javascript object>"
      ]
     },
     "metadata": {},
     "output_type": "display_data"
    },
    {
     "data": {
      "text/markdown": [
       "<span style=\"color:#33cc33\">Correct</span>"
      ],
      "text/plain": [
       "Correct"
      ]
     },
     "metadata": {},
     "output_type": "display_data"
    }
   ],
   "source": [
    "# Fill in the line below: preprocess test data\n",
    "final_X_test = pd.DataFrame(final_imputer.transform(X_test))\n",
    "\n",
    "# Fill in the line below: get test predictions\n",
    "preds_test = model.predict(final_X_test)\n",
    "\n",
    "# Check your answers\n",
    "step_4.b.check()"
   ]
  },
  {
   "cell_type": "code",
   "execution_count": 22,
   "id": "0b8ef12b",
   "metadata": {
    "execution": {
     "iopub.execute_input": "2022-02-23T22:40:17.122689Z",
     "iopub.status.busy": "2022-02-23T22:40:17.122195Z",
     "iopub.status.idle": "2022-02-23T22:40:17.130713Z",
     "shell.execute_reply": "2022-02-23T22:40:17.131176Z",
     "shell.execute_reply.started": "2022-02-23T22:29:30.149053Z"
    },
    "papermill": {
     "duration": 0.063608,
     "end_time": "2022-02-23T22:40:17.131304",
     "exception": false,
     "start_time": "2022-02-23T22:40:17.067696",
     "status": "completed"
    },
    "tags": []
   },
   "outputs": [
    {
     "data": {
      "application/javascript": [
       "parent.postMessage({\"jupyterEvent\": \"custom.exercise_interaction\", \"data\": {\"interactionType\": 2, \"questionType\": 2, \"questionId\": \"4.2_PredsCodeB\", \"learnToolsVersion\": \"0.3.4\", \"valueTowardsCompletion\": 0.0, \"failureMessage\": \"\", \"exceptionClass\": \"\", \"trace\": \"\", \"outcomeType\": 4}}, \"*\")"
      ],
      "text/plain": [
       "<IPython.core.display.Javascript object>"
      ]
     },
     "metadata": {},
     "output_type": "display_data"
    },
    {
     "data": {
      "text/markdown": [
       "<span style=\"color:#3366cc\">Hint:</span> After preprocessing the test data, you can get the model's predictions by using `model.predict()`."
      ],
      "text/plain": [
       "Hint: After preprocessing the test data, you can get the model's predictions by using `model.predict()`."
      ]
     },
     "metadata": {},
     "output_type": "display_data"
    },
    {
     "data": {
      "application/javascript": [
       "parent.postMessage({\"jupyterEvent\": \"custom.exercise_interaction\", \"data\": {\"interactionType\": 3, \"questionType\": 2, \"questionId\": \"4.2_PredsCodeB\", \"learnToolsVersion\": \"0.3.4\", \"valueTowardsCompletion\": 0.0, \"failureMessage\": \"\", \"exceptionClass\": \"\", \"trace\": \"\", \"outcomeType\": 4}}, \"*\")"
      ],
      "text/plain": [
       "<IPython.core.display.Javascript object>"
      ]
     },
     "metadata": {},
     "output_type": "display_data"
    },
    {
     "data": {
      "text/markdown": [
       "<span style=\"color:#33cc99\">Solution:</span> \n",
       "```python\n",
       "# Preprocess test data\n",
       "final_X_test = pd.DataFrame(final_imputer.transform(X_test))\n",
       "\n",
       "# Get test predictions\n",
       "preds_test = model.predict(final_X_test)\n",
       "\n",
       "```"
      ],
      "text/plain": [
       "Solution: \n",
       "```python\n",
       "# Preprocess test data\n",
       "final_X_test = pd.DataFrame(final_imputer.transform(X_test))\n",
       "\n",
       "# Get test predictions\n",
       "preds_test = model.predict(final_X_test)\n",
       "\n",
       "```"
      ]
     },
     "metadata": {},
     "output_type": "display_data"
    }
   ],
   "source": [
    "# Lines below will give you a hint or solution code\n",
    "step_4.b.hint()\n",
    "step_4.b.solution()"
   ]
  },
  {
   "cell_type": "markdown",
   "id": "789d85ef",
   "metadata": {
    "papermill": {
     "duration": 0.052421,
     "end_time": "2022-02-23T22:40:17.236045",
     "exception": false,
     "start_time": "2022-02-23T22:40:17.183624",
     "status": "completed"
    },
    "tags": []
   },
   "source": [
    "Run the next code cell without changes to save your results to a CSV file that can be submitted directly to the competition."
   ]
  },
  {
   "cell_type": "code",
   "execution_count": 23,
   "id": "e347944e",
   "metadata": {
    "execution": {
     "iopub.execute_input": "2022-02-23T22:40:17.345424Z",
     "iopub.status.busy": "2022-02-23T22:40:17.344637Z",
     "iopub.status.idle": "2022-02-23T22:40:17.356357Z",
     "shell.execute_reply": "2022-02-23T22:40:17.355923Z",
     "shell.execute_reply.started": "2022-02-23T22:29:30.163430Z"
    },
    "papermill": {
     "duration": 0.067196,
     "end_time": "2022-02-23T22:40:17.356469",
     "exception": false,
     "start_time": "2022-02-23T22:40:17.289273",
     "status": "completed"
    },
    "tags": []
   },
   "outputs": [],
   "source": [
    "# Save test predictions to file\n",
    "output = pd.DataFrame({'Id': X_test.index,\n",
    "                       'SalePrice': preds_test})\n",
    "output.to_csv('submission.csv', index=False)"
   ]
  },
  {
   "cell_type": "markdown",
   "id": "ce1a40aa",
   "metadata": {
    "papermill": {
     "duration": 0.0538,
     "end_time": "2022-02-23T22:40:17.463344",
     "exception": false,
     "start_time": "2022-02-23T22:40:17.409544",
     "status": "completed"
    },
    "tags": []
   },
   "source": [
    "# Submit your results\n",
    "\n",
    "Once you have successfully completed Step 4, you're ready to submit your results to the leaderboard!  (_You also learned how to do this in the previous exercise.  If you need a reminder of how to do this, please use the instructions below._)  \n",
    "\n",
    "First, you'll need to join the competition if you haven't already.  So open a new window by clicking on [this link](https://www.kaggle.com/c/home-data-for-ml-course).  Then click on the **Join Competition** button.\n",
    "\n",
    "![join competition image](https://i.imgur.com/wLmFtH3.png)\n",
    "\n",
    "Next, follow the instructions below:\n",
    "1. Begin by clicking on the **Save Version** button in the top right corner of the window.  This will generate a pop-up window.  \n",
    "2. Ensure that the **Save and Run All** option is selected, and then click on the **Save** button.\n",
    "3. This generates a window in the bottom left corner of the notebook.  After it has finished running, click on the number to the right of the **Save Version** button.  This pulls up a list of versions on the right of the screen.  Click on the ellipsis **(...)** to the right of the most recent version, and select **Open in Viewer**.  This brings you into view mode of the same page. You will need to scroll down to get back to these instructions.\n",
    "4. Click on the **Output** tab on the right of the screen.  Then, click on the file you would like to submit, and click on the **Submit** button to submit your results to the leaderboard.\n",
    "\n",
    "You have now successfully submitted to the competition!\n",
    "\n",
    "If you want to keep working to improve your performance, select the **Edit** button in the top right of the screen. Then you can change your code and repeat the process. There's a lot of room to improve, and you will climb up the leaderboard as you work.\n",
    "\n",
    "\n",
    "# Keep going\n",
    "\n",
    "Move on to learn what **[categorical variables](https://www.kaggle.com/alexisbcook/categorical-variables)** are, along with how to incorporate them into your machine learning models.  Categorical variables are very common in real-world data, but you'll get an error if you try to plug them into your models without processing them first!"
   ]
  },
  {
   "cell_type": "markdown",
   "id": "eeab8d3c",
   "metadata": {
    "papermill": {
     "duration": 0.052585,
     "end_time": "2022-02-23T22:40:17.568768",
     "exception": false,
     "start_time": "2022-02-23T22:40:17.516183",
     "status": "completed"
    },
    "tags": []
   },
   "source": [
    "---\n",
    "\n",
    "\n",
    "\n",
    "\n",
    "*Have questions or comments? Visit the [course discussion forum](https://www.kaggle.com/learn/intermediate-machine-learning/discussion) to chat with other learners.*"
   ]
  }
 ],
 "metadata": {
  "kernelspec": {
   "display_name": "Python 3",
   "language": "python",
   "name": "python3"
  },
  "language_info": {
   "codemirror_mode": {
    "name": "ipython",
    "version": 3
   },
   "file_extension": ".py",
   "mimetype": "text/x-python",
   "name": "python",
   "nbconvert_exporter": "python",
   "pygments_lexer": "ipython3",
   "version": "3.7.12"
  },
  "papermill": {
   "default_parameters": {},
   "duration": 132.501757,
   "end_time": "2022-02-23T22:40:18.129642",
   "environment_variables": {},
   "exception": null,
   "input_path": "__notebook__.ipynb",
   "output_path": "__notebook__.ipynb",
   "parameters": {},
   "start_time": "2022-02-23T22:38:05.627885",
   "version": "2.3.3"
  }
 },
 "nbformat": 4,
 "nbformat_minor": 5
}
