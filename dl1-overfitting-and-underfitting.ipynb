{
 "cells": [
  {
   "cell_type": "markdown",
   "id": "8bc9a455",
   "metadata": {
    "papermill": {
     "duration": 0.031015,
     "end_time": "2022-02-28T16:13:47.923612",
     "exception": false,
     "start_time": "2022-02-28T16:13:47.892597",
     "status": "completed"
    },
    "tags": []
   },
   "source": [
    "**This notebook is an exercise in the [Intro to Deep Learning](https://www.kaggle.com/learn/intro-to-deep-learning) course.  You can reference the tutorial at [this link](https://www.kaggle.com/ryanholbrook/overfitting-and-underfitting).**\n",
    "\n",
    "---\n"
   ]
  },
  {
   "cell_type": "markdown",
   "id": "d57095df",
   "metadata": {
    "papermill": {
     "duration": 0.018335,
     "end_time": "2022-02-28T16:13:47.969037",
     "exception": false,
     "start_time": "2022-02-28T16:13:47.950702",
     "status": "completed"
    },
    "tags": []
   },
   "source": [
    "# Introduction #\n",
    "\n",
    "In this exercise, you’ll learn how to improve training outcomes by including an early stopping callback to prevent overfitting.\n",
    "\n",
    "When you're ready, run this next cell to set everything up!"
   ]
  },
  {
   "cell_type": "code",
   "execution_count": 1,
   "id": "eeb63333",
   "metadata": {
    "execution": {
     "iopub.execute_input": "2022-02-28T16:13:48.017312Z",
     "iopub.status.busy": "2022-02-28T16:13:48.016508Z",
     "iopub.status.idle": "2022-02-28T16:13:48.039827Z",
     "shell.execute_reply": "2022-02-28T16:13:48.039205Z",
     "shell.execute_reply.started": "2022-02-28T16:12:57.702320Z"
    },
    "papermill": {
     "duration": 0.052551,
     "end_time": "2022-02-28T16:13:48.039975",
     "exception": false,
     "start_time": "2022-02-28T16:13:47.987424",
     "status": "completed"
    },
    "tags": []
   },
   "outputs": [],
   "source": [
    "# Setup plotting\n",
    "import matplotlib.pyplot as plt\n",
    "plt.style.use('seaborn-whitegrid')\n",
    "# Set Matplotlib defaults\n",
    "plt.rc('figure', autolayout=True)\n",
    "plt.rc('axes', labelweight='bold', labelsize='large',\n",
    "       titleweight='bold', titlesize=18, titlepad=10)\n",
    "plt.rc('animation', html='html5')\n",
    "\n",
    "# Setup feedback system\n",
    "from learntools.core import binder\n",
    "binder.bind(globals())\n",
    "from learntools.deep_learning_intro.ex4 import *"
   ]
  },
  {
   "cell_type": "markdown",
   "id": "8497b8d4",
   "metadata": {
    "papermill": {
     "duration": 0.018627,
     "end_time": "2022-02-28T16:13:48.076933",
     "exception": false,
     "start_time": "2022-02-28T16:13:48.058306",
     "status": "completed"
    },
    "tags": []
   },
   "source": [
    "First load the *Spotify* dataset. Your task will be to predict the popularity of a song based on various audio features, like `'tempo'`, `'danceability'`, and `'mode'`."
   ]
  },
  {
   "cell_type": "code",
   "execution_count": 2,
   "id": "2ed4a61b",
   "metadata": {
    "execution": {
     "iopub.execute_input": "2022-02-28T16:13:48.130088Z",
     "iopub.status.busy": "2022-02-28T16:13:48.129061Z",
     "iopub.status.idle": "2022-02-28T16:13:54.397704Z",
     "shell.execute_reply": "2022-02-28T16:13:54.398278Z",
     "shell.execute_reply.started": "2022-02-28T16:12:57.724494Z"
    },
    "papermill": {
     "duration": 6.303173,
     "end_time": "2022-02-28T16:13:54.398452",
     "exception": false,
     "start_time": "2022-02-28T16:13:48.095279",
     "status": "completed"
    },
    "tags": []
   },
   "outputs": [
    {
     "name": "stdout",
     "output_type": "stream",
     "text": [
      "Input shape: [18]\n"
     ]
    }
   ],
   "source": [
    "import pandas as pd\n",
    "from sklearn.preprocessing import StandardScaler, OneHotEncoder\n",
    "from sklearn.compose import make_column_transformer\n",
    "from sklearn.model_selection import GroupShuffleSplit\n",
    "\n",
    "from tensorflow import keras\n",
    "from tensorflow.keras import layers\n",
    "from tensorflow.keras import callbacks\n",
    "\n",
    "spotify = pd.read_csv('../input/dl-course-data/spotify.csv')\n",
    "\n",
    "X = spotify.copy().dropna()\n",
    "y = X.pop('track_popularity')\n",
    "artists = X['track_artist']\n",
    "\n",
    "features_num = ['danceability', 'energy', 'key', 'loudness', 'mode',\n",
    "                'speechiness', 'acousticness', 'instrumentalness',\n",
    "                'liveness', 'valence', 'tempo', 'duration_ms']\n",
    "features_cat = ['playlist_genre']\n",
    "\n",
    "preprocessor = make_column_transformer(\n",
    "    (StandardScaler(), features_num),\n",
    "    (OneHotEncoder(), features_cat),\n",
    ")\n",
    "\n",
    "# We'll do a \"grouped\" split to keep all of an artist's songs in one\n",
    "# split or the other. This is to help prevent signal leakage.\n",
    "def group_split(X, y, group, train_size=0.75):\n",
    "    splitter = GroupShuffleSplit(train_size=train_size)\n",
    "    train, test = next(splitter.split(X, y, groups=group))\n",
    "    return (X.iloc[train], X.iloc[test], y.iloc[train], y.iloc[test])\n",
    "\n",
    "X_train, X_valid, y_train, y_valid = group_split(X, y, artists)\n",
    "\n",
    "X_train = preprocessor.fit_transform(X_train)\n",
    "X_valid = preprocessor.transform(X_valid)\n",
    "y_train = y_train / 100 # popularity is on a scale 0-100, so this rescales to 0-1.\n",
    "y_valid = y_valid / 100\n",
    "\n",
    "input_shape = [X_train.shape[1]]\n",
    "print(\"Input shape: {}\".format(input_shape))"
   ]
  },
  {
   "cell_type": "code",
   "execution_count": 3,
   "id": "9f39541c",
   "metadata": {
    "execution": {
     "iopub.execute_input": "2022-02-28T16:13:54.443902Z",
     "iopub.status.busy": "2022-02-28T16:13:54.443272Z",
     "iopub.status.idle": "2022-02-28T16:13:54.446335Z",
     "shell.execute_reply": "2022-02-28T16:13:54.446730Z",
     "shell.execute_reply.started": "2022-02-28T16:12:58.063811Z"
    },
    "papermill": {
     "duration": 0.029,
     "end_time": "2022-02-28T16:13:54.446854",
     "exception": false,
     "start_time": "2022-02-28T16:13:54.417854",
     "status": "completed"
    },
    "tags": []
   },
   "outputs": [
    {
     "data": {
      "text/plain": [
       "(32828, 22)"
      ]
     },
     "execution_count": 3,
     "metadata": {},
     "output_type": "execute_result"
    }
   ],
   "source": [
    "X.shape"
   ]
  },
  {
   "cell_type": "code",
   "execution_count": 4,
   "id": "eb8c27a7",
   "metadata": {
    "execution": {
     "iopub.execute_input": "2022-02-28T16:13:54.492380Z",
     "iopub.status.busy": "2022-02-28T16:13:54.491747Z",
     "iopub.status.idle": "2022-02-28T16:13:54.495917Z",
     "shell.execute_reply": "2022-02-28T16:13:54.495528Z",
     "shell.execute_reply.started": "2022-02-28T16:12:58.071799Z"
    },
    "papermill": {
     "duration": 0.029327,
     "end_time": "2022-02-28T16:13:54.496021",
     "exception": false,
     "start_time": "2022-02-28T16:13:54.466694",
     "status": "completed"
    },
    "tags": []
   },
   "outputs": [
    {
     "data": {
      "text/plain": [
       "(32828,)"
      ]
     },
     "execution_count": 4,
     "metadata": {},
     "output_type": "execute_result"
    }
   ],
   "source": [
    "y.shape"
   ]
  },
  {
   "cell_type": "markdown",
   "id": "820bbd10",
   "metadata": {
    "papermill": {
     "duration": 0.019356,
     "end_time": "2022-02-28T16:13:54.535167",
     "exception": false,
     "start_time": "2022-02-28T16:13:54.515811",
     "status": "completed"
    },
    "tags": []
   },
   "source": [
    "Let's start with the simplest network, a linear model. This model has low capacity.\n",
    "\n",
    "Run this next cell without any changes to train a linear model on the *Spotify* dataset."
   ]
  },
  {
   "cell_type": "code",
   "execution_count": 5,
   "id": "8f908931",
   "metadata": {
    "execution": {
     "iopub.execute_input": "2022-02-28T16:13:54.581526Z",
     "iopub.status.busy": "2022-02-28T16:13:54.580918Z",
     "iopub.status.idle": "2022-02-28T16:14:07.973280Z",
     "shell.execute_reply": "2022-02-28T16:14:07.972458Z",
     "shell.execute_reply.started": "2022-02-28T16:12:58.081977Z"
    },
    "lines_to_next_cell": 0,
    "papermill": {
     "duration": 13.418756,
     "end_time": "2022-02-28T16:14:07.973405",
     "exception": false,
     "start_time": "2022-02-28T16:13:54.554649",
     "status": "completed"
    },
    "tags": []
   },
   "outputs": [
    {
     "name": "stderr",
     "output_type": "stream",
     "text": [
      "2022-02-28 16:13:54.652983: I tensorflow/stream_executor/cuda/cuda_gpu_executor.cc:937] successful NUMA node read from SysFS had negative value (-1), but there must be at least one NUMA node, so returning NUMA node zero\n",
      "2022-02-28 16:13:54.754156: I tensorflow/stream_executor/cuda/cuda_gpu_executor.cc:937] successful NUMA node read from SysFS had negative value (-1), but there must be at least one NUMA node, so returning NUMA node zero\n",
      "2022-02-28 16:13:54.754881: I tensorflow/stream_executor/cuda/cuda_gpu_executor.cc:937] successful NUMA node read from SysFS had negative value (-1), but there must be at least one NUMA node, so returning NUMA node zero\n",
      "2022-02-28 16:13:54.756539: I tensorflow/core/platform/cpu_feature_guard.cc:142] This TensorFlow binary is optimized with oneAPI Deep Neural Network Library (oneDNN) to use the following CPU instructions in performance-critical operations:  AVX2 AVX512F FMA\n",
      "To enable them in other operations, rebuild TensorFlow with the appropriate compiler flags.\n",
      "2022-02-28 16:13:54.757345: I tensorflow/stream_executor/cuda/cuda_gpu_executor.cc:937] successful NUMA node read from SysFS had negative value (-1), but there must be at least one NUMA node, so returning NUMA node zero\n",
      "2022-02-28 16:13:54.758478: I tensorflow/stream_executor/cuda/cuda_gpu_executor.cc:937] successful NUMA node read from SysFS had negative value (-1), but there must be at least one NUMA node, so returning NUMA node zero\n",
      "2022-02-28 16:13:54.759458: I tensorflow/stream_executor/cuda/cuda_gpu_executor.cc:937] successful NUMA node read from SysFS had negative value (-1), but there must be at least one NUMA node, so returning NUMA node zero\n",
      "2022-02-28 16:13:56.696976: I tensorflow/stream_executor/cuda/cuda_gpu_executor.cc:937] successful NUMA node read from SysFS had negative value (-1), but there must be at least one NUMA node, so returning NUMA node zero\n",
      "2022-02-28 16:13:56.697879: I tensorflow/stream_executor/cuda/cuda_gpu_executor.cc:937] successful NUMA node read from SysFS had negative value (-1), but there must be at least one NUMA node, so returning NUMA node zero\n",
      "2022-02-28 16:13:56.698694: I tensorflow/stream_executor/cuda/cuda_gpu_executor.cc:937] successful NUMA node read from SysFS had negative value (-1), but there must be at least one NUMA node, so returning NUMA node zero\n",
      "2022-02-28 16:13:56.699345: I tensorflow/core/common_runtime/gpu/gpu_device.cc:1510] Created device /job:localhost/replica:0/task:0/device:GPU:0 with 15403 MB memory:  -> device: 0, name: Tesla P100-PCIE-16GB, pci bus id: 0000:00:04.0, compute capability: 6.0\n",
      "2022-02-28 16:13:57.122706: I tensorflow/compiler/mlir/mlir_graph_optimization_pass.cc:185] None of the MLIR Optimization Passes are enabled (registered 2)\n"
     ]
    },
    {
     "name": "stdout",
     "output_type": "stream",
     "text": [
      "Minimum Validation Loss: 0.1981\n"
     ]
    },
    {
     "data": {
      "image/png": "[encoded data removed]",
      "text/plain": [
       "<Figure size 432x288 with 1 Axes>"
      ]
     },
     "metadata": {},
     "output_type": "display_data"
    }
   ],
   "source": [
    "model = keras.Sequential([\n",
    "    layers.Dense(1, input_shape=input_shape),\n",
    "])\n",
    "model.compile(\n",
    "    optimizer='adam',\n",
    "    loss='mae',\n",
    ")\n",
    "history = model.fit(\n",
    "    X_train, y_train,\n",
    "    validation_data=(X_valid, y_valid),\n",
    "    batch_size=512,\n",
    "    epochs=50,\n",
    "    verbose=0, # suppress output since we'll plot the curves\n",
    ")\n",
    "history_df = pd.DataFrame(history.history)\n",
    "history_df.loc[0:, ['loss', 'val_loss']].plot()\n",
    "print(\"Minimum Validation Loss: {:0.4f}\".format(history_df['val_loss'].min()));"
   ]
  },
  {
   "cell_type": "markdown",
   "id": "65b4fa10",
   "metadata": {
    "papermill": {
     "duration": 0.021496,
     "end_time": "2022-02-28T16:14:08.017118",
     "exception": false,
     "start_time": "2022-02-28T16:14:07.995622",
     "status": "completed"
    },
    "tags": []
   },
   "source": [
    "It's not uncommon for the curves to follow a \"hockey stick\" pattern like you see here. This makes the final part of training hard to see, so let's start at epoch 10 instead:"
   ]
  },
  {
   "cell_type": "code",
   "execution_count": 6,
   "id": "030ee48f",
   "metadata": {
    "execution": {
     "iopub.execute_input": "2022-02-28T16:14:08.085221Z",
     "iopub.status.busy": "2022-02-28T16:14:08.084008Z",
     "iopub.status.idle": "2022-02-28T16:14:08.353090Z",
     "shell.execute_reply": "2022-02-28T16:14:08.352604Z",
     "shell.execute_reply.started": "2022-02-28T16:13:08.797126Z"
    },
    "papermill": {
     "duration": 0.314387,
     "end_time": "2022-02-28T16:14:08.353254",
     "exception": false,
     "start_time": "2022-02-28T16:14:08.038867",
     "status": "completed"
    },
    "tags": []
   },
   "outputs": [
    {
     "name": "stdout",
     "output_type": "stream",
     "text": [
      "Minimum Validation Loss: 0.1981\n"
     ]
    },
    {
     "data": {
      "image/png": "[encoded data removed]",
      "text/plain": [
       "<Figure size 432x288 with 1 Axes>"
      ]
     },
     "metadata": {},
     "output_type": "display_data"
    }
   ],
   "source": [
    "# Start the plot at epoch 10\n",
    "history_df.loc[10:, ['loss', 'val_loss']].plot()\n",
    "print(\"Minimum Validation Loss: {:0.4f}\".format(history_df['val_loss'].min()));"
   ]
  },
  {
   "cell_type": "markdown",
   "id": "61e576c3",
   "metadata": {
    "papermill": {
     "duration": 0.02296,
     "end_time": "2022-02-28T16:14:08.399330",
     "exception": false,
     "start_time": "2022-02-28T16:14:08.376370",
     "status": "completed"
    },
    "tags": []
   },
   "source": [
    "# 1) Evaluate Baseline\n",
    "\n",
    "What do you think? Would you say this model is underfitting, overfitting, just right?"
   ]
  },
  {
   "cell_type": "code",
   "execution_count": 7,
   "id": "3bb18d35",
   "metadata": {
    "execution": {
     "iopub.execute_input": "2022-02-28T16:14:08.450073Z",
     "iopub.status.busy": "2022-02-28T16:14:08.449204Z",
     "iopub.status.idle": "2022-02-28T16:14:08.454736Z",
     "shell.execute_reply": "2022-02-28T16:14:08.454340Z",
     "shell.execute_reply.started": "2022-02-28T16:13:09.060511Z"
    },
    "papermill": {
     "duration": 0.032524,
     "end_time": "2022-02-28T16:14:08.454841",
     "exception": false,
     "start_time": "2022-02-28T16:14:08.422317",
     "status": "completed"
    },
    "tags": []
   },
   "outputs": [
    {
     "data": {
      "application/javascript": [
       "parent.postMessage({\"jupyterEvent\": \"custom.exercise_interaction\", \"data\": {\"outcomeType\": 1, \"valueTowardsCompletion\": 0.25, \"interactionType\": 1, \"questionType\": 4, \"questionId\": \"1_Q1\", \"learnToolsVersion\": \"0.3.4\", \"failureMessage\": \"\", \"exceptionClass\": \"\", \"trace\": \"\"}}, \"*\")"
      ],
      "text/plain": [
       "<IPython.core.display.Javascript object>"
      ]
     },
     "metadata": {},
     "output_type": "display_data"
    },
    {
     "data": {
      "text/markdown": [
       "<span style=\"color:#33cc33\">Correct:</span> \n",
       "\n",
       "The gap between these curves is quite small and the validation loss never increases, so it's more likely that the network is underfitting than overfitting. It would be worth experimenting with more capacity to see if that's the case."
      ],
      "text/plain": [
       "Correct: \n",
       "\n",
       "The gap between these curves is quite small and the validation loss never increases, so it's more likely that the network is underfitting than overfitting. It would be worth experimenting with more capacity to see if that's the case."
      ]
     },
     "metadata": {},
     "output_type": "display_data"
    }
   ],
   "source": [
    "# View the solution (Run this cell to receive credit!)\n",
    "q_1.check()"
   ]
  },
  {
   "cell_type": "markdown",
   "id": "808160bb",
   "metadata": {
    "papermill": {
     "duration": 0.02439,
     "end_time": "2022-02-28T16:14:08.503187",
     "exception": false,
     "start_time": "2022-02-28T16:14:08.478797",
     "status": "completed"
    },
    "tags": []
   },
   "source": [
    "Now let's add some capacity to our network. We'll add three hidden layers with 128 units each. Run the next cell to train the network and see the learning curves."
   ]
  },
  {
   "cell_type": "code",
   "execution_count": 8,
   "id": "09cdc9ad",
   "metadata": {
    "execution": {
     "iopub.execute_input": "2022-02-28T16:14:08.562771Z",
     "iopub.status.busy": "2022-02-28T16:14:08.561885Z",
     "iopub.status.idle": "2022-02-28T16:14:19.374026Z",
     "shell.execute_reply": "2022-02-28T16:14:19.374457Z",
     "shell.execute_reply.started": "2022-02-28T16:13:09.069752Z"
    },
    "papermill": {
     "duration": 10.847136,
     "end_time": "2022-02-28T16:14:19.374615",
     "exception": false,
     "start_time": "2022-02-28T16:14:08.527479",
     "status": "completed"
    },
    "tags": []
   },
   "outputs": [
    {
     "name": "stdout",
     "output_type": "stream",
     "text": [
      "Epoch 1/50\n",
      "48/48 [==============================] - 1s 5ms/step - loss: 0.3003 - val_loss: 0.2117\n",
      "Epoch 2/50\n",
      "48/48 [==============================] - 0s 4ms/step - loss: 0.2048 - val_loss: 0.2052\n",
      "Epoch 3/50\n",
      "48/48 [==============================] - 0s 3ms/step - loss: 0.1988 - val_loss: 0.2025\n",
      "Epoch 4/50\n",
      "48/48 [==============================] - 0s 3ms/step - loss: 0.1953 - val_loss: 0.2007\n",
      "Epoch 5/50\n",
      "48/48 [==============================] - 0s 3ms/step - loss: 0.1930 - val_loss: 0.1991\n",
      "Epoch 6/50\n",
      "48/48 [==============================] - 0s 3ms/step - loss: 0.1911 - val_loss: 0.1989\n",
      "Epoch 7/50\n",
      "48/48 [==============================] - 0s 6ms/step - loss: 0.1897 - val_loss: 0.1979\n",
      "Epoch 8/50\n",
      "48/48 [==============================] - 0s 4ms/step - loss: 0.1887 - val_loss: 0.1980\n",
      "Epoch 9/50\n",
      "48/48 [==============================] - 0s 4ms/step - loss: 0.1875 - val_loss: 0.1978\n",
      "Epoch 10/50\n",
      "48/48 [==============================] - 0s 5ms/step - loss: 0.1866 - val_loss: 0.1977\n",
      "Epoch 11/50\n",
      "48/48 [==============================] - 0s 4ms/step - loss: 0.1862 - val_loss: 0.1980\n",
      "Epoch 12/50\n",
      "48/48 [==============================] - 0s 3ms/step - loss: 0.1852 - val_loss: 0.1982\n",
      "Epoch 13/50\n",
      "48/48 [==============================] - 0s 4ms/step - loss: 0.1842 - val_loss: 0.1977\n",
      "Epoch 14/50\n",
      "48/48 [==============================] - 0s 3ms/step - loss: 0.1840 - val_loss: 0.1994\n",
      "Epoch 15/50\n",
      "48/48 [==============================] - 0s 4ms/step - loss: 0.1830 - val_loss: 0.1974\n",
      "Epoch 16/50\n",
      "48/48 [==============================] - 0s 3ms/step - loss: 0.1826 - val_loss: 0.1973\n",
      "Epoch 17/50\n",
      "48/48 [==============================] - 0s 3ms/step - loss: 0.1824 - val_loss: 0.1977\n",
      "Epoch 18/50\n",
      "48/48 [==============================] - 0s 5ms/step - loss: 0.1815 - val_loss: 0.1982\n",
      "Epoch 19/50\n",
      "48/48 [==============================] - 0s 4ms/step - loss: 0.1806 - val_loss: 0.1974\n",
      "Epoch 20/50\n",
      "48/48 [==============================] - 0s 4ms/step - loss: 0.1804 - val_loss: 0.1979\n",
      "Epoch 21/50\n",
      "48/48 [==============================] - 0s 3ms/step - loss: 0.1790 - val_loss: 0.1978\n",
      "Epoch 22/50\n",
      "48/48 [==============================] - 0s 3ms/step - loss: 0.1790 - val_loss: 0.1969\n",
      "Epoch 23/50\n",
      "48/48 [==============================] - 0s 3ms/step - loss: 0.1787 - val_loss: 0.1970\n",
      "Epoch 24/50\n",
      "48/48 [==============================] - 0s 3ms/step - loss: 0.1779 - val_loss: 0.1986\n",
      "Epoch 25/50\n",
      "48/48 [==============================] - 0s 3ms/step - loss: 0.1774 - val_loss: 0.1975\n",
      "Epoch 26/50\n",
      "48/48 [==============================] - 0s 3ms/step - loss: 0.1771 - val_loss: 0.1986\n",
      "Epoch 27/50\n",
      "48/48 [==============================] - 0s 3ms/step - loss: 0.1763 - val_loss: 0.1988\n",
      "Epoch 28/50\n",
      "48/48 [==============================] - 0s 4ms/step - loss: 0.1757 - val_loss: 0.1980\n",
      "Epoch 29/50\n",
      "48/48 [==============================] - 0s 3ms/step - loss: 0.1756 - val_loss: 0.1975\n",
      "Epoch 30/50\n",
      "48/48 [==============================] - 0s 3ms/step - loss: 0.1747 - val_loss: 0.1977\n",
      "Epoch 31/50\n",
      "48/48 [==============================] - 0s 3ms/step - loss: 0.1744 - val_loss: 0.1992\n",
      "Epoch 32/50\n",
      "48/48 [==============================] - 0s 3ms/step - loss: 0.1738 - val_loss: 0.1989\n",
      "Epoch 33/50\n",
      "48/48 [==============================] - 0s 3ms/step - loss: 0.1733 - val_loss: 0.1996\n",
      "Epoch 34/50\n",
      "48/48 [==============================] - 0s 3ms/step - loss: 0.1731 - val_loss: 0.1984\n",
      "Epoch 35/50\n",
      "48/48 [==============================] - 0s 3ms/step - loss: 0.1728 - val_loss: 0.1991\n",
      "Epoch 36/50\n",
      "48/48 [==============================] - 0s 3ms/step - loss: 0.1724 - val_loss: 0.1993\n",
      "Epoch 37/50\n",
      "48/48 [==============================] - 0s 3ms/step - loss: 0.1720 - val_loss: 0.1993\n",
      "Epoch 38/50\n",
      "48/48 [==============================] - 0s 3ms/step - loss: 0.1711 - val_loss: 0.1996\n",
      "Epoch 39/50\n",
      "48/48 [==============================] - 0s 4ms/step - loss: 0.1703 - val_loss: 0.2013\n",
      "Epoch 40/50\n",
      "48/48 [==============================] - 0s 3ms/step - loss: 0.1698 - val_loss: 0.1993\n",
      "Epoch 41/50\n",
      "48/48 [==============================] - 0s 3ms/step - loss: 0.1696 - val_loss: 0.2009\n",
      "Epoch 42/50\n",
      "48/48 [==============================] - 0s 3ms/step - loss: 0.1690 - val_loss: 0.2001\n",
      "Epoch 43/50\n",
      "48/48 [==============================] - 0s 3ms/step - loss: 0.1687 - val_loss: 0.2021\n",
      "Epoch 44/50\n",
      "48/48 [==============================] - 0s 3ms/step - loss: 0.1696 - val_loss: 0.2011\n",
      "Epoch 45/50\n",
      "48/48 [==============================] - 0s 3ms/step - loss: 0.1695 - val_loss: 0.2017\n",
      "Epoch 46/50\n",
      "48/48 [==============================] - 0s 3ms/step - loss: 0.1678 - val_loss: 0.2013\n",
      "Epoch 47/50\n",
      "48/48 [==============================] - 0s 3ms/step - loss: 0.1674 - val_loss: 0.2017\n",
      "Epoch 48/50\n",
      "48/48 [==============================] - 0s 3ms/step - loss: 0.1665 - val_loss: 0.2030\n",
      "Epoch 49/50\n",
      "48/48 [==============================] - 0s 3ms/step - loss: 0.1664 - val_loss: 0.2036\n",
      "Epoch 50/50\n",
      "48/48 [==============================] - 0s 3ms/step - loss: 0.1668 - val_loss: 0.2017\n",
      "Minimum Validation Loss: 0.1969\n"
     ]
    },
    {
     "data": {
      "image/png": "[encoded data removed]",
      "text/plain": [
       "<Figure size 432x288 with 1 Axes>"
      ]
     },
     "metadata": {},
     "output_type": "display_data"
    }
   ],
   "source": [
    "model = keras.Sequential([\n",
    "    layers.Dense(128, activation='relu', input_shape=input_shape),\n",
    "    layers.Dense(64, activation='relu'),\n",
    "    layers.Dense(1)\n",
    "])\n",
    "model.compile(\n",
    "    optimizer='adam',\n",
    "    loss='mae',\n",
    ")\n",
    "history = model.fit(\n",
    "    X_train, y_train,\n",
    "    validation_data=(X_valid, y_valid),\n",
    "    batch_size=512,\n",
    "    epochs=50,\n",
    ")\n",
    "history_df = pd.DataFrame(history.history)\n",
    "history_df.loc[:, ['loss', 'val_loss']].plot()\n",
    "print(\"Minimum Validation Loss: {:0.4f}\".format(history_df['val_loss'].min()));"
   ]
  },
  {
   "cell_type": "markdown",
   "id": "02776e9b",
   "metadata": {
    "papermill": {
     "duration": 0.076153,
     "end_time": "2022-02-28T16:14:19.528941",
     "exception": false,
     "start_time": "2022-02-28T16:14:19.452788",
     "status": "completed"
    },
    "tags": []
   },
   "source": [
    "# 2) Add Capacity\n",
    "\n",
    "What is your evaluation of these curves? Underfitting, overfitting, just right?"
   ]
  },
  {
   "cell_type": "code",
   "execution_count": 9,
   "id": "732682a2",
   "metadata": {
    "execution": {
     "iopub.execute_input": "2022-02-28T16:14:19.687825Z",
     "iopub.status.busy": "2022-02-28T16:14:19.686928Z",
     "iopub.status.idle": "2022-02-28T16:14:19.691338Z",
     "shell.execute_reply": "2022-02-28T16:14:19.691830Z",
     "shell.execute_reply.started": "2022-02-28T16:13:19.832874Z"
    },
    "papermill": {
     "duration": 0.086456,
     "end_time": "2022-02-28T16:14:19.691974",
     "exception": false,
     "start_time": "2022-02-28T16:14:19.605518",
     "status": "completed"
    },
    "tags": []
   },
   "outputs": [
    {
     "data": {
      "application/javascript": [
       "parent.postMessage({\"jupyterEvent\": \"custom.exercise_interaction\", \"data\": {\"outcomeType\": 1, \"valueTowardsCompletion\": 0.25, \"interactionType\": 1, \"questionType\": 4, \"questionId\": \"2_Q2\", \"learnToolsVersion\": \"0.3.4\", \"failureMessage\": \"\", \"exceptionClass\": \"\", \"trace\": \"\"}}, \"*\")"
      ],
      "text/plain": [
       "<IPython.core.display.Javascript object>"
      ]
     },
     "metadata": {},
     "output_type": "display_data"
    },
    {
     "data": {
      "text/markdown": [
       "<span style=\"color:#33cc33\">Correct:</span> \n",
       "\n",
       "Now the validation loss begins to rise very early, while the training loss continues to decrease. This indicates that the network has begun to overfit. At this point, we would need to try something to prevent it, either by reducing the number of units or through a method like early stopping. (We'll see another in the next lesson!)"
      ],
      "text/plain": [
       "Correct: \n",
       "\n",
       "Now the validation loss begins to rise very early, while the training loss continues to decrease. This indicates that the network has begun to overfit. At this point, we would need to try something to prevent it, either by reducing the number of units or through a method like early stopping. (We'll see another in the next lesson!)"
      ]
     },
     "metadata": {},
     "output_type": "display_data"
    }
   ],
   "source": [
    "# View the solution (Run this cell to receive credit!)\n",
    "q_2.check()"
   ]
  },
  {
   "cell_type": "markdown",
   "id": "f795d24a",
   "metadata": {
    "papermill": {
     "duration": 0.077828,
     "end_time": "2022-02-28T16:14:19.847476",
     "exception": false,
     "start_time": "2022-02-28T16:14:19.769648",
     "status": "completed"
    },
    "tags": []
   },
   "source": [
    "# 3) Define Early Stopping Callback\n",
    "\n",
    "Now define an early stopping callback that waits 5 epochs (`patience'`) for a change in validation loss of at least `0.001` (`min_delta`) and keeps the weights with the best loss (`restore_best_weights`)."
   ]
  },
  {
   "cell_type": "code",
   "execution_count": 10,
   "id": "8ab14064",
   "metadata": {
    "execution": {
     "iopub.execute_input": "2022-02-28T16:14:20.011214Z",
     "iopub.status.busy": "2022-02-28T16:14:20.009774Z",
     "iopub.status.idle": "2022-02-28T16:14:20.015987Z",
     "shell.execute_reply": "2022-02-28T16:14:20.015565Z",
     "shell.execute_reply.started": "2022-02-28T16:13:19.842535Z"
    },
    "lines_to_next_cell": 0,
    "papermill": {
     "duration": 0.090179,
     "end_time": "2022-02-28T16:14:20.016094",
     "exception": false,
     "start_time": "2022-02-28T16:14:19.925915",
     "status": "completed"
    },
    "tags": []
   },
   "outputs": [
    {
     "data": {
      "application/javascript": [
       "parent.postMessage({\"jupyterEvent\": \"custom.exercise_interaction\", \"data\": {\"outcomeType\": 1, \"valueTowardsCompletion\": 0.25, \"interactionType\": 1, \"questionType\": 2, \"questionId\": \"3_Q3\", \"learnToolsVersion\": \"0.3.4\", \"failureMessage\": \"\", \"exceptionClass\": \"\", \"trace\": \"\"}}, \"*\")"
      ],
      "text/plain": [
       "<IPython.core.display.Javascript object>"
      ]
     },
     "metadata": {},
     "output_type": "display_data"
    },
    {
     "data": {
      "text/markdown": [
       "<span style=\"color:#33cc33\">Correct</span>"
      ],
      "text/plain": [
       "Correct"
      ]
     },
     "metadata": {},
     "output_type": "display_data"
    }
   ],
   "source": [
    "from tensorflow.keras import callbacks\n",
    "\n",
    "# YOUR CODE HERE: define an early stopping callback\n",
    "early_stopping = callbacks.EarlyStopping(\n",
    "    patience = 5,\n",
    "    min_delta=0.001,\n",
    "    restore_best_weights=True,\n",
    ")\n",
    "\n",
    "# Check your answer\n",
    "q_3.check()"
   ]
  },
  {
   "cell_type": "code",
   "execution_count": 11,
   "id": "79cbb60c",
   "metadata": {
    "execution": {
     "iopub.execute_input": "2022-02-28T16:14:20.179790Z",
     "iopub.status.busy": "2022-02-28T16:14:20.178200Z",
     "iopub.status.idle": "2022-02-28T16:14:20.186662Z",
     "shell.execute_reply": "2022-02-28T16:14:20.187063Z",
     "shell.execute_reply.started": "2022-02-28T16:13:19.855044Z"
    },
    "papermill": {
     "duration": 0.092058,
     "end_time": "2022-02-28T16:14:20.187226",
     "exception": false,
     "start_time": "2022-02-28T16:14:20.095168",
     "status": "completed"
    },
    "tags": []
   },
   "outputs": [
    {
     "data": {
      "application/javascript": [
       "parent.postMessage({\"jupyterEvent\": \"custom.exercise_interaction\", \"data\": {\"interactionType\": 2, \"questionType\": 2, \"questionId\": \"3_Q3\", \"learnToolsVersion\": \"0.3.4\", \"valueTowardsCompletion\": 0.0, \"failureMessage\": \"\", \"exceptionClass\": \"\", \"trace\": \"\", \"outcomeType\": 4}}, \"*\")"
      ],
      "text/plain": [
       "<IPython.core.display.Javascript object>"
      ]
     },
     "metadata": {},
     "output_type": "display_data"
    },
    {
     "data": {
      "text/markdown": [
       "<span style=\"color:#3366cc\">Hint:</span> \n",
       "Your solution should look something like:\n",
       "\n",
       "```python\n",
       "early_stopping = callbacks.EarlyStopping(\n",
       "    patience=____,\n",
       "    min_delta=____,\n",
       "    restore_best_weights=____,\n",
       ")\n",
       "```\n"
      ],
      "text/plain": [
       "Hint: \n",
       "Your solution should look something like:\n",
       "\n",
       "```python\n",
       "early_stopping = callbacks.EarlyStopping(\n",
       "    patience=____,\n",
       "    min_delta=____,\n",
       "    restore_best_weights=____,\n",
       ")\n",
       "```"
      ]
     },
     "metadata": {},
     "output_type": "display_data"
    },
    {
     "data": {
      "application/javascript": [
       "parent.postMessage({\"jupyterEvent\": \"custom.exercise_interaction\", \"data\": {\"interactionType\": 3, \"questionType\": 2, \"questionId\": \"3_Q3\", \"learnToolsVersion\": \"0.3.4\", \"valueTowardsCompletion\": 0.0, \"failureMessage\": \"\", \"exceptionClass\": \"\", \"trace\": \"\", \"outcomeType\": 4}}, \"*\")"
      ],
      "text/plain": [
       "<IPython.core.display.Javascript object>"
      ]
     },
     "metadata": {},
     "output_type": "display_data"
    },
    {
     "data": {
      "text/markdown": [
       "<span style=\"color:#33cc99\">Solution:</span> \n",
       "```python\n",
       "\n",
       "early_stopping = callbacks.EarlyStopping(\n",
       "    patience=5,\n",
       "    min_delta=0.001,\n",
       "    restore_best_weights=True,\n",
       ")\n",
       "```"
      ],
      "text/plain": [
       "Solution: \n",
       "```python\n",
       "\n",
       "early_stopping = callbacks.EarlyStopping(\n",
       "    patience=5,\n",
       "    min_delta=0.001,\n",
       "    restore_best_weights=True,\n",
       ")\n",
       "```"
      ]
     },
     "metadata": {},
     "output_type": "display_data"
    }
   ],
   "source": [
    "# Lines below will give you a hint or solution code\n",
    "q_3.hint()\n",
    "q_3.solution()"
   ]
  },
  {
   "cell_type": "markdown",
   "id": "4f94a559",
   "metadata": {
    "papermill": {
     "duration": 0.080709,
     "end_time": "2022-02-28T16:14:20.349617",
     "exception": false,
     "start_time": "2022-02-28T16:14:20.268908",
     "status": "completed"
    },
    "tags": []
   },
   "source": [
    "Now run this cell to train the model and get the learning curves. Notice the `callbacks` argument in `model.fit`."
   ]
  },
  {
   "cell_type": "code",
   "execution_count": 12,
   "id": "612b6701",
   "metadata": {
    "execution": {
     "iopub.execute_input": "2022-02-28T16:14:20.522857Z",
     "iopub.status.busy": "2022-02-28T16:14:20.521835Z",
     "iopub.status.idle": "2022-02-28T16:14:22.531829Z",
     "shell.execute_reply": "2022-02-28T16:14:22.532429Z",
     "shell.execute_reply.started": "2022-02-28T16:13:19.866742Z"
    },
    "papermill": {
     "duration": 2.101877,
     "end_time": "2022-02-28T16:14:22.532604",
     "exception": false,
     "start_time": "2022-02-28T16:14:20.430727",
     "status": "completed"
    },
    "tags": []
   },
   "outputs": [
    {
     "name": "stdout",
     "output_type": "stream",
     "text": [
      "Epoch 1/50\n",
      "48/48 [==============================] - 0s 4ms/step - loss: 0.2389 - val_loss: 0.2116\n",
      "Epoch 2/50\n",
      "48/48 [==============================] - 0s 3ms/step - loss: 0.2015 - val_loss: 0.2036\n",
      "Epoch 3/50\n",
      "48/48 [==============================] - 0s 3ms/step - loss: 0.1960 - val_loss: 0.2018\n",
      "Epoch 4/50\n",
      "48/48 [==============================] - 0s 3ms/step - loss: 0.1932 - val_loss: 0.2003\n",
      "Epoch 5/50\n",
      "48/48 [==============================] - 0s 3ms/step - loss: 0.1909 - val_loss: 0.1993\n",
      "Epoch 6/50\n",
      "48/48 [==============================] - 0s 3ms/step - loss: 0.1891 - val_loss: 0.1993\n",
      "Epoch 7/50\n",
      "48/48 [==============================] - 0s 3ms/step - loss: 0.1876 - val_loss: 0.2008\n",
      "Epoch 8/50\n",
      "48/48 [==============================] - 0s 3ms/step - loss: 0.1871 - val_loss: 0.2009\n",
      "Epoch 9/50\n",
      "48/48 [==============================] - 0s 3ms/step - loss: 0.1868 - val_loss: 0.1986\n",
      "Epoch 10/50\n",
      "48/48 [==============================] - 0s 3ms/step - loss: 0.1847 - val_loss: 0.2002\n",
      "Minimum Validation Loss: 0.1986\n"
     ]
    },
    {
     "data": {
      "image/png": "[encoded data removed]",
      "text/plain": [
       "<Figure size 432x288 with 1 Axes>"
      ]
     },
     "metadata": {},
     "output_type": "display_data"
    }
   ],
   "source": [
    "model = keras.Sequential([\n",
    "    layers.Dense(128, activation='relu', input_shape=input_shape),\n",
    "    layers.Dense(64, activation='relu'),    \n",
    "    layers.Dense(1)\n",
    "])\n",
    "model.compile(\n",
    "    optimizer='adam',\n",
    "    loss='mae',\n",
    ")\n",
    "history = model.fit(\n",
    "    X_train, y_train,\n",
    "    validation_data=(X_valid, y_valid),\n",
    "    batch_size=512,\n",
    "    epochs=50,\n",
    "    callbacks=[early_stopping]\n",
    ")\n",
    "history_df = pd.DataFrame(history.history)\n",
    "history_df.loc[:, ['loss', 'val_loss']].plot()\n",
    "print(\"Minimum Validation Loss: {:0.4f}\".format(history_df['val_loss'].min()));"
   ]
  },
  {
   "cell_type": "markdown",
   "id": "bfd8f9a7",
   "metadata": {
    "papermill": {
     "duration": 0.091496,
     "end_time": "2022-02-28T16:14:22.716348",
     "exception": false,
     "start_time": "2022-02-28T16:14:22.624852",
     "status": "completed"
    },
    "tags": []
   },
   "source": [
    "# 4) Train and Interpret\n",
    "\n",
    "Was this an improvement compared to training without early stopping?"
   ]
  },
  {
   "cell_type": "code",
   "execution_count": 13,
   "id": "29618144",
   "metadata": {
    "execution": {
     "iopub.execute_input": "2022-02-28T16:14:22.940735Z",
     "iopub.status.busy": "2022-02-28T16:14:22.939151Z",
     "iopub.status.idle": "2022-02-28T16:14:22.957843Z",
     "shell.execute_reply": "2022-02-28T16:14:22.956610Z",
     "shell.execute_reply.started": "2022-02-28T16:13:22.577077Z"
    },
    "papermill": {
     "duration": 0.149856,
     "end_time": "2022-02-28T16:14:22.958140",
     "exception": false,
     "start_time": "2022-02-28T16:14:22.808284",
     "status": "completed"
    },
    "tags": []
   },
   "outputs": [
    {
     "data": {
      "application/javascript": [
       "parent.postMessage({\"jupyterEvent\": \"custom.exercise_interaction\", \"data\": {\"outcomeType\": 1, \"valueTowardsCompletion\": 0.25, \"interactionType\": 1, \"questionType\": 4, \"questionId\": \"4_Q4\", \"learnToolsVersion\": \"0.3.4\", \"failureMessage\": \"\", \"exceptionClass\": \"\", \"trace\": \"\"}}, \"*\")"
      ],
      "text/plain": [
       "<IPython.core.display.Javascript object>"
      ]
     },
     "metadata": {},
     "output_type": "display_data"
    },
    {
     "data": {
      "text/markdown": [
       "<span style=\"color:#33cc33\">Correct:</span> \n",
       "\n",
       "The early stopping callback did stop the training once the network began overfitting. Moreover, by including `restore_best_weights` we still get to keep the model where validation loss was lowest."
      ],
      "text/plain": [
       "Correct: \n",
       "\n",
       "The early stopping callback did stop the training once the network began overfitting. Moreover, by including `restore_best_weights` we still get to keep the model where validation loss was lowest."
      ]
     },
     "metadata": {},
     "output_type": "display_data"
    }
   ],
   "source": [
    "# View the solution (Run this cell to receive credit!)\n",
    "q_4.check()"
   ]
  },
  {
   "cell_type": "markdown",
   "id": "efce2bf0",
   "metadata": {
    "papermill": {
     "duration": 0.153857,
     "end_time": "2022-02-28T16:14:23.274146",
     "exception": false,
     "start_time": "2022-02-28T16:14:23.120289",
     "status": "completed"
    },
    "tags": []
   },
   "source": [
    "If you like, try experimenting with `patience` and `min_delta` to see what difference it might make.\n",
    "\n",
    "# Keep Going #\n",
    "\n",
    "Move on to [**learn about a couple of special layers**](https://www.kaggle.com/ryanholbrook/dropout-and-batch-normalization): batch normalization and dropout."
   ]
  },
  {
   "cell_type": "markdown",
   "id": "72701c0b",
   "metadata": {
    "papermill": {
     "duration": 0.118974,
     "end_time": "2022-02-28T16:14:23.546762",
     "exception": false,
     "start_time": "2022-02-28T16:14:23.427788",
     "status": "completed"
    },
    "tags": []
   },
   "source": [
    "---\n",
    "\n",
    "\n",
    "\n",
    "\n",
    "*Have questions or comments? Visit the [course discussion forum](https://www.kaggle.com/learn/intro-to-deep-learning/discussion) to chat with other learners.*"
   ]
  }
 ],
 "metadata": {
  "kernelspec": {
   "display_name": "Python 3",
   "language": "python",
   "name": "python3"
  },
  "language_info": {
   "codemirror_mode": {
    "name": "ipython",
    "version": 3
   },
   "file_extension": ".py",
   "mimetype": "text/x-python",
   "name": "python",
   "nbconvert_exporter": "python",
   "pygments_lexer": "ipython3",
   "version": "3.7.12"
  },
  "papermill": {
   "default_parameters": {},
   "duration": 47.317823,
   "end_time": "2022-02-28T16:14:27.103721",
   "environment_variables": {},
   "exception": null,
   "input_path": "__notebook__.ipynb",
   "output_path": "__notebook__.ipynb",
   "parameters": {},
   "start_time": "2022-02-28T16:13:39.785898",
   "version": "2.3.3"
  }
 },
 "nbformat": 4,
 "nbformat_minor": 5
}
