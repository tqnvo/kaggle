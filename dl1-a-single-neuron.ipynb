{
 "cells": [
  {
   "cell_type": "markdown",
   "id": "5d68e965",
   "metadata": {
    "papermill": {
     "duration": 0.018008,
     "end_time": "2022-02-27T14:25:21.537517",
     "exception": false,
     "start_time": "2022-02-27T14:25:21.519509",
     "status": "completed"
    },
    "tags": []
   },
   "source": [
    "**This notebook is an exercise in the [Intro to Deep Learning](https://www.kaggle.com/learn/intro-to-deep-learning) course.  You can reference the tutorial at [this link](https://www.kaggle.com/ryanholbrook/a-single-neuron).**\n",
    "\n",
    "---\n"
   ]
  },
  {
   "cell_type": "markdown",
   "id": "573974ca",
   "metadata": {
    "papermill": {
     "duration": 0.016668,
     "end_time": "2022-02-27T14:25:21.572141",
     "exception": false,
     "start_time": "2022-02-27T14:25:21.555473",
     "status": "completed"
    },
    "tags": []
   },
   "source": [
    "# Introduction #\n",
    "\n",
    "In the tutorial we learned about the building blocks of neural networks: *linear units*. We saw that a model of just one linear unit will fit a linear function to a dataset (equivalent to linear regression). In this exercise, you'll build a linear model and get some practice working with models in Keras.\n",
    "\n",
    "Before you get started, run the code cell below to set everything up."
   ]
  },
  {
   "cell_type": "code",
   "execution_count": 1,
   "id": "8e0331ac",
   "metadata": {
    "execution": {
     "iopub.execute_input": "2022-02-27T14:25:21.615670Z",
     "iopub.status.busy": "2022-02-27T14:25:21.615034Z",
     "iopub.status.idle": "2022-02-27T14:25:26.582579Z",
     "shell.execute_reply": "2022-02-27T14:25:26.581892Z",
     "shell.execute_reply.started": "2022-02-27T14:16:01.371417Z"
    },
    "papermill": {
     "duration": 4.993542,
     "end_time": "2022-02-27T14:25:26.582755",
     "exception": false,
     "start_time": "2022-02-27T14:25:21.589213",
     "status": "completed"
    },
    "tags": []
   },
   "outputs": [],
   "source": [
    "# Setup plotting\n",
    "import matplotlib.pyplot as plt\n",
    "\n",
    "plt.style.use('seaborn-whitegrid')\n",
    "# Set Matplotlib defaults\n",
    "plt.rc('figure', autolayout=True)\n",
    "plt.rc('axes', labelweight='bold', labelsize='large',\n",
    "       titleweight='bold', titlesize=18, titlepad=10)\n",
    "\n",
    "# Setup feedback system\n",
    "from learntools.core import binder\n",
    "binder.bind(globals())\n",
    "from learntools.deep_learning_intro.ex1 import *"
   ]
  },
  {
   "cell_type": "markdown",
   "id": "fcde4659",
   "metadata": {
    "papermill": {
     "duration": 0.016475,
     "end_time": "2022-02-27T14:25:26.616464",
     "exception": false,
     "start_time": "2022-02-27T14:25:26.599989",
     "status": "completed"
    },
    "tags": []
   },
   "source": [
    "The *Red Wine Quality* dataset consists of physiochemical measurements from about 1600 Portuguese red wines.  Also included is a quality rating for each wine from blind taste-tests. \n",
    "\n",
    "First, run the next cell to display the first few rows of this dataset."
   ]
  },
  {
   "cell_type": "code",
   "execution_count": 2,
   "id": "0deb809c",
   "metadata": {
    "execution": {
     "iopub.execute_input": "2022-02-27T14:25:26.653949Z",
     "iopub.status.busy": "2022-02-27T14:25:26.653278Z",
     "iopub.status.idle": "2022-02-27T14:25:26.698865Z",
     "shell.execute_reply": "2022-02-27T14:25:26.699362Z",
     "shell.execute_reply.started": "2022-02-27T14:16:03.204845Z"
    },
    "papermill": {
     "duration": 0.066246,
     "end_time": "2022-02-27T14:25:26.699525",
     "exception": false,
     "start_time": "2022-02-27T14:25:26.633279",
     "status": "completed"
    },
    "tags": []
   },
   "outputs": [
    {
     "data": {
      "text/html": [
       "<div>\n",
       "<style scoped>\n",
       "    .dataframe tbody tr th:only-of-type {\n",
       "        vertical-align: middle;\n",
       "    }\n",
       "\n",
       "    .dataframe tbody tr th {\n",
       "        vertical-align: top;\n",
       "    }\n",
       "\n",
       "    .dataframe thead th {\n",
       "        text-align: right;\n",
       "    }\n",
       "</style>\n",
       "<table border=\"1\" class=\"dataframe\">\n",
       "  <thead>\n",
       "    <tr style=\"text-align: right;\">\n",
       "      <th></th>\n",
       "      <th>fixed acidity</th>\n",
       "      <th>volatile acidity</th>\n",
       "      <th>citric acid</th>\n",
       "      <th>residual sugar</th>\n",
       "      <th>chlorides</th>\n",
       "      <th>free sulfur dioxide</th>\n",
       "      <th>total sulfur dioxide</th>\n",
       "      <th>density</th>\n",
       "      <th>pH</th>\n",
       "      <th>sulphates</th>\n",
       "      <th>alcohol</th>\n",
       "      <th>quality</th>\n",
       "    </tr>\n",
       "  </thead>\n",
       "  <tbody>\n",
       "    <tr>\n",
       "      <th>0</th>\n",
       "      <td>7.4</td>\n",
       "      <td>0.70</td>\n",
       "      <td>0.00</td>\n",
       "      <td>1.9</td>\n",
       "      <td>0.076</td>\n",
       "      <td>11.0</td>\n",
       "      <td>34.0</td>\n",
       "      <td>0.9978</td>\n",
       "      <td>3.51</td>\n",
       "      <td>0.56</td>\n",
       "      <td>9.4</td>\n",
       "      <td>5</td>\n",
       "    </tr>\n",
       "    <tr>\n",
       "      <th>1</th>\n",
       "      <td>7.8</td>\n",
       "      <td>0.88</td>\n",
       "      <td>0.00</td>\n",
       "      <td>2.6</td>\n",
       "      <td>0.098</td>\n",
       "      <td>25.0</td>\n",
       "      <td>67.0</td>\n",
       "      <td>0.9968</td>\n",
       "      <td>3.20</td>\n",
       "      <td>0.68</td>\n",
       "      <td>9.8</td>\n",
       "      <td>5</td>\n",
       "    </tr>\n",
       "    <tr>\n",
       "      <th>2</th>\n",
       "      <td>7.8</td>\n",
       "      <td>0.76</td>\n",
       "      <td>0.04</td>\n",
       "      <td>2.3</td>\n",
       "      <td>0.092</td>\n",
       "      <td>15.0</td>\n",
       "      <td>54.0</td>\n",
       "      <td>0.9970</td>\n",
       "      <td>3.26</td>\n",
       "      <td>0.65</td>\n",
       "      <td>9.8</td>\n",
       "      <td>5</td>\n",
       "    </tr>\n",
       "    <tr>\n",
       "      <th>3</th>\n",
       "      <td>11.2</td>\n",
       "      <td>0.28</td>\n",
       "      <td>0.56</td>\n",
       "      <td>1.9</td>\n",
       "      <td>0.075</td>\n",
       "      <td>17.0</td>\n",
       "      <td>60.0</td>\n",
       "      <td>0.9980</td>\n",
       "      <td>3.16</td>\n",
       "      <td>0.58</td>\n",
       "      <td>9.8</td>\n",
       "      <td>6</td>\n",
       "    </tr>\n",
       "    <tr>\n",
       "      <th>4</th>\n",
       "      <td>7.4</td>\n",
       "      <td>0.70</td>\n",
       "      <td>0.00</td>\n",
       "      <td>1.9</td>\n",
       "      <td>0.076</td>\n",
       "      <td>11.0</td>\n",
       "      <td>34.0</td>\n",
       "      <td>0.9978</td>\n",
       "      <td>3.51</td>\n",
       "      <td>0.56</td>\n",
       "      <td>9.4</td>\n",
       "      <td>5</td>\n",
       "    </tr>\n",
       "  </tbody>\n",
       "</table>\n",
       "</div>"
      ],
      "text/plain": [
       "   fixed acidity  volatile acidity  citric acid  residual sugar  chlorides  \\\n",
       "0            7.4              0.70         0.00             1.9      0.076   \n",
       "1            7.8              0.88         0.00             2.6      0.098   \n",
       "2            7.8              0.76         0.04             2.3      0.092   \n",
       "3           11.2              0.28         0.56             1.9      0.075   \n",
       "4            7.4              0.70         0.00             1.9      0.076   \n",
       "\n",
       "   free sulfur dioxide  total sulfur dioxide  density    pH  sulphates  \\\n",
       "0                 11.0                  34.0   0.9978  3.51       0.56   \n",
       "1                 25.0                  67.0   0.9968  3.20       0.68   \n",
       "2                 15.0                  54.0   0.9970  3.26       0.65   \n",
       "3                 17.0                  60.0   0.9980  3.16       0.58   \n",
       "4                 11.0                  34.0   0.9978  3.51       0.56   \n",
       "\n",
       "   alcohol  quality  \n",
       "0      9.4        5  \n",
       "1      9.8        5  \n",
       "2      9.8        5  \n",
       "3      9.8        6  \n",
       "4      9.4        5  "
      ]
     },
     "execution_count": 2,
     "metadata": {},
     "output_type": "execute_result"
    }
   ],
   "source": [
    "import pandas as pd\n",
    "\n",
    "red_wine = pd.read_csv('../input/dl-course-data/red-wine.csv')\n",
    "red_wine.head()"
   ]
  },
  {
   "cell_type": "markdown",
   "id": "e3afe5ba",
   "metadata": {
    "papermill": {
     "duration": 0.017474,
     "end_time": "2022-02-27T14:25:26.735044",
     "exception": false,
     "start_time": "2022-02-27T14:25:26.717570",
     "status": "completed"
    },
    "tags": []
   },
   "source": [
    "You can get the number of rows and columns of a dataframe (or a Numpy array) with the `shape` attribute."
   ]
  },
  {
   "cell_type": "code",
   "execution_count": 3,
   "id": "e48ce26d",
   "metadata": {
    "execution": {
     "iopub.execute_input": "2022-02-27T14:25:26.775750Z",
     "iopub.status.busy": "2022-02-27T14:25:26.775095Z",
     "iopub.status.idle": "2022-02-27T14:25:26.777572Z",
     "shell.execute_reply": "2022-02-27T14:25:26.778062Z",
     "shell.execute_reply.started": "2022-02-27T14:16:03.421772Z"
    },
    "papermill": {
     "duration": 0.025623,
     "end_time": "2022-02-27T14:25:26.778226",
     "exception": false,
     "start_time": "2022-02-27T14:25:26.752603",
     "status": "completed"
    },
    "tags": []
   },
   "outputs": [
    {
     "data": {
      "text/plain": [
       "(1599, 12)"
      ]
     },
     "execution_count": 3,
     "metadata": {},
     "output_type": "execute_result"
    }
   ],
   "source": [
    "red_wine.shape # (rows, columns)"
   ]
  },
  {
   "cell_type": "markdown",
   "id": "84bdc5b9",
   "metadata": {
    "papermill": {
     "duration": 0.017776,
     "end_time": "2022-02-27T14:25:26.814163",
     "exception": false,
     "start_time": "2022-02-27T14:25:26.796387",
     "status": "completed"
    },
    "tags": []
   },
   "source": [
    "# 1) Input shape #\n",
    "\n",
    "How well can we predict a wine's perceived quality from the physiochemical measurements?  \n",
    "\n",
    "The target is `'quality'`, and the remaining columns are the features.  How would you set the `input_shape` parameter for a Keras model on this task?"
   ]
  },
  {
   "cell_type": "code",
   "execution_count": 4,
   "id": "c7b814b3",
   "metadata": {
    "execution": {
     "iopub.execute_input": "2022-02-27T14:25:26.852950Z",
     "iopub.status.busy": "2022-02-27T14:25:26.852309Z",
     "iopub.status.idle": "2022-02-27T14:25:26.860122Z",
     "shell.execute_reply": "2022-02-27T14:25:26.860704Z",
     "shell.execute_reply.started": "2022-02-27T14:16:03.430261Z"
    },
    "lines_to_next_cell": 0,
    "papermill": {
     "duration": 0.028798,
     "end_time": "2022-02-27T14:25:26.860885",
     "exception": false,
     "start_time": "2022-02-27T14:25:26.832087",
     "status": "completed"
    },
    "tags": []
   },
   "outputs": [
    {
     "data": {
      "application/javascript": [
       "parent.postMessage({\"jupyterEvent\": \"custom.exercise_interaction\", \"data\": {\"outcomeType\": 1, \"valueTowardsCompletion\": 0.3333333333333333, \"interactionType\": 1, \"questionType\": 2, \"questionId\": \"1_Q1\", \"learnToolsVersion\": \"0.3.4\", \"failureMessage\": \"\", \"exceptionClass\": \"\", \"trace\": \"\"}}, \"*\")"
      ],
      "text/plain": [
       "<IPython.core.display.Javascript object>"
      ]
     },
     "metadata": {},
     "output_type": "display_data"
    },
    {
     "data": {
      "text/markdown": [
       "<span style=\"color:#33cc33\">Correct</span>"
      ],
      "text/plain": [
       "Correct"
      ]
     },
     "metadata": {},
     "output_type": "display_data"
    },
    {
     "data": {
      "text/plain": [
       "[11]"
      ]
     },
     "execution_count": 4,
     "metadata": {},
     "output_type": "execute_result"
    }
   ],
   "source": [
    "# YOUR CODE HERE\n",
    "input_shape = [11]\n",
    "\n",
    "# Check your answer\n",
    "q_1.check()\n",
    "input_shape"
   ]
  },
  {
   "cell_type": "code",
   "execution_count": 5,
   "id": "a48aae15",
   "metadata": {
    "execution": {
     "iopub.execute_input": "2022-02-27T14:25:26.903328Z",
     "iopub.status.busy": "2022-02-27T14:25:26.902657Z",
     "iopub.status.idle": "2022-02-27T14:25:26.911151Z",
     "shell.execute_reply": "2022-02-27T14:25:26.911732Z",
     "shell.execute_reply.started": "2022-02-27T14:16:03.457416Z"
    },
    "papermill": {
     "duration": 0.031429,
     "end_time": "2022-02-27T14:25:26.911913",
     "exception": false,
     "start_time": "2022-02-27T14:25:26.880484",
     "status": "completed"
    },
    "tags": []
   },
   "outputs": [
    {
     "data": {
      "application/javascript": [
       "parent.postMessage({\"jupyterEvent\": \"custom.exercise_interaction\", \"data\": {\"interactionType\": 2, \"questionType\": 2, \"questionId\": \"1_Q1\", \"learnToolsVersion\": \"0.3.4\", \"valueTowardsCompletion\": 0.0, \"failureMessage\": \"\", \"exceptionClass\": \"\", \"trace\": \"\", \"outcomeType\": 4}}, \"*\")"
      ],
      "text/plain": [
       "<IPython.core.display.Javascript object>"
      ]
     },
     "metadata": {},
     "output_type": "display_data"
    },
    {
     "data": {
      "text/markdown": [
       "<span style=\"color:#3366cc\">Hint:</span> Remember to *only* count the input features when determining `input_shape`. You should not count the target (the `quality` column)."
      ],
      "text/plain": [
       "Hint: Remember to *only* count the input features when determining `input_shape`. You should not count the target (the `quality` column)."
      ]
     },
     "metadata": {},
     "output_type": "display_data"
    },
    {
     "data": {
      "application/javascript": [
       "parent.postMessage({\"jupyterEvent\": \"custom.exercise_interaction\", \"data\": {\"interactionType\": 3, \"questionType\": 2, \"questionId\": \"1_Q1\", \"learnToolsVersion\": \"0.3.4\", \"valueTowardsCompletion\": 0.0, \"failureMessage\": \"\", \"exceptionClass\": \"\", \"trace\": \"\", \"outcomeType\": 4}}, \"*\")"
      ],
      "text/plain": [
       "<IPython.core.display.Javascript object>"
      ]
     },
     "metadata": {},
     "output_type": "display_data"
    },
    {
     "data": {
      "text/markdown": [
       "<span style=\"color:#33cc99\">Solution:</span> \n",
       "```python\n",
       "\n",
       "input_shape = [11]\n",
       "# you could also use a 1-tuple, like input_shape = (11,)\n",
       "\n",
       "```"
      ],
      "text/plain": [
       "Solution: \n",
       "```python\n",
       "\n",
       "input_shape = [11]\n",
       "# you could also use a 1-tuple, like input_shape = (11,)\n",
       "\n",
       "```"
      ]
     },
     "metadata": {},
     "output_type": "display_data"
    }
   ],
   "source": [
    "# Lines below will give you a hint or solution code\n",
    "q_1.hint()\n",
    "q_1.solution()"
   ]
  },
  {
   "cell_type": "markdown",
   "id": "657289c1",
   "metadata": {
    "papermill": {
     "duration": 0.02143,
     "end_time": "2022-02-27T14:25:26.955288",
     "exception": false,
     "start_time": "2022-02-27T14:25:26.933858",
     "status": "completed"
    },
    "tags": []
   },
   "source": [
    "# 2) Define a linear model\n",
    "\n",
    "Now define a linear model appropriate for this task. Pay attention to how many inputs and outputs the model should have."
   ]
  },
  {
   "cell_type": "code",
   "execution_count": 6,
   "id": "9e07e238",
   "metadata": {
    "execution": {
     "iopub.execute_input": "2022-02-27T14:25:27.003642Z",
     "iopub.status.busy": "2022-02-27T14:25:27.002992Z",
     "iopub.status.idle": "2022-02-27T14:25:28.247193Z",
     "shell.execute_reply": "2022-02-27T14:25:28.247680Z",
     "shell.execute_reply.started": "2022-02-27T14:16:03.478640Z"
    },
    "lines_to_next_cell": 0,
    "papermill": {
     "duration": 1.270671,
     "end_time": "2022-02-27T14:25:28.247866",
     "exception": false,
     "start_time": "2022-02-27T14:25:26.977195",
     "status": "completed"
    },
    "tags": []
   },
   "outputs": [
    {
     "name": "stderr",
     "output_type": "stream",
     "text": [
      "2022-02-27 14:25:28.176582: I tensorflow/core/common_runtime/process_util.cc:146] Creating new thread pool with default inter op setting: 2. Tune using inter_op_parallelism_threads for best performance.\n"
     ]
    },
    {
     "data": {
      "application/javascript": [
       "parent.postMessage({\"jupyterEvent\": \"custom.exercise_interaction\", \"data\": {\"outcomeType\": 1, \"valueTowardsCompletion\": 0.3333333333333333, \"interactionType\": 1, \"questionType\": 2, \"questionId\": \"2_Q2\", \"learnToolsVersion\": \"0.3.4\", \"failureMessage\": \"\", \"exceptionClass\": \"\", \"trace\": \"\"}}, \"*\")"
      ],
      "text/plain": [
       "<IPython.core.display.Javascript object>"
      ]
     },
     "metadata": {},
     "output_type": "display_data"
    },
    {
     "data": {
      "text/markdown": [
       "<span style=\"color:#33cc33\">Correct</span>"
      ],
      "text/plain": [
       "Correct"
      ]
     },
     "metadata": {},
     "output_type": "display_data"
    }
   ],
   "source": [
    "from tensorflow import keras\n",
    "from tensorflow.keras import layers\n",
    "\n",
    "# YOUR CODE HERE\n",
    "model = keras.Sequential([\n",
    "    layers.Dense(units=1, input_shape=[11])\n",
    "])\n",
    "\n",
    "# Check your answer\n",
    "q_2.check()"
   ]
  },
  {
   "cell_type": "code",
   "execution_count": 7,
   "id": "6be7b55d",
   "metadata": {
    "execution": {
     "iopub.execute_input": "2022-02-27T14:25:28.303368Z",
     "iopub.status.busy": "2022-02-27T14:25:28.300784Z",
     "iopub.status.idle": "2022-02-27T14:25:28.312047Z",
     "shell.execute_reply": "2022-02-27T14:25:28.311515Z",
     "shell.execute_reply.started": "2022-02-27T14:16:03.697069Z"
    },
    "papermill": {
     "duration": 0.03866,
     "end_time": "2022-02-27T14:25:28.312194",
     "exception": false,
     "start_time": "2022-02-27T14:25:28.273534",
     "status": "completed"
    },
    "tags": []
   },
   "outputs": [
    {
     "data": {
      "application/javascript": [
       "parent.postMessage({\"jupyterEvent\": \"custom.exercise_interaction\", \"data\": {\"interactionType\": 2, \"questionType\": 2, \"questionId\": \"2_Q2\", \"learnToolsVersion\": \"0.3.4\", \"valueTowardsCompletion\": 0.0, \"failureMessage\": \"\", \"exceptionClass\": \"\", \"trace\": \"\", \"outcomeType\": 4}}, \"*\")"
      ],
      "text/plain": [
       "<IPython.core.display.Javascript object>"
      ]
     },
     "metadata": {},
     "output_type": "display_data"
    },
    {
     "data": {
      "text/markdown": [
       "<span style=\"color:#3366cc\">Hint:</span> Your answer should look something like:\n",
       "```python\n",
       "model = keras.Sequential([\n",
       "    ____\n",
       "])\n",
       "```\n"
      ],
      "text/plain": [
       "Hint: Your answer should look something like:\n",
       "```python\n",
       "model = keras.Sequential([\n",
       "    ____\n",
       "])\n",
       "```"
      ]
     },
     "metadata": {},
     "output_type": "display_data"
    },
    {
     "data": {
      "application/javascript": [
       "parent.postMessage({\"jupyterEvent\": \"custom.exercise_interaction\", \"data\": {\"interactionType\": 3, \"questionType\": 2, \"questionId\": \"2_Q2\", \"learnToolsVersion\": \"0.3.4\", \"valueTowardsCompletion\": 0.0, \"failureMessage\": \"\", \"exceptionClass\": \"\", \"trace\": \"\", \"outcomeType\": 4}}, \"*\")"
      ],
      "text/plain": [
       "<IPython.core.display.Javascript object>"
      ]
     },
     "metadata": {},
     "output_type": "display_data"
    },
    {
     "data": {
      "text/markdown": [
       "<span style=\"color:#33cc99\">Solution:</span> \n",
       "```python\n",
       "\n",
       "from tensorflow import keras\n",
       "from tensorflow.keras import layers\n",
       "\n",
       "model = keras.Sequential([\n",
       "    layers.Dense(units=1, input_shape=[11])\n",
       "])\n",
       "\n",
       "```"
      ],
      "text/plain": [
       "Solution: \n",
       "```python\n",
       "\n",
       "from tensorflow import keras\n",
       "from tensorflow.keras import layers\n",
       "\n",
       "model = keras.Sequential([\n",
       "    layers.Dense(units=1, input_shape=[11])\n",
       "])\n",
       "\n",
       "```"
      ]
     },
     "metadata": {},
     "output_type": "display_data"
    }
   ],
   "source": [
    "# Lines below will give you a hint or solution code\n",
    "q_2.hint()\n",
    "q_2.solution()"
   ]
  },
  {
   "cell_type": "markdown",
   "id": "698d952b",
   "metadata": {
    "papermill": {
     "duration": 0.026974,
     "end_time": "2022-02-27T14:25:28.366243",
     "exception": false,
     "start_time": "2022-02-27T14:25:28.339269",
     "status": "completed"
    },
    "tags": []
   },
   "source": [
    "# 3) Look at the weights\n",
    "\n",
    "Internally, Keras represents the weights of a neural network with **tensors**. Tensors are basically TensorFlow's version of a Numpy array with a few differences that make them better suited to deep learning. One of the most important is that tensors are compatible with [GPU](https://www.kaggle.com/docs/efficient-gpu-usage) and [TPU](https://www.kaggle.com/docs/tpu)) accelerators. TPUs, in fact, are designed specifically for tensor computations.\n",
    "\n",
    "A model's weights are kept in its `weights` attribute as a list of tensors. Get the weights of the model you defined above. (If you want, you could display the weights with something like: `print(\"Weights\\n{}\\n\\nBias\\n{}\".format(w, b))`)."
   ]
  },
  {
   "cell_type": "code",
   "execution_count": 8,
   "id": "caf0109a",
   "metadata": {
    "execution": {
     "iopub.execute_input": "2022-02-27T14:25:28.425824Z",
     "iopub.status.busy": "2022-02-27T14:25:28.424932Z",
     "iopub.status.idle": "2022-02-27T14:25:28.434008Z",
     "shell.execute_reply": "2022-02-27T14:25:28.435042Z",
     "shell.execute_reply.started": "2022-02-27T14:16:03.712504Z"
    },
    "lines_to_next_cell": 0,
    "papermill": {
     "duration": 0.042491,
     "end_time": "2022-02-27T14:25:28.435354",
     "exception": false,
     "start_time": "2022-02-27T14:25:28.392863",
     "status": "completed"
    },
    "tags": []
   },
   "outputs": [
    {
     "data": {
      "application/javascript": [
       "parent.postMessage({\"jupyterEvent\": \"custom.exercise_interaction\", \"data\": {\"outcomeType\": 1, \"valueTowardsCompletion\": 0.3333333333333333, \"interactionType\": 1, \"questionType\": 2, \"questionId\": \"3_Q3\", \"learnToolsVersion\": \"0.3.4\", \"failureMessage\": \"\", \"exceptionClass\": \"\", \"trace\": \"\"}}, \"*\")"
      ],
      "text/plain": [
       "<IPython.core.display.Javascript object>"
      ]
     },
     "metadata": {},
     "output_type": "display_data"
    },
    {
     "data": {
      "text/markdown": [
       "<span style=\"color:#33cc33\">Correct:</span> Do you see how there's one weight for each input (and a bias)? Notice though that there doesn't seem to be any pattern to the values the weights have. Before the model is trained, the weights are set to random numbers (and the bias to 0.0). A neural network learns by finding better values for its weights.\n"
      ],
      "text/plain": [
       "Correct: Do you see how there's one weight for each input (and a bias)? Notice though that there doesn't seem to be any pattern to the values the weights have. Before the model is trained, the weights are set to random numbers (and the bias to 0.0). A neural network learns by finding better values for its weights."
      ]
     },
     "metadata": {},
     "output_type": "display_data"
    },
    {
     "name": "stdout",
     "output_type": "stream",
     "text": [
      "Weights\n",
      "<tf.Variable 'dense/kernel:0' shape=(11, 1) dtype=float32, numpy=\n",
      "array([[-0.41055346],\n",
      "       [ 0.40809256],\n",
      "       [-0.388469  ],\n",
      "       [ 0.08697188],\n",
      "       [ 0.6190173 ],\n",
      "       [ 0.57234794],\n",
      "       [-0.4730065 ],\n",
      "       [-0.4235986 ],\n",
      "       [ 0.43225235],\n",
      "       [-0.35523555],\n",
      "       [ 0.52157825]], dtype=float32)>\n",
      "\n",
      "Bias\n",
      "<tf.Variable 'dense/bias:0' shape=(1,) dtype=float32, numpy=array([0.], dtype=float32)>\n"
     ]
    }
   ],
   "source": [
    "# YOUR CODE HERE\n",
    "w, b = model.weights\n",
    "\n",
    "# Check your answer\n",
    "q_3.check()\n",
    "print(\"Weights\\n{}\\n\\nBias\\n{}\".format(w, b))"
   ]
  },
  {
   "cell_type": "code",
   "execution_count": 9,
   "id": "fb8e77dc",
   "metadata": {
    "execution": {
     "iopub.execute_input": "2022-02-27T14:25:28.497526Z",
     "iopub.status.busy": "2022-02-27T14:25:28.496833Z",
     "iopub.status.idle": "2022-02-27T14:25:28.508838Z",
     "shell.execute_reply": "2022-02-27T14:25:28.508181Z",
     "shell.execute_reply.started": "2022-02-27T14:16:03.735444Z"
    },
    "lines_to_next_cell": 0,
    "papermill": {
     "duration": 0.044125,
     "end_time": "2022-02-27T14:25:28.508991",
     "exception": false,
     "start_time": "2022-02-27T14:25:28.464866",
     "status": "completed"
    },
    "tags": []
   },
   "outputs": [
    {
     "data": {
      "application/javascript": [
       "parent.postMessage({\"jupyterEvent\": \"custom.exercise_interaction\", \"data\": {\"interactionType\": 2, \"questionType\": 2, \"questionId\": \"3_Q3\", \"learnToolsVersion\": \"0.3.4\", \"valueTowardsCompletion\": 0.0, \"failureMessage\": \"\", \"exceptionClass\": \"\", \"trace\": \"\", \"outcomeType\": 4}}, \"*\")"
      ],
      "text/plain": [
       "<IPython.core.display.Javascript object>"
      ]
     },
     "metadata": {},
     "output_type": "display_data"
    },
    {
     "data": {
      "text/markdown": [
       "<span style=\"color:#3366cc\">Hint:</span> You can get the attribute of an object using the 'dot' notation: like `object.attribute`."
      ],
      "text/plain": [
       "Hint: You can get the attribute of an object using the 'dot' notation: like `object.attribute`."
      ]
     },
     "metadata": {},
     "output_type": "display_data"
    },
    {
     "data": {
      "application/javascript": [
       "parent.postMessage({\"jupyterEvent\": \"custom.exercise_interaction\", \"data\": {\"interactionType\": 3, \"questionType\": 2, \"questionId\": \"3_Q3\", \"learnToolsVersion\": \"0.3.4\", \"valueTowardsCompletion\": 0.0, \"failureMessage\": \"\", \"exceptionClass\": \"\", \"trace\": \"\", \"outcomeType\": 4}}, \"*\")"
      ],
      "text/plain": [
       "<IPython.core.display.Javascript object>"
      ]
     },
     "metadata": {},
     "output_type": "display_data"
    },
    {
     "data": {
      "text/markdown": [
       "<span style=\"color:#33cc99\">Solution:</span> \n",
       "```python\n",
       "\n",
       "# Uncomment if you need the model from the previous question:\n",
       "# model = keras.Sequential([\n",
       "#     layers.Dense(units=1, input_shape=[11])\n",
       "# ])\n",
       "\n",
       "w, b = model.weights\n",
       "\n",
       "print(\"Weights\\n{}\\n\\nBias\\n{}\".format(w, b))\n",
       "\n",
       "```"
      ],
      "text/plain": [
       "Solution: \n",
       "```python\n",
       "\n",
       "# Uncomment if you need the model from the previous question:\n",
       "# model = keras.Sequential([\n",
       "#     layers.Dense(units=1, input_shape=[11])\n",
       "# ])\n",
       "\n",
       "w, b = model.weights\n",
       "\n",
       "print(\"Weights\\n{}\\n\\nBias\\n{}\".format(w, b))\n",
       "\n",
       "```"
      ]
     },
     "metadata": {},
     "output_type": "display_data"
    }
   ],
   "source": [
    "# Lines below will give you a hint or solution code\n",
    "q_3.hint()\n",
    "q_3.solution()"
   ]
  },
  {
   "cell_type": "markdown",
   "id": "f0b83522",
   "metadata": {
    "papermill": {
     "duration": 0.02986,
     "end_time": "2022-02-27T14:25:28.569336",
     "exception": false,
     "start_time": "2022-02-27T14:25:28.539476",
     "status": "completed"
    },
    "tags": []
   },
   "source": [
    "(By the way, Keras represents weights as tensors, but also uses tensors to represent data. When you set the `input_shape` argument, you are telling Keras the dimensions of the array it should expect for each example in the training data. Setting `input_shape=[3]` would create a network accepting vectors of length 3, like `[0.2, 0.4, 0.6]`.)\n",
    " \n",
    "\n",
    "# Optional: Plot the output of an untrained linear model\n",
    " \n",
    "The kinds of problems we'll work on through Lesson 5 will be *regression* problems, where the goal is to predict some numeric target. Regression problems are like \"curve-fitting\" problems: we're trying to find a curve that best fits the data. Let's take a look at the \"curve\" produced by a linear model. (You've probably guessed that it's a line!)\n",
    " \n",
    "We mentioned that before training a model's weights are set randomly. Run the cell below a few times to see the different lines produced with a random initialization. (There's no coding for this exercise -- it's just a demonstration.)"
   ]
  },
  {
   "cell_type": "code",
   "execution_count": 10,
   "id": "cac02628",
   "metadata": {
    "execution": {
     "iopub.execute_input": "2022-02-27T14:25:28.640995Z",
     "iopub.status.busy": "2022-02-27T14:25:28.639866Z",
     "iopub.status.idle": "2022-02-27T14:25:29.300605Z",
     "shell.execute_reply": "2022-02-27T14:25:29.299967Z",
     "shell.execute_reply.started": "2022-02-27T14:16:03.751028Z"
    },
    "lines_to_next_cell": 0,
    "papermill": {
     "duration": 0.701107,
     "end_time": "2022-02-27T14:25:29.300745",
     "exception": false,
     "start_time": "2022-02-27T14:25:28.599638",
     "status": "completed"
    },
    "tags": []
   },
   "outputs": [
    {
     "name": "stderr",
     "output_type": "stream",
     "text": [
      "2022-02-27 14:25:28.785351: I tensorflow/compiler/mlir/mlir_graph_optimization_pass.cc:185] None of the MLIR Optimization Passes are enabled (registered 2)\n"
     ]
    },
    {
     "data": {
      "image/png": "[encoded data removed]",
      "text/plain": [
       "<Figure size 600x400 with 1 Axes>"
      ]
     },
     "metadata": {},
     "output_type": "display_data"
    }
   ],
   "source": [
    "import tensorflow as tf\n",
    "import matplotlib.pyplot as plt\n",
    "\n",
    "model = keras.Sequential([\n",
    "    layers.Dense(1, input_shape=[1]),\n",
    "])\n",
    "\n",
    "x = tf.linspace(-1.0, 1.0, 100)\n",
    "y = model.predict(x)\n",
    "\n",
    "plt.figure(dpi=100)\n",
    "plt.plot(x, y, 'k')\n",
    "plt.xlim(-1, 1)\n",
    "plt.ylim(-1, 1)\n",
    "plt.xlabel(\"Input: x\")\n",
    "plt.ylabel(\"Target y\")\n",
    "w, b = model.weights # you could also use model.get_weights() here\n",
    "plt.title(\"Weight: {:0.2f}\\nBias: {:0.2f}\".format(w[0][0], b[0]))\n",
    "plt.show()"
   ]
  },
  {
   "cell_type": "markdown",
   "id": "5ae8e8f1",
   "metadata": {
    "papermill": {
     "duration": 0.032251,
     "end_time": "2022-02-27T14:25:29.365961",
     "exception": false,
     "start_time": "2022-02-27T14:25:29.333710",
     "status": "completed"
    },
    "tags": []
   },
   "source": [
    "# Keep Going #\n",
    "\n",
    "Add hidden layers and [**make your models deep**](https://www.kaggle.com/ryanholbrook/deep-neural-networks) in Lesson 2."
   ]
  },
  {
   "cell_type": "markdown",
   "id": "a01ad29a",
   "metadata": {
    "papermill": {
     "duration": 0.033054,
     "end_time": "2022-02-27T14:25:29.431381",
     "exception": false,
     "start_time": "2022-02-27T14:25:29.398327",
     "status": "completed"
    },
    "tags": []
   },
   "source": [
    "---\n",
    "\n",
    "\n",
    "\n",
    "\n",
    "*Have questions or comments? Visit the [course discussion forum](https://www.kaggle.com/learn/intro-to-deep-learning/discussion) to chat with other learners.*"
   ]
  }
 ],
 "metadata": {
  "kernelspec": {
   "display_name": "Python 3",
   "language": "python",
   "name": "python3"
  },
  "language_info": {
   "codemirror_mode": {
    "name": "ipython",
    "version": 3
   },
   "file_extension": ".py",
   "mimetype": "text/x-python",
   "name": "python",
   "nbconvert_exporter": "python",
   "pygments_lexer": "ipython3",
   "version": "3.7.12"
  },
  "papermill": {
   "default_parameters": {},
   "duration": 20.622023,
   "end_time": "2022-02-27T14:25:32.274784",
   "environment_variables": {},
   "exception": null,
   "input_path": "__notebook__.ipynb",
   "output_path": "__notebook__.ipynb",
   "parameters": {},
   "start_time": "2022-02-27T14:25:11.652761",
   "version": "2.3.3"
  }
 },
 "nbformat": 4,
 "nbformat_minor": 5
}
