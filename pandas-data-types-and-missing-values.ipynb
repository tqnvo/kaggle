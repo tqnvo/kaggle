{
 "cells": [
  {
   "cell_type": "markdown",
   "id": "7cb5143a",
   "metadata": {
    "papermill": {
     "duration": 0.015163,
     "end_time": "2022-02-26T15:28:02.312022",
     "exception": false,
     "start_time": "2022-02-26T15:28:02.296859",
     "status": "completed"
    },
    "tags": []
   },
   "source": [
    "**This notebook is an exercise in the [Pandas](https://www.kaggle.com/learn/pandas) course.  You can reference the tutorial at [this link](https://www.kaggle.com/residentmario/data-types-and-missing-values).**\n",
    "\n",
    "---\n"
   ]
  },
  {
   "cell_type": "markdown",
   "id": "62aaebfe",
   "metadata": {
    "papermill": {
     "duration": 0.013741,
     "end_time": "2022-02-26T15:28:02.340031",
     "exception": false,
     "start_time": "2022-02-26T15:28:02.326290",
     "status": "completed"
    },
    "tags": []
   },
   "source": [
    "# Introduction\n",
    "\n",
    "Run the following cell to load your data and some utility functions."
   ]
  },
  {
   "cell_type": "code",
   "execution_count": 1,
   "id": "85489375",
   "metadata": {
    "execution": {
     "iopub.execute_input": "2022-02-26T15:28:02.372575Z",
     "iopub.status.busy": "2022-02-26T15:28:02.371418Z",
     "iopub.status.idle": "2022-02-26T15:28:05.282336Z",
     "shell.execute_reply": "2022-02-26T15:28:05.283352Z",
     "shell.execute_reply.started": "2022-02-26T15:27:32.319698Z"
    },
    "papermill": {
     "duration": 2.92978,
     "end_time": "2022-02-26T15:28:05.283704",
     "exception": false,
     "start_time": "2022-02-26T15:28:02.353924",
     "status": "completed"
    },
    "tags": []
   },
   "outputs": [
    {
     "name": "stdout",
     "output_type": "stream",
     "text": [
      "Setup complete.\n"
     ]
    }
   ],
   "source": [
    "import pandas as pd\n",
    "\n",
    "reviews = pd.read_csv(\"../input/wine-reviews/winemag-data-130k-v2.csv\", index_col=0)\n",
    "\n",
    "from learntools.core import binder; binder.bind(globals())\n",
    "from learntools.pandas.data_types_and_missing_data import *\n",
    "print(\"Setup complete.\")"
   ]
  },
  {
   "cell_type": "markdown",
   "id": "1544e983",
   "metadata": {
    "papermill": {
     "duration": 0.014425,
     "end_time": "2022-02-26T15:28:05.313739",
     "exception": false,
     "start_time": "2022-02-26T15:28:05.299314",
     "status": "completed"
    },
    "tags": []
   },
   "source": [
    "# Exercises"
   ]
  },
  {
   "cell_type": "markdown",
   "id": "e2e0eb37",
   "metadata": {
    "papermill": {
     "duration": 0.014569,
     "end_time": "2022-02-26T15:28:05.344062",
     "exception": false,
     "start_time": "2022-02-26T15:28:05.329493",
     "status": "completed"
    },
    "tags": []
   },
   "source": [
    "## 1. \n",
    "What is the data type of the `points` column in the dataset?"
   ]
  },
  {
   "cell_type": "code",
   "execution_count": 2,
   "id": "e1633f00",
   "metadata": {
    "execution": {
     "iopub.execute_input": "2022-02-26T15:28:05.381964Z",
     "iopub.status.busy": "2022-02-26T15:28:05.381044Z",
     "iopub.status.idle": "2022-02-26T15:28:05.385865Z",
     "shell.execute_reply": "2022-02-26T15:28:05.386304Z"
    },
    "papermill": {
     "duration": 0.027545,
     "end_time": "2022-02-26T15:28:05.386491",
     "exception": false,
     "start_time": "2022-02-26T15:28:05.358946",
     "status": "completed"
    },
    "tags": []
   },
   "outputs": [
    {
     "data": {
      "application/javascript": [
       "parent.postMessage({\"jupyterEvent\": \"custom.exercise_interaction\", \"data\": {\"outcomeType\": 4, \"interactionType\": 1, \"questionType\": 1, \"questionId\": \"1_PointsDtype\", \"learnToolsVersion\": \"0.3.4\", \"valueTowardsCompletion\": 0.0, \"failureMessage\": \"\", \"exceptionClass\": \"\", \"trace\": \"\"}}, \"*\")"
      ],
      "text/plain": [
       "<IPython.core.display.Javascript object>"
      ]
     },
     "metadata": {},
     "output_type": "display_data"
    },
    {
     "data": {
      "text/markdown": [
       "<span style=\"color:#ccaa33\">Check:</span> When you've updated the starter code, `check()` will tell you whether your code is correct. You need to update the code that creates variable `dtype`"
      ],
      "text/plain": [
       "Check: When you've updated the starter code, `check()` will tell you whether your code is correct. You need to update the code that creates variable `dtype`"
      ]
     },
     "metadata": {},
     "output_type": "display_data"
    }
   ],
   "source": [
    "# Your code here\n",
    "dtype = ____\n",
    "\n",
    "# Check your answer\n",
    "q1.check()"
   ]
  },
  {
   "cell_type": "code",
   "execution_count": 3,
   "id": "c1960abf",
   "metadata": {
    "execution": {
     "iopub.execute_input": "2022-02-26T15:28:05.424237Z",
     "iopub.status.busy": "2022-02-26T15:28:05.423581Z",
     "iopub.status.idle": "2022-02-26T15:28:05.430036Z",
     "shell.execute_reply": "2022-02-26T15:28:05.430573Z",
     "shell.execute_reply.started": "2022-02-26T15:27:35.419416Z"
    },
    "papermill": {
     "duration": 0.028081,
     "end_time": "2022-02-26T15:28:05.430767",
     "exception": false,
     "start_time": "2022-02-26T15:28:05.402686",
     "status": "completed"
    },
    "tags": []
   },
   "outputs": [
    {
     "data": {
      "application/javascript": [
       "parent.postMessage({\"jupyterEvent\": \"custom.exercise_interaction\", \"data\": {\"interactionType\": 2, \"questionType\": 1, \"questionId\": \"1_PointsDtype\", \"learnToolsVersion\": \"0.3.4\", \"valueTowardsCompletion\": 0.0, \"failureMessage\": \"\", \"exceptionClass\": \"\", \"trace\": \"\", \"outcomeType\": 4}}, \"*\")"
      ],
      "text/plain": [
       "<IPython.core.display.Javascript object>"
      ]
     },
     "metadata": {},
     "output_type": "display_data"
    },
    {
     "data": {
      "text/markdown": [
       "<span style=\"color:#3366cc\">Hint:</span> `dtype` is an attribute of a DataFrame or Series."
      ],
      "text/plain": [
       "Hint: `dtype` is an attribute of a DataFrame or Series."
      ]
     },
     "metadata": {},
     "output_type": "display_data"
    },
    {
     "data": {
      "application/javascript": [
       "parent.postMessage({\"jupyterEvent\": \"custom.exercise_interaction\", \"data\": {\"interactionType\": 3, \"questionType\": 1, \"questionId\": \"1_PointsDtype\", \"learnToolsVersion\": \"0.3.4\", \"valueTowardsCompletion\": 0.0, \"failureMessage\": \"\", \"exceptionClass\": \"\", \"trace\": \"\", \"outcomeType\": 4}}, \"*\")"
      ],
      "text/plain": [
       "<IPython.core.display.Javascript object>"
      ]
     },
     "metadata": {},
     "output_type": "display_data"
    },
    {
     "data": {
      "text/markdown": [
       "<span style=\"color:#33cc99\">Solution:</span> \n",
       "```python\n",
       "dtype = reviews.points.dtype\n",
       "```"
      ],
      "text/plain": [
       "Solution: \n",
       "```python\n",
       "dtype = reviews.points.dtype\n",
       "```"
      ]
     },
     "metadata": {},
     "output_type": "display_data"
    }
   ],
   "source": [
    "q1.hint()\n",
    "q1.solution()"
   ]
  },
  {
   "cell_type": "markdown",
   "id": "0c2d5da9",
   "metadata": {
    "papermill": {
     "duration": 0.018237,
     "end_time": "2022-02-26T15:28:05.467509",
     "exception": false,
     "start_time": "2022-02-26T15:28:05.449272",
     "status": "completed"
    },
    "tags": []
   },
   "source": [
    "## 2. \n",
    "Create a Series from entries in the `points` column, but convert the entries to strings. Hint: strings are `str` in native Python."
   ]
  },
  {
   "cell_type": "code",
   "execution_count": 4,
   "id": "0eaa5f9f",
   "metadata": {
    "execution": {
     "iopub.execute_input": "2022-02-26T15:28:05.508011Z",
     "iopub.status.busy": "2022-02-26T15:28:05.507317Z",
     "iopub.status.idle": "2022-02-26T15:28:05.513489Z",
     "shell.execute_reply": "2022-02-26T15:28:05.514016Z"
    },
    "papermill": {
     "duration": 0.028067,
     "end_time": "2022-02-26T15:28:05.514192",
     "exception": false,
     "start_time": "2022-02-26T15:28:05.486125",
     "status": "completed"
    },
    "tags": []
   },
   "outputs": [
    {
     "data": {
      "application/javascript": [
       "parent.postMessage({\"jupyterEvent\": \"custom.exercise_interaction\", \"data\": {\"outcomeType\": 4, \"interactionType\": 1, \"questionType\": 1, \"questionId\": \"2_StrPoints\", \"learnToolsVersion\": \"0.3.4\", \"valueTowardsCompletion\": 0.0, \"failureMessage\": \"\", \"exceptionClass\": \"\", \"trace\": \"\"}}, \"*\")"
      ],
      "text/plain": [
       "<IPython.core.display.Javascript object>"
      ]
     },
     "metadata": {},
     "output_type": "display_data"
    },
    {
     "data": {
      "text/markdown": [
       "<span style=\"color:#ccaa33\">Check:</span> When you've updated the starter code, `check()` will tell you whether your code is correct. You need to update the code that creates variable `point_strings`"
      ],
      "text/plain": [
       "Check: When you've updated the starter code, `check()` will tell you whether your code is correct. You need to update the code that creates variable `point_strings`"
      ]
     },
     "metadata": {},
     "output_type": "display_data"
    }
   ],
   "source": [
    "point_strings = ____\n",
    "\n",
    "# Check your answer\n",
    "q2.check()"
   ]
  },
  {
   "cell_type": "code",
   "execution_count": 5,
   "id": "003a24e5",
   "metadata": {
    "execution": {
     "iopub.execute_input": "2022-02-26T15:28:05.557807Z",
     "iopub.status.busy": "2022-02-26T15:28:05.557034Z",
     "iopub.status.idle": "2022-02-26T15:28:05.565619Z",
     "shell.execute_reply": "2022-02-26T15:28:05.566113Z"
    },
    "papermill": {
     "duration": 0.031899,
     "end_time": "2022-02-26T15:28:05.566336",
     "exception": false,
     "start_time": "2022-02-26T15:28:05.534437",
     "status": "completed"
    },
    "tags": []
   },
   "outputs": [
    {
     "data": {
      "application/javascript": [
       "parent.postMessage({\"jupyterEvent\": \"custom.exercise_interaction\", \"data\": {\"interactionType\": 2, \"questionType\": 1, \"questionId\": \"2_StrPoints\", \"learnToolsVersion\": \"0.3.4\", \"valueTowardsCompletion\": 0.0, \"failureMessage\": \"\", \"exceptionClass\": \"\", \"trace\": \"\", \"outcomeType\": 4}}, \"*\")"
      ],
      "text/plain": [
       "<IPython.core.display.Javascript object>"
      ]
     },
     "metadata": {},
     "output_type": "display_data"
    },
    {
     "data": {
      "text/markdown": [
       "<span style=\"color:#3366cc\">Hint:</span> Convert a column of one type to another by using the `astype` function."
      ],
      "text/plain": [
       "Hint: Convert a column of one type to another by using the `astype` function."
      ]
     },
     "metadata": {},
     "output_type": "display_data"
    },
    {
     "data": {
      "application/javascript": [
       "parent.postMessage({\"jupyterEvent\": \"custom.exercise_interaction\", \"data\": {\"interactionType\": 3, \"questionType\": 1, \"questionId\": \"2_StrPoints\", \"learnToolsVersion\": \"0.3.4\", \"valueTowardsCompletion\": 0.0, \"failureMessage\": \"\", \"exceptionClass\": \"\", \"trace\": \"\", \"outcomeType\": 4}}, \"*\")"
      ],
      "text/plain": [
       "<IPython.core.display.Javascript object>"
      ]
     },
     "metadata": {},
     "output_type": "display_data"
    },
    {
     "data": {
      "text/markdown": [
       "<span style=\"color:#33cc99\">Solution:</span> \n",
       "```python\n",
       "point_strings = reviews.points.astype(str)\n",
       "```"
      ],
      "text/plain": [
       "Solution: \n",
       "```python\n",
       "point_strings = reviews.points.astype(str)\n",
       "```"
      ]
     },
     "metadata": {},
     "output_type": "display_data"
    }
   ],
   "source": [
    "q2.hint()\n",
    "q2.solution()"
   ]
  },
  {
   "cell_type": "markdown",
   "id": "c079b6ae",
   "metadata": {
    "papermill": {
     "duration": 0.02236,
     "end_time": "2022-02-26T15:28:05.611505",
     "exception": false,
     "start_time": "2022-02-26T15:28:05.589145",
     "status": "completed"
    },
    "tags": []
   },
   "source": [
    "## 3.\n",
    "Sometimes the price column is null. How many reviews in the dataset are missing a price?"
   ]
  },
  {
   "cell_type": "code",
   "execution_count": 6,
   "id": "c67e89db",
   "metadata": {
    "execution": {
     "iopub.execute_input": "2022-02-26T15:28:05.659770Z",
     "iopub.status.busy": "2022-02-26T15:28:05.659041Z",
     "iopub.status.idle": "2022-02-26T15:28:05.666318Z",
     "shell.execute_reply": "2022-02-26T15:28:05.665703Z"
    },
    "papermill": {
     "duration": 0.032547,
     "end_time": "2022-02-26T15:28:05.666467",
     "exception": false,
     "start_time": "2022-02-26T15:28:05.633920",
     "status": "completed"
    },
    "tags": []
   },
   "outputs": [
    {
     "data": {
      "application/javascript": [
       "parent.postMessage({\"jupyterEvent\": \"custom.exercise_interaction\", \"data\": {\"outcomeType\": 4, \"interactionType\": 1, \"questionType\": 1, \"questionId\": \"3_CountMissingPrices\", \"learnToolsVersion\": \"0.3.4\", \"valueTowardsCompletion\": 0.0, \"failureMessage\": \"\", \"exceptionClass\": \"\", \"trace\": \"\"}}, \"*\")"
      ],
      "text/plain": [
       "<IPython.core.display.Javascript object>"
      ]
     },
     "metadata": {},
     "output_type": "display_data"
    },
    {
     "data": {
      "text/markdown": [
       "<span style=\"color:#ccaa33\">Check:</span> When you've updated the starter code, `check()` will tell you whether your code is correct. You need to update the code that creates variable `n_missing_prices`"
      ],
      "text/plain": [
       "Check: When you've updated the starter code, `check()` will tell you whether your code is correct. You need to update the code that creates variable `n_missing_prices`"
      ]
     },
     "metadata": {},
     "output_type": "display_data"
    }
   ],
   "source": [
    "n_missing_prices = ____\n",
    "\n",
    "# Check your answer\n",
    "q3.check()"
   ]
  },
  {
   "cell_type": "code",
   "execution_count": 7,
   "id": "a75a35f0",
   "metadata": {
    "execution": {
     "iopub.execute_input": "2022-02-26T15:28:05.719408Z",
     "iopub.status.busy": "2022-02-26T15:28:05.718776Z",
     "iopub.status.idle": "2022-02-26T15:28:05.727479Z",
     "shell.execute_reply": "2022-02-26T15:28:05.727982Z"
    },
    "papermill": {
     "duration": 0.036173,
     "end_time": "2022-02-26T15:28:05.728149",
     "exception": false,
     "start_time": "2022-02-26T15:28:05.691976",
     "status": "completed"
    },
    "tags": []
   },
   "outputs": [
    {
     "data": {
      "application/javascript": [
       "parent.postMessage({\"jupyterEvent\": \"custom.exercise_interaction\", \"data\": {\"interactionType\": 2, \"questionType\": 1, \"questionId\": \"3_CountMissingPrices\", \"learnToolsVersion\": \"0.3.4\", \"valueTowardsCompletion\": 0.0, \"failureMessage\": \"\", \"exceptionClass\": \"\", \"trace\": \"\", \"outcomeType\": 4}}, \"*\")"
      ],
      "text/plain": [
       "<IPython.core.display.Javascript object>"
      ]
     },
     "metadata": {},
     "output_type": "display_data"
    },
    {
     "data": {
      "text/markdown": [
       "<span style=\"color:#3366cc\">Hint:</span> Use `pd.isnull()`."
      ],
      "text/plain": [
       "Hint: Use `pd.isnull()`."
      ]
     },
     "metadata": {},
     "output_type": "display_data"
    },
    {
     "data": {
      "application/javascript": [
       "parent.postMessage({\"jupyterEvent\": \"custom.exercise_interaction\", \"data\": {\"interactionType\": 3, \"questionType\": 1, \"questionId\": \"3_CountMissingPrices\", \"learnToolsVersion\": \"0.3.4\", \"valueTowardsCompletion\": 0.0, \"failureMessage\": \"\", \"exceptionClass\": \"\", \"trace\": \"\", \"outcomeType\": 4}}, \"*\")"
      ],
      "text/plain": [
       "<IPython.core.display.Javascript object>"
      ]
     },
     "metadata": {},
     "output_type": "display_data"
    },
    {
     "data": {
      "text/markdown": [
       "<span style=\"color:#33cc99\">Solution:</span> \n",
       "```python\n",
       "missing_price_reviews = reviews[reviews.price.isnull()]\n",
       "n_missing_prices = len(missing_price_reviews)\n",
       "# Cute alternative solution: if we sum a boolean series, True is treated as 1 and False as 0\n",
       "n_missing_prices = reviews.price.isnull().sum()\n",
       "# or equivalently:\n",
       "n_missing_prices = pd.isnull(reviews.price).sum()\n",
       "\n",
       "```"
      ],
      "text/plain": [
       "Solution: \n",
       "```python\n",
       "missing_price_reviews = reviews[reviews.price.isnull()]\n",
       "n_missing_prices = len(missing_price_reviews)\n",
       "# Cute alternative solution: if we sum a boolean series, True is treated as 1 and False as 0\n",
       "n_missing_prices = reviews.price.isnull().sum()\n",
       "# or equivalently:\n",
       "n_missing_prices = pd.isnull(reviews.price).sum()\n",
       "\n",
       "```"
      ]
     },
     "metadata": {},
     "output_type": "display_data"
    }
   ],
   "source": [
    "q3.hint()\n",
    "q3.solution()"
   ]
  },
  {
   "cell_type": "markdown",
   "id": "9ff4c747",
   "metadata": {
    "papermill": {
     "duration": 0.026129,
     "end_time": "2022-02-26T15:28:05.780743",
     "exception": false,
     "start_time": "2022-02-26T15:28:05.754614",
     "status": "completed"
    },
    "tags": []
   },
   "source": [
    "## 4.\n",
    "What are the most common wine-producing regions? Create a Series counting the number of times each value occurs in the `region_1` field. This field is often missing data, so replace missing values with `Unknown`. Sort in descending order.  Your output should look something like this:\n",
    "\n",
    "```\n",
    "Unknown                    21247\n",
    "Napa Valley                 4480\n",
    "                           ...  \n",
    "Bardolino Superiore            1\n",
    "Primitivo del Tarantino        1\n",
    "Name: region_1, Length: 1230, dtype: int64\n",
    "```"
   ]
  },
  {
   "cell_type": "code",
   "execution_count": 8,
   "id": "6257ce76",
   "metadata": {
    "execution": {
     "iopub.execute_input": "2022-02-26T15:28:05.839350Z",
     "iopub.status.busy": "2022-02-26T15:28:05.838637Z",
     "iopub.status.idle": "2022-02-26T15:28:05.843900Z",
     "shell.execute_reply": "2022-02-26T15:28:05.844396Z"
    },
    "papermill": {
     "duration": 0.037348,
     "end_time": "2022-02-26T15:28:05.844563",
     "exception": false,
     "start_time": "2022-02-26T15:28:05.807215",
     "status": "completed"
    },
    "tags": []
   },
   "outputs": [
    {
     "data": {
      "application/javascript": [
       "parent.postMessage({\"jupyterEvent\": \"custom.exercise_interaction\", \"data\": {\"outcomeType\": 4, \"interactionType\": 1, \"questionType\": 2, \"questionId\": \"4_ReviewsPerRegion\", \"learnToolsVersion\": \"0.3.4\", \"valueTowardsCompletion\": 0.0, \"failureMessage\": \"\", \"exceptionClass\": \"\", \"trace\": \"\"}}, \"*\")"
      ],
      "text/plain": [
       "<IPython.core.display.Javascript object>"
      ]
     },
     "metadata": {},
     "output_type": "display_data"
    },
    {
     "data": {
      "text/markdown": [
       "<span style=\"color:#ccaa33\">Check:</span> When you've updated the starter code, `check()` will tell you whether your code is correct. You need to update the code that creates variable `reviews_per_region`"
      ],
      "text/plain": [
       "Check: When you've updated the starter code, `check()` will tell you whether your code is correct. You need to update the code that creates variable `reviews_per_region`"
      ]
     },
     "metadata": {},
     "output_type": "display_data"
    }
   ],
   "source": [
    "reviews_per_region = ____\n",
    "\n",
    "# Check your answer\n",
    "q4.check()"
   ]
  },
  {
   "cell_type": "code",
   "execution_count": 9,
   "id": "7285aaf5",
   "metadata": {
    "execution": {
     "iopub.execute_input": "2022-02-26T15:28:05.906090Z",
     "iopub.status.busy": "2022-02-26T15:28:05.905354Z",
     "iopub.status.idle": "2022-02-26T15:28:05.912464Z",
     "shell.execute_reply": "2022-02-26T15:28:05.913012Z"
    },
    "papermill": {
     "duration": 0.040872,
     "end_time": "2022-02-26T15:28:05.913188",
     "exception": false,
     "start_time": "2022-02-26T15:28:05.872316",
     "status": "completed"
    },
    "tags": []
   },
   "outputs": [
    {
     "data": {
      "application/javascript": [
       "parent.postMessage({\"jupyterEvent\": \"custom.exercise_interaction\", \"data\": {\"interactionType\": 2, \"questionType\": 2, \"questionId\": \"4_ReviewsPerRegion\", \"learnToolsVersion\": \"0.3.4\", \"valueTowardsCompletion\": 0.0, \"failureMessage\": \"\", \"exceptionClass\": \"\", \"trace\": \"\", \"outcomeType\": 4}}, \"*\")"
      ],
      "text/plain": [
       "<IPython.core.display.Javascript object>"
      ]
     },
     "metadata": {},
     "output_type": "display_data"
    },
    {
     "data": {
      "text/markdown": [
       "<span style=\"color:#3366cc\">Hint:</span> Use `fillna()`, `value_counts()`, and `sort_values()`."
      ],
      "text/plain": [
       "Hint: Use `fillna()`, `value_counts()`, and `sort_values()`."
      ]
     },
     "metadata": {},
     "output_type": "display_data"
    },
    {
     "data": {
      "application/javascript": [
       "parent.postMessage({\"jupyterEvent\": \"custom.exercise_interaction\", \"data\": {\"interactionType\": 3, \"questionType\": 2, \"questionId\": \"4_ReviewsPerRegion\", \"learnToolsVersion\": \"0.3.4\", \"valueTowardsCompletion\": 0.0, \"failureMessage\": \"\", \"exceptionClass\": \"\", \"trace\": \"\", \"outcomeType\": 4}}, \"*\")"
      ],
      "text/plain": [
       "<IPython.core.display.Javascript object>"
      ]
     },
     "metadata": {},
     "output_type": "display_data"
    },
    {
     "data": {
      "text/markdown": [
       "<span style=\"color:#33cc99\">Solution:</span> \n",
       "```python\n",
       "reviews_per_region = reviews.region_1.fillna('Unknown').value_counts().sort_values(ascending=False)\n",
       "```"
      ],
      "text/plain": [
       "Solution: \n",
       "```python\n",
       "reviews_per_region = reviews.region_1.fillna('Unknown').value_counts().sort_values(ascending=False)\n",
       "```"
      ]
     },
     "metadata": {},
     "output_type": "display_data"
    }
   ],
   "source": [
    "q4.hint()\n",
    "q4.solution()"
   ]
  },
  {
   "cell_type": "markdown",
   "id": "360c5d16",
   "metadata": {
    "papermill": {
     "duration": 0.029755,
     "end_time": "2022-02-26T15:28:05.974512",
     "exception": false,
     "start_time": "2022-02-26T15:28:05.944757",
     "status": "completed"
    },
    "tags": []
   },
   "source": [
    "# Keep going\n",
    "\n",
    "Move on to **[renaming and combining](https://www.kaggle.com/residentmario/renaming-and-combining)**."
   ]
  },
  {
   "cell_type": "markdown",
   "id": "9448e1f1",
   "metadata": {
    "papermill": {
     "duration": 0.030001,
     "end_time": "2022-02-26T15:28:06.034799",
     "exception": false,
     "start_time": "2022-02-26T15:28:06.004798",
     "status": "completed"
    },
    "tags": []
   },
   "source": [
    "---\n",
    "\n",
    "\n",
    "\n",
    "\n",
    "*Have questions or comments? Visit the [course discussion forum](https://www.kaggle.com/learn/pandas/discussion) to chat with other learners.*"
   ]
  }
 ],
 "metadata": {
  "kernelspec": {
   "display_name": "Python 3",
   "language": "python",
   "name": "python3"
  },
  "language_info": {
   "codemirror_mode": {
    "name": "ipython",
    "version": 3
   },
   "file_extension": ".py",
   "mimetype": "text/x-python",
   "name": "python",
   "nbconvert_exporter": "python",
   "pygments_lexer": "ipython3",
   "version": "3.7.12"
  },
  "papermill": {
   "default_parameters": {},
   "duration": 14.473995,
   "end_time": "2022-02-26T15:28:06.775780",
   "environment_variables": {},
   "exception": null,
   "input_path": "__notebook__.ipynb",
   "output_path": "__notebook__.ipynb",
   "parameters": {},
   "start_time": "2022-02-26T15:27:52.301785",
   "version": "2.3.3"
  }
 },
 "nbformat": 4,
 "nbformat_minor": 5
}
